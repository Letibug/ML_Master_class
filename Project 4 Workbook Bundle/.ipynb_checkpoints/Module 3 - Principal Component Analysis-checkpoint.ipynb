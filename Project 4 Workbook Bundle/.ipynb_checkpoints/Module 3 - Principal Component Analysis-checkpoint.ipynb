{
 "cells": [
  {
   "cell_type": "markdown",
   "metadata": {},
   "source": [
    "<h1 style=\"font-size:42px; text-align:center; margin-bottom:30px;\"><span style=\"color:SteelBlue\">Module 3:</span> Principal Component Analysis</h1>\n",
    "<hr>\n",
    "\n",
    "Welcome to <span style=\"color:royalblue\">Module 3: Principal Component Analysis</span>!\n",
    "\n",
    "Principal Component Analysis, or PCA, is a popular dimensionality reduction technique.\n",
    "\n",
    "PCA seeks to create new features by finding linear combinations of your original ones. These new features, called **principal components**, are meant to maximize the **\"explained variance,\"** which we'll explain further in the module.\n",
    "\n",
    "* In this module, we'll prepare individual item features for our clustering algorithms, except this time we'll use PCA instead of thresholding.\n",
    "* PCA is especially effective when you have many correlated features.\n",
    "* Important: PCA creates new features that replace the original ones.\n",
    "\n",
    "\n",
    "<br><hr id=\"toc\">\n",
    "\n",
    "### In this module...\n",
    "\n",
    "In this module, we'll cover:\n",
    "1. [Toy example: oval blob](#oval-blob)\n",
    "2. [Principal components](#components)\n",
    "3. [Dimensionality reduction](#reduction)\n",
    "4. [Item data PCA](#item-data)\n",
    "5. [Explained variance](#explained-variance)\n",
    "\n",
    "<br><hr>"
   ]
  },
  {
   "cell_type": "markdown",
   "metadata": {},
   "source": [
    "### First, let's import libraries and load the item data.\n",
    "\n",
    "First, import libraries that you'll need."
   ]
  },
  {
   "cell_type": "code",
   "execution_count": 1,
   "metadata": {
    "collapsed": true
   },
   "outputs": [],
   "source": [
    "# print_function for compatibility with Python 3\n",
    "#from __future__ import print_function\n",
    "\n",
    "# NumPy for numerical computing\n",
    "import numpy as np\n",
    "# Pandas for DataFrames\n",
    "import pandas as pd\n",
    "\n",
    "\n",
    "# Matplotlib for visualization\n",
    "from matplotlib import pyplot as plt\n",
    "\n",
    "# display plots in the notebook\n",
    "%matplotlib inline\n",
    "\n",
    "# Seaborn for easier visualization\n",
    "import seaborn as sns\n"
   ]
  },
  {
   "cell_type": "code",
   "execution_count": 2,
   "metadata": {
    "collapsed": true
   },
   "outputs": [],
   "source": [
    "from sklearn.preprocessing import StandardScaler\n",
    "from sklearn.decomposition import PCA"
   ]
  },
  {
   "cell_type": "markdown",
   "metadata": {},
   "source": [
    "Next, let's import the full item data that we saved in the previous module (before applying thresholds).\n",
    "* Remember, we saved it as <code style=\"color:crimson\">'item_data.csv'</code>.\n",
    "* This time, we'll also pass in the argument <code style=\"color:steelblue\">index_col=0</code> to tell Pandas to treat the first column (CustomerID) as the index."
   ]
  },
  {
   "cell_type": "code",
   "execution_count": 3,
   "metadata": {
    "collapsed": true
   },
   "outputs": [],
   "source": [
    "# Read item_data.csv\n",
    "item_data = pd.read_csv('item_data.csv', index_col=0)"
   ]
  },
  {
   "cell_type": "markdown",
   "metadata": {},
   "source": [
    "Just to confirm, this dataset should have 2574 features:"
   ]
  },
  {
   "cell_type": "code",
   "execution_count": 4,
   "metadata": {},
   "outputs": [
    {
     "data": {
      "text/plain": [
       "(414, 2574)"
      ]
     },
     "execution_count": 4,
     "metadata": {},
     "output_type": "execute_result"
    }
   ],
   "source": [
    "# Display item_data's shape\n",
    "item_data.shape"
   ]
  },
  {
   "cell_type": "markdown",
   "metadata": {},
   "source": [
    "<span id=\"oval-blob\"></span>\n",
    "# 1. Toy example: oval blob\n",
    "\n",
    "PCA is an elegant technique that's very practical, but it can be a bit hard to try it on our larger dataset right away.\n",
    "\n",
    "Instead, let's first use one last toy example to break down the intuition behind PCA.\n",
    "\n",
    "<br>\n",
    "**First, we'll create an \"oval blob\" synthetic dataset.**\n",
    "* Instead of both input features and a target variable, we'll only have 2 input features.\n",
    "* $x_1$ will be random samples from a normal distribution.\n",
    "* $x_2$ will be random samples from a normal distribution **plus $x_1$**."
   ]
  },
  {
   "cell_type": "code",
   "execution_count": 5,
   "metadata": {
    "collapsed": true
   },
   "outputs": [],
   "source": [
    "# Set random seed\n",
    "np.random.seed(101)\n",
    "\n",
    "# Create first feature: x1\n",
    "x1 = np.random.normal(0, 1, 100)\n",
    "\n",
    "# Create second feature: x2\n",
    "x2 = x1 + np.random.normal(0, 1, 100)"
   ]
  },
  {
   "cell_type": "markdown",
   "metadata": {},
   "source": [
    "**Let's stack them together to form <code style=\"color:steelblue\">X</code>, our input feature matrix.**\n",
    "* We'll skip putting them in a Pandas DataFrame.\n",
    "* Instead, we'll just stack them together as two separate columns in a matrix."
   ]
  },
  {
   "cell_type": "code",
   "execution_count": 13,
   "metadata": {},
   "outputs": [
    {
     "data": {
      "text/plain": [
       "(100, 2)"
      ]
     },
     "execution_count": 13,
     "metadata": {},
     "output_type": "execute_result"
    }
   ],
   "source": [
    "np.vstack([x1,x2]).T.shape"
   ]
  },
  {
   "cell_type": "code",
   "execution_count": 14,
   "metadata": {
    "scrolled": true
   },
   "outputs": [
    {
     "data": {
      "text/plain": [
       "(100, 2)"
      ]
     },
     "execution_count": 14,
     "metadata": {},
     "output_type": "execute_result"
    }
   ],
   "source": [
    "# Stack together as columns\n",
    "X = np.stack([x1, x2], axis=1)\n",
    "\n",
    "# Print shape of X\n",
    "X.shape"
   ]
  },
  {
   "cell_type": "markdown",
   "metadata": {},
   "source": [
    "**Create a scaled version of your feature matrix and name it <code style=\"color:steelblue\">X_scaled</code>.**\n",
    "* You'll want to use <code style=\"color:steelblue\">StandardScaler</code>.\n",
    "* **Tip:** To fit and apply a transformation in one line of code, you can use the <code style=\"color:steelblue\">.fit_transform()</code> function.\n",
    "* Then, display the first 5 rows. \n",
    "    * You can't use <code style=\"color:steelblue\">.head()</code> because it's not a dataframe.\n",
    "    * You must **index/slice the array** instead."
   ]
  },
  {
   "cell_type": "code",
   "execution_count": 15,
   "metadata": {},
   "outputs": [
    {
     "data": {
      "text/plain": [
       "array([[ 2.45737416,  2.76968241],\n",
       "       [ 0.44665735, -0.38363275],\n",
       "       [ 0.71733989, -0.37695455],\n",
       "       [ 0.3264168 , -0.60579169],\n",
       "       [ 0.46889068,  0.39146426]])"
      ]
     },
     "execution_count": 15,
     "metadata": {},
     "output_type": "execute_result"
    }
   ],
   "source": [
    "# Initialize instance of StandardScaler\n",
    "scaler = StandardScaler()\n",
    "\n",
    "# Fit and transform X\n",
    "X_scaled = scaler.fit_transform(X)\n",
    "\n",
    "# Display first 5 rows of X_scaled\n",
    "X_scaled[:5]"
   ]
  },
  {
   "cell_type": "markdown",
   "metadata": {},
   "source": [
    "**Plot a scatterplot of the scaled $x_1$ against the scaled $x_2$.**\n",
    "* Label your axes as <code style=\"color:crimson\">x1 (scaled)</code> and <code style=\"color:crimson\">x2 (scaled)</code>.\n",
    "* **Tip:** Call <code style=\"color:steelblue\">plt.axis('equal')</code> after your scatterplot to put your plot's axes on the same scale.\n",
    "* We have a recommended plot below. See the Answer Key for how to create it."
   ]
  },
  {
   "cell_type": "code",
   "execution_count": 17,
   "metadata": {},
   "outputs": [
    {
     "data": {
      "image/png": "[encoded data removed]",
      "text/plain": [
       "<matplotlib.figure.Figure at 0x10c8c7eb8>"
      ]
     },
     "metadata": {},
     "output_type": "display_data"
    }
   ],
   "source": [
    "# Plot scatterplot of scaled x1 against scaled x2\n",
    "plt.scatter(X_scaled[:,0], X_scaled[:,1])\n",
    "# Put plot axes on the same scale\n",
    "plt.axis('equal')\n",
    "\n",
    "\n",
    "# Label axes\n",
    "plt.xlabel('x1 (scaled)')\n",
    "plt.ylabel('x2 (scaled)')\n",
    "# Clear text residue\n",
    "plt.show()"
   ]
  },
  {
   "cell_type": "markdown",
   "metadata": {},
   "source": [
    "<p style=\"text-align:center; margin: 40px 0 40px 0; font-weight:bold\">\n",
    "<a href=\"#toc\">Back to Contents</a>\n",
    "</p>"
   ]
  },
  {
   "cell_type": "markdown",
   "metadata": {},
   "source": [
    "<span id=\"components\"></span>\n",
    "# 2. Principal components\n",
    "\n",
    "As it turns out, this type of distribution is very helpful for visualizing the mechanics behind PCA.\n",
    "\n",
    "<br>\n",
    "**First, add the following import line to your library imports above. Then, re-run that code cell.**\n",
    "\n",
    "<pre style=\"color:steelblue\">\n",
    "from sklearn.decomposition import PCA\n",
    "</pre>\n",
    "\n",
    "<br>\n",
    "**Next, we can initialize an instance of the PCA transformation.**\n",
    "* This is just as we did for the StandardScaler transformation. \n",
    "* Then, we can fit the instance with just one line of code."
   ]
  },
  {
   "cell_type": "code",
   "execution_count": 18,
   "metadata": {},
   "outputs": [
    {
     "data": {
      "text/plain": [
       "PCA(copy=True, iterated_power='auto', n_components=None, random_state=None,\n",
       "  svd_solver='auto', tol=0.0, whiten=False)"
      ]
     },
     "execution_count": 18,
     "metadata": {},
     "output_type": "execute_result"
    }
   ],
   "source": [
    "# Initialize instance of PCA transformation\n",
    "pca = PCA()\n",
    "\n",
    "# Fit the instance\n",
    "pca.fit(X_scaled)"
   ]
  },
  {
   "cell_type": "markdown",
   "metadata": {},
   "source": [
    "**Let's display the principal components.**"
   ]
  },
  {
   "cell_type": "code",
   "execution_count": 19,
   "metadata": {
    "scrolled": true
   },
   "outputs": [
    {
     "data": {
      "text/plain": [
       "array([[ 0.70710678,  0.70710678],\n",
       "       [-0.70710678,  0.70710678]])"
      ]
     },
     "execution_count": 19,
     "metadata": {},
     "output_type": "execute_result"
    }
   ],
   "source": [
    "# Display principal components\n",
    "pca.components_"
   ]
  },
  {
   "cell_type": "markdown",
   "metadata": {},
   "source": [
    "**Next, let's overlay the principal components on our oval blob.**\n",
    "* We'll make the oval blob semi-transparent so we can see the principal components more easily.\n",
    "* For clarity, we'll plot the first principal component in **black**, and we'll make it twice as long.\n",
    "* We'll plot the second principal component in <strong style=\"color:red\">red</strong>."
   ]
  },
  {
   "cell_type": "code",
   "execution_count": 14,
   "metadata": {},
   "outputs": [
    {
     "data": {
      "image/png": "[encoded data removed]",
      "text/plain": [
       "<matplotlib.figure.Figure at 0x10fec2a50>"
      ]
     },
     "metadata": {},
     "output_type": "display_data"
    }
   ],
   "source": [
    "# Plot scaled dataset and make it partially transparent\n",
    "plt.scatter(X_scaled[:,0], X_scaled[:,1], alpha=0.3)\n",
    "\n",
    "# Plot first principal component in black\n",
    "plt.plot([0, 2*pca.components_[0,0]], [0, 2*pca.components_[0,1]], 'k')\n",
    "\n",
    "# Plot second principal component in red\n",
    "plt.plot([0, pca.components_[1,0]], [0, pca.components_[1,1]], 'r')\n",
    "\n",
    "# Set axes\n",
    "plt.axis('equal')\n",
    "plt.xlabel('x1 (scaled)')\n",
    "plt.ylabel('y1 (scaled)')\n",
    "\n",
    "\n",
    "# Clear text residue\n",
    "plt.show()"
   ]
  },
  {
   "cell_type": "markdown",
   "metadata": {},
   "source": [
    "**Finally, we can transform our original features using the fitted PCA instance.**\n",
    "* Remember, PCA generates new features that **replace** the original ones.\n",
    "* We'll name these new features <code style=\"color:crimson\">PC</code> (short for \"principal component\") to indicate that they are generated from PCA."
   ]
  },
  {
   "cell_type": "code",
   "execution_count": 20,
   "metadata": {
    "collapsed": true
   },
   "outputs": [],
   "source": [
    "# Generate new features\n",
    "PC = pca.transform(X_scaled)"
   ]
  },
  {
   "cell_type": "code",
   "execution_count": 21,
   "metadata": {},
   "outputs": [
    {
     "data": {
      "image/png": "[encoded data removed]",
      "text/plain": [
       "<matplotlib.figure.Figure at 0x10cb13908>"
      ]
     },
     "metadata": {},
     "output_type": "display_data"
    }
   ],
   "source": [
    "# Plot transformed dataset\n",
    "plt.scatter(PC[:,0], PC[:,1], alpha=0.3, color='g')\n",
    "\n",
    "# Plot first principal component in black\n",
    "plt.plot([0, 2], [0,0], 'k')\n",
    "\n",
    "# Plot second principal component in red\n",
    "plt.plot([0,0], [0,1], 'r')\n",
    "\n",
    "# Set axes\n",
    "plt.axis('equal')\n",
    "plt.xlabel('PC1')\n",
    "plt.ylabel('PC2')\n",
    "\n",
    "# Clear text residue\n",
    "plt.show()"
   ]
  },
  {
   "cell_type": "markdown",
   "metadata": {},
   "source": [
    "<p style=\"text-align:center; margin: 40px 0 40px 0; font-weight:bold\">\n",
    "<a href=\"#toc\">Back to Contents</a>\n",
    "</p>"
   ]
  },
  {
   "cell_type": "markdown",
   "metadata": {},
   "source": [
    "<span id=\"reduction\"></span>\n",
    "# 3. Dimensionality reduction\n",
    "\n",
    "Here's where dimensionality reduction comes into play. You can just keep some number of the \"best\" components, a.k.a. the ones that explain the most variance.\n",
    "\n",
    "<br>\n",
    "**First, display the \"explained variance\" ratio of each component.**"
   ]
  },
  {
   "cell_type": "code",
   "execution_count": 22,
   "metadata": {},
   "outputs": [
    {
     "data": {
      "text/plain": [
       "array([ 0.86915841,  0.13084159])"
      ]
     },
     "execution_count": 22,
     "metadata": {},
     "output_type": "execute_result"
    }
   ],
   "source": [
    "# Display explained variance ratio\n",
    "pca.explained_variance_ratio_"
   ]
  },
  {
   "cell_type": "markdown",
   "metadata": {},
   "source": [
    "**To keep only 1 component, we can simply initialize and fit another PCA transformation.**\n",
    "* This time, we'll simply pass the argument <code style=\"color:steelblue\">n_components=1</code>."
   ]
  },
  {
   "cell_type": "code",
   "execution_count": 23,
   "metadata": {},
   "outputs": [
    {
     "data": {
      "text/plain": [
       "PCA(copy=True, iterated_power='auto', n_components=1, random_state=None,\n",
       "  svd_solver='auto', tol=0.0, whiten=False)"
      ]
     },
     "execution_count": 23,
     "metadata": {},
     "output_type": "execute_result"
    }
   ],
   "source": [
    "# Initialize and fit a PCA transformation, only keeping 1 component\n",
    "pca = PCA(n_components=1)\n",
    "pca.fit(X_scaled)\n"
   ]
  },
  {
   "cell_type": "code",
   "execution_count": 24,
   "metadata": {},
   "outputs": [
    {
     "data": {
      "text/plain": [
       "array([[ 0.70710678,  0.70710678]])"
      ]
     },
     "execution_count": 24,
     "metadata": {},
     "output_type": "execute_result"
    }
   ],
   "source": [
    "# Display principal components\n",
    "pca.components_"
   ]
  },
  {
   "cell_type": "code",
   "execution_count": 25,
   "metadata": {},
   "outputs": [
    {
     "name": "stdout",
     "output_type": "stream",
     "text": [
      "(100, 1)\n"
     ]
    }
   ],
   "source": [
    "# Generate new features\n",
    "PC = pca.transform(X_scaled)\n",
    "print(PC.shape)"
   ]
  },
  {
   "cell_type": "code",
   "execution_count": 26,
   "metadata": {},
   "outputs": [
    {
     "data": {
      "image/png": "[encoded data removed]",
      "text/plain": [
       "<matplotlib.figure.Figure at 0x10e6c35c0>"
      ]
     },
     "metadata": {},
     "output_type": "display_data"
    }
   ],
   "source": [
    "# Plot transformed dataset\n",
    "plt.scatter(PC[:,0], len(PC)*[0], alpha=0.3, color='g')\n",
    "\n",
    "\n",
    "# Plot first principal component in black\n",
    "plt.plot([0,2],[0,0], 'k')\n",
    "\n",
    "# Set axes\n",
    "plt.axis('equal')\n",
    "plt.xlabel('PC1')\n",
    "\n",
    "# Clear text residue\n",
    "plt.show()"
   ]
  },
  {
   "cell_type": "code",
   "execution_count": 27,
   "metadata": {},
   "outputs": [
    {
     "data": {
      "text/plain": [
       "array([ 0.86915841])"
      ]
     },
     "execution_count": 27,
     "metadata": {},
     "output_type": "execute_result"
    }
   ],
   "source": [
    "pca.explained_variance_ratio_"
   ]
  },
  {
   "cell_type": "markdown",
   "metadata": {},
   "source": [
    "<p style=\"text-align:center; margin: 40px 0 40px 0; font-weight:bold\">\n",
    "<a href=\"#toc\">Back to Contents</a>\n",
    "</p>"
   ]
  },
  {
   "cell_type": "markdown",
   "metadata": {},
   "source": [
    "<span id=\"item-data\"></span>\n",
    "# 4. Item data PCA\n",
    "\n",
    "Now let's get back to our project.\n",
    "\n",
    "<br>\n",
    "**First, scale <code style=\"color:crimson\">item_data</code>, which you imported at the beginning of this module.**\n",
    "* Name the scaled dataset <code style=\"color:crimson\">item_data_scaled</code>.\n",
    "* Then, display the first 5 rows. \n",
    "    * You can't use <code style=\"color:steelblue\">.head()</code> because it's not a dataframe.\n",
    "    * You must **index/slice the array** instead."
   ]
  },
  {
   "cell_type": "code",
   "execution_count": 30,
   "metadata": {},
   "outputs": [
    {
     "data": {
      "text/plain": [
       "array([[-0.13303802, -0.04920678, -0.1119152 , ..., -0.10482848,\n",
       "        -0.15568183, -0.68068072],\n",
       "       [-0.13303802, -0.04920678, -0.1119152 , ..., -0.10482848,\n",
       "        -0.15568183,  0.38776219],\n",
       "       [-0.13303802, -0.04920678, -0.1119152 , ..., -0.10482848,\n",
       "        -0.15568183, -0.41356999],\n",
       "       [-0.13303802, -0.04920678, -0.1119152 , ..., -0.10482848,\n",
       "        -0.15568183, -0.41356999],\n",
       "       [-0.13303802, -0.04920678, -0.1119152 , ..., -0.10482848,\n",
       "         5.53128397,  0.65487292]])"
      ]
     },
     "execution_count": 30,
     "metadata": {},
     "output_type": "execute_result"
    }
   ],
   "source": [
    "# Initialize instance of StandardScaler\n",
    "sc = StandardScaler()\n",
    "\n",
    "# Fit and transform item_data\n",
    "item_data_scaled = scaler.fit_transform(item_data)\n",
    "# Display first 5 rows of item_data_scaled\n",
    "item_data_scaled[:5]"
   ]
  },
  {
   "cell_type": "markdown",
   "metadata": {},
   "source": [
    "**Next, initialize and fit an instance of the PCA transformation.**\n",
    "* Keep all of the components for now (just don't pass in any argument)."
   ]
  },
  {
   "cell_type": "code",
   "execution_count": 31,
   "metadata": {},
   "outputs": [
    {
     "data": {
      "text/plain": [
       "PCA(copy=True, iterated_power='auto', n_components=None, random_state=None,\n",
       "  svd_solver='auto', tol=0.0, whiten=False)"
      ]
     },
     "execution_count": 31,
     "metadata": {},
     "output_type": "execute_result"
    }
   ],
   "source": [
    "# Initialize and fit a PCA transformation\n",
    "pca = PCA()\n",
    "pca.fit(item_data_scaled)"
   ]
  },
  {
   "cell_type": "markdown",
   "metadata": {},
   "source": [
    "**Finally, generate new \"principal component features\" from <code style=\"color:crimson\">item_data_scaled</code>.**\n",
    "* Name the new array <code style=\"color:crimson\">PC_items</code>.\n",
    "* Then, display the first 5 rows."
   ]
  },
  {
   "cell_type": "code",
   "execution_count": 37,
   "metadata": {},
   "outputs": [
    {
     "data": {
      "text/plain": [
       "(414, 2574)"
      ]
     },
     "execution_count": 37,
     "metadata": {},
     "output_type": "execute_result"
    }
   ],
   "source": [
    "item_data_scaled.shape"
   ]
  },
  {
   "cell_type": "code",
   "execution_count": 39,
   "metadata": {},
   "outputs": [
    {
     "data": {
      "text/plain": [
       "2574"
      ]
     },
     "execution_count": 39,
     "metadata": {},
     "output_type": "execute_result"
    }
   ],
   "source": [
    "pca.n_components_"
   ]
  },
  {
   "cell_type": "code",
   "execution_count": 42,
   "metadata": {},
   "outputs": [
    {
     "data": {
      "text/plain": [
       "1.0"
      ]
     },
     "execution_count": 42,
     "metadata": {},
     "output_type": "execute_result"
    }
   ],
   "source": [
    "pca.explained_variance_ratio_.sum()"
   ]
  },
  {
   "cell_type": "code",
   "execution_count": 35,
   "metadata": {},
   "outputs": [
    {
     "data": {
      "text/plain": [
       "array([[  5.87614052e+00,   4.82891689e+00,  -4.95545069e-01, ...,\n",
       "         -6.62646278e-04,  -4.43629806e-05,   2.03934092e-14],\n",
       "       [ -4.21983747e+00,   1.22621722e+00,  -1.88191211e+00, ...,\n",
       "         -2.11471782e-04,  -2.69154340e-04,   4.49965586e-15],\n",
       "       [ -1.26084676e+00,   2.38766371e+00,  -7.31483440e-02, ...,\n",
       "          2.57750179e-04,  -2.05682324e-04,   7.56339436e-15],\n",
       "       [ -4.92931983e+00,  -7.14858724e-01,  -1.58093026e+00, ...,\n",
       "         -1.98603886e-03,   9.92316312e-05,   8.75341466e-15],\n",
       "       [ -2.05311348e+00,   2.11095022e+00,   1.84807021e-01, ...,\n",
       "         -3.43415269e-04,  -1.32981672e-04,  -2.49737730e-13]])"
      ]
     },
     "execution_count": 35,
     "metadata": {},
     "output_type": "execute_result"
    }
   ],
   "source": [
    "# Generate new features\n",
    "PC_items = pca.transform(item_data_scaled)\n",
    "\n",
    "# Display first 5 rows\n",
    "PC_items[:5]"
   ]
  },
  {
   "cell_type": "code",
   "execution_count": 36,
   "metadata": {},
   "outputs": [
    {
     "data": {
      "text/plain": [
       "(414, 414)"
      ]
     },
     "execution_count": 36,
     "metadata": {},
     "output_type": "execute_result"
    }
   ],
   "source": [
    "PC_items.shape"
   ]
  },
  {
   "cell_type": "markdown",
   "metadata": {},
   "source": [
    "<p style=\"text-align:center; margin: 40px 0 40px 0; font-weight:bold\">\n",
    "<a href=\"#toc\">Back to Contents</a>\n",
    "</p>"
   ]
  },
  {
   "cell_type": "markdown",
   "metadata": {},
   "source": [
    "<span id=\"explained-variance\"></span>\n",
    "# 5. Explained variance\n",
    "\n",
    "Earlier, we already saw how to display the **explained variance ratio** for each of the principal components.\n",
    "\n",
    "<br>\n",
    "**It's very helpful to calculate and plot the <u>cumulative</u> explained variance.**\n",
    "* This will tell us the total amount of variance we'd capture if we kept up to the n-th component.\n",
    "* First, we'll use <code style=\"color:steelblue\">np.cumsum()</code> to calculate the cumulative explained variance.\n",
    "* Then, we'll plot it so we can see how many $PC$ features we'd need to keep in order to capture most of the original variance."
   ]
  },
  {
   "cell_type": "code",
   "execution_count": 38,
   "metadata": {},
   "outputs": [
    {
     "data": {
      "text/plain": [
       "[<matplotlib.lines.Line2D at 0x10e74ffd0>]"
      ]
     },
     "execution_count": 38,
     "metadata": {},
     "output_type": "execute_result"
    },
    {
     "data": {
      "image/png": "[encoded data removed]",
      "text/plain": [
       "<matplotlib.figure.Figure at 0x11016f550>"
      ]
     },
     "metadata": {},
     "output_type": "display_data"
    }
   ],
   "source": [
    "# Cumulative explained variance\n",
    "cumulative_explained_variance = np.cumsum(pca.explained_variance_ratio_)\n",
    "\n",
    "# Plot cumulative explained variance\n",
    "plt.plot(range(len(cumulative_explained_variance)), cumulative_explained_variance)"
   ]
  },
  {
   "cell_type": "code",
   "execution_count": 43,
   "metadata": {},
   "outputs": [
    {
     "data": {
      "text/plain": [
       "0.79550690322053985"
      ]
     },
     "execution_count": 43,
     "metadata": {},
     "output_type": "execute_result"
    }
   ],
   "source": [
    "# How much variance we'd capture with the first 125 components\n",
    "cumulative_explained_variance[124]"
   ]
  },
  {
   "cell_type": "markdown",
   "metadata": {},
   "source": [
    "**Initialize and fit another PCA transformation.**\n",
    "* This time, only keep 125 components.\n",
    "* Generate the principal component features from the fitted instance and name the new matrix <code style=\"color:crimson\">PC_items</code>.\n",
    "* Then, display the shape of <code style=\"color:crimson\">PC_items</code> to confirm it only has 125 features."
   ]
  },
  {
   "cell_type": "code",
   "execution_count": 44,
   "metadata": {},
   "outputs": [
    {
     "data": {
      "text/plain": [
       "(414, 125)"
      ]
     },
     "execution_count": 44,
     "metadata": {},
     "output_type": "execute_result"
    }
   ],
   "source": [
    "# Initialize PCA transformation, only keeping 125 components\n",
    "pca = PCA(n_components=125)\n",
    "\n",
    "# Fit and transform item_data_scaled\n",
    "PC_items = pca.fit_transform(item_data_scaled)\n",
    "\n",
    "# Display shape of PC_items\n",
    "PC_items.shape"
   ]
  },
  {
   "cell_type": "markdown",
   "metadata": {},
   "source": [
    "**Next, for convenience, let's put <code style=\"color:crimson\">PC_items</code> into a new dataframe.**\n",
    "* We'll also name the columns and update its index to be the same as the orginal <code style=\"color:crimson\">item_data</code>'s index."
   ]
  },
  {
   "cell_type": "code",
   "execution_count": 45,
   "metadata": {},
   "outputs": [
    {
     "data": {
      "text/html": [
       "<div>\n",
       "<style>\n",
       "    .dataframe thead tr:only-child th {\n",
       "        text-align: right;\n",
       "    }\n",
       "\n",
       "    .dataframe thead th {\n",
       "        text-align: left;\n",
       "    }\n",
       "\n",
       "    .dataframe tbody tr th {\n",
       "        vertical-align: top;\n",
       "    }\n",
       "</style>\n",
       "<table border=\"1\" class=\"dataframe\">\n",
       "  <thead>\n",
       "    <tr style=\"text-align: right;\">\n",
       "      <th></th>\n",
       "      <th>PC1</th>\n",
       "      <th>PC2</th>\n",
       "      <th>PC3</th>\n",
       "      <th>PC4</th>\n",
       "      <th>PC5</th>\n",
       "      <th>PC6</th>\n",
       "      <th>PC7</th>\n",
       "      <th>PC8</th>\n",
       "      <th>PC9</th>\n",
       "      <th>PC10</th>\n",
       "      <th>...</th>\n",
       "      <th>PC116</th>\n",
       "      <th>PC117</th>\n",
       "      <th>PC118</th>\n",
       "      <th>PC119</th>\n",
       "      <th>PC120</th>\n",
       "      <th>PC121</th>\n",
       "      <th>PC122</th>\n",
       "      <th>PC123</th>\n",
       "      <th>PC124</th>\n",
       "      <th>PC125</th>\n",
       "    </tr>\n",
       "    <tr>\n",
       "      <th>CustomerID</th>\n",
       "      <th></th>\n",
       "      <th></th>\n",
       "      <th></th>\n",
       "      <th></th>\n",
       "      <th></th>\n",
       "      <th></th>\n",
       "      <th></th>\n",
       "      <th></th>\n",
       "      <th></th>\n",
       "      <th></th>\n",
       "      <th></th>\n",
       "      <th></th>\n",
       "      <th></th>\n",
       "      <th></th>\n",
       "      <th></th>\n",
       "      <th></th>\n",
       "      <th></th>\n",
       "      <th></th>\n",
       "      <th></th>\n",
       "      <th></th>\n",
       "      <th></th>\n",
       "    </tr>\n",
       "  </thead>\n",
       "  <tbody>\n",
       "    <tr>\n",
       "      <th>12347</th>\n",
       "      <td>5.876141</td>\n",
       "      <td>4.828892</td>\n",
       "      <td>-0.495543</td>\n",
       "      <td>3.093843</td>\n",
       "      <td>-0.633702</td>\n",
       "      <td>-11.534085</td>\n",
       "      <td>2.161913</td>\n",
       "      <td>7.116797</td>\n",
       "      <td>5.336110</td>\n",
       "      <td>4.424089</td>\n",
       "      <td>...</td>\n",
       "      <td>-0.007766</td>\n",
       "      <td>-0.779199</td>\n",
       "      <td>0.613359</td>\n",
       "      <td>-0.330509</td>\n",
       "      <td>-0.004962</td>\n",
       "      <td>-0.045697</td>\n",
       "      <td>0.148163</td>\n",
       "      <td>-0.061750</td>\n",
       "      <td>-0.198612</td>\n",
       "      <td>-0.269058</td>\n",
       "    </tr>\n",
       "    <tr>\n",
       "      <th>12348</th>\n",
       "      <td>-4.219839</td>\n",
       "      <td>1.226195</td>\n",
       "      <td>-1.881922</td>\n",
       "      <td>-0.174302</td>\n",
       "      <td>0.817768</td>\n",
       "      <td>1.160852</td>\n",
       "      <td>-0.871961</td>\n",
       "      <td>-0.846827</td>\n",
       "      <td>0.460120</td>\n",
       "      <td>0.854323</td>\n",
       "      <td>...</td>\n",
       "      <td>-1.904435</td>\n",
       "      <td>0.075644</td>\n",
       "      <td>-0.955823</td>\n",
       "      <td>1.409611</td>\n",
       "      <td>0.724342</td>\n",
       "      <td>0.464916</td>\n",
       "      <td>1.907702</td>\n",
       "      <td>-1.416770</td>\n",
       "      <td>1.121250</td>\n",
       "      <td>-2.946993</td>\n",
       "    </tr>\n",
       "    <tr>\n",
       "      <th>12349</th>\n",
       "      <td>-1.260838</td>\n",
       "      <td>2.387828</td>\n",
       "      <td>-0.073097</td>\n",
       "      <td>-1.118903</td>\n",
       "      <td>-0.034546</td>\n",
       "      <td>-3.715325</td>\n",
       "      <td>-0.342738</td>\n",
       "      <td>-0.149002</td>\n",
       "      <td>-0.789685</td>\n",
       "      <td>-0.377883</td>\n",
       "      <td>...</td>\n",
       "      <td>4.595645</td>\n",
       "      <td>-4.527504</td>\n",
       "      <td>-2.370799</td>\n",
       "      <td>-3.396166</td>\n",
       "      <td>-3.419379</td>\n",
       "      <td>-1.304617</td>\n",
       "      <td>3.845541</td>\n",
       "      <td>0.807568</td>\n",
       "      <td>-4.652684</td>\n",
       "      <td>2.594639</td>\n",
       "    </tr>\n",
       "    <tr>\n",
       "      <th>12350</th>\n",
       "      <td>-4.929319</td>\n",
       "      <td>-0.714874</td>\n",
       "      <td>-1.581119</td>\n",
       "      <td>-0.469789</td>\n",
       "      <td>-0.116164</td>\n",
       "      <td>0.647736</td>\n",
       "      <td>0.112682</td>\n",
       "      <td>-1.336327</td>\n",
       "      <td>1.547287</td>\n",
       "      <td>-1.190830</td>\n",
       "      <td>...</td>\n",
       "      <td>-1.869817</td>\n",
       "      <td>-0.460085</td>\n",
       "      <td>-1.192275</td>\n",
       "      <td>-0.596812</td>\n",
       "      <td>-0.808693</td>\n",
       "      <td>0.373854</td>\n",
       "      <td>-0.282510</td>\n",
       "      <td>-0.819361</td>\n",
       "      <td>-1.010051</td>\n",
       "      <td>0.363232</td>\n",
       "    </tr>\n",
       "    <tr>\n",
       "      <th>12352</th>\n",
       "      <td>-2.053129</td>\n",
       "      <td>2.110788</td>\n",
       "      <td>0.184844</td>\n",
       "      <td>0.128379</td>\n",
       "      <td>0.087133</td>\n",
       "      <td>-1.943497</td>\n",
       "      <td>2.383475</td>\n",
       "      <td>0.898283</td>\n",
       "      <td>-0.672848</td>\n",
       "      <td>0.081181</td>\n",
       "      <td>...</td>\n",
       "      <td>1.695937</td>\n",
       "      <td>8.096258</td>\n",
       "      <td>10.325739</td>\n",
       "      <td>-8.947321</td>\n",
       "      <td>-3.582689</td>\n",
       "      <td>-2.078227</td>\n",
       "      <td>3.346192</td>\n",
       "      <td>5.183793</td>\n",
       "      <td>0.928319</td>\n",
       "      <td>-1.933235</td>\n",
       "    </tr>\n",
       "  </tbody>\n",
       "</table>\n",
       "<p>5 rows × 125 columns</p>\n",
       "</div>"
      ],
      "text/plain": [
       "                 PC1       PC2       PC3       PC4       PC5        PC6  \\\n",
       "CustomerID                                                                \n",
       "12347       5.876141  4.828892 -0.495543  3.093843 -0.633702 -11.534085   \n",
       "12348      -4.219839  1.226195 -1.881922 -0.174302  0.817768   1.160852   \n",
       "12349      -1.260838  2.387828 -0.073097 -1.118903 -0.034546  -3.715325   \n",
       "12350      -4.929319 -0.714874 -1.581119 -0.469789 -0.116164   0.647736   \n",
       "12352      -2.053129  2.110788  0.184844  0.128379  0.087133  -1.943497   \n",
       "\n",
       "                 PC7       PC8       PC9      PC10    ...        PC116  \\\n",
       "CustomerID                                            ...                \n",
       "12347       2.161913  7.116797  5.336110  4.424089    ...    -0.007766   \n",
       "12348      -0.871961 -0.846827  0.460120  0.854323    ...    -1.904435   \n",
       "12349      -0.342738 -0.149002 -0.789685 -0.377883    ...     4.595645   \n",
       "12350       0.112682 -1.336327  1.547287 -1.190830    ...    -1.869817   \n",
       "12352       2.383475  0.898283 -0.672848  0.081181    ...     1.695937   \n",
       "\n",
       "               PC117      PC118     PC119     PC120     PC121     PC122  \\\n",
       "CustomerID                                                                \n",
       "12347      -0.779199   0.613359 -0.330509 -0.004962 -0.045697  0.148163   \n",
       "12348       0.075644  -0.955823  1.409611  0.724342  0.464916  1.907702   \n",
       "12349      -4.527504  -2.370799 -3.396166 -3.419379 -1.304617  3.845541   \n",
       "12350      -0.460085  -1.192275 -0.596812 -0.808693  0.373854 -0.282510   \n",
       "12352       8.096258  10.325739 -8.947321 -3.582689 -2.078227  3.346192   \n",
       "\n",
       "               PC123     PC124     PC125  \n",
       "CustomerID                                \n",
       "12347      -0.061750 -0.198612 -0.269058  \n",
       "12348      -1.416770  1.121250 -2.946993  \n",
       "12349       0.807568 -4.652684  2.594639  \n",
       "12350      -0.819361 -1.010051  0.363232  \n",
       "12352       5.183793  0.928319 -1.933235  \n",
       "\n",
       "[5 rows x 125 columns]"
      ]
     },
     "execution_count": 45,
     "metadata": {},
     "output_type": "execute_result"
    }
   ],
   "source": [
    "# Put PC_items into a dataframe\n",
    "items_pca = pd.DataFrame(PC_items)\n",
    "\n",
    "# Name the columns\n",
    "items_pca.columns = ['PC{}'.format(i + 1) for i in range(PC_items.shape[1])]\n",
    "\n",
    "# Update its index\n",
    "items_pca.index = item_data.index\n",
    "\n",
    "# Display first 5 rows\n",
    "items_pca.head()"
   ]
  },
  {
   "cell_type": "code",
   "execution_count": 48,
   "metadata": {},
   "outputs": [
    {
     "data": {
      "text/plain": [
       "0.79314745413480181"
      ]
     },
     "execution_count": 48,
     "metadata": {},
     "output_type": "execute_result"
    }
   ],
   "source": [
    "pca.explained_variance_ratio_.sum()"
   ]
  },
  {
   "cell_type": "markdown",
   "metadata": {},
   "source": [
    "**Finally, save this item dataframe with PCA features as <code style=\"color:crimson\">'pca_item_data.csv'</code>.**\n",
    "* In <span style=\"color:royalblue\">Module 4</span>, we'll compare the clusters made from using these features against those in <code style=\"color:crimson\">'threshold_item_data.csv'</code>.\n",
    "* Do **not** set <code style=\"color:steelblue\">index=None</code> because we want to keep the CustomerID's as the index."
   ]
  },
  {
   "cell_type": "code",
   "execution_count": 37,
   "metadata": {
    "collapsed": true
   },
   "outputs": [],
   "source": [
    "# Save pca_item_data.csv\n",
    "items_pca.to_csv('pca_item_data.csv')"
   ]
  },
  {
   "cell_type": "markdown",
   "metadata": {},
   "source": [
    "<p style=\"text-align:center; margin: 40px 0 40px 0; font-weight:bold\">\n",
    "<a href=\"#toc\">Back to Contents</a>\n",
    "</p>"
   ]
  },
  {
   "cell_type": "markdown",
   "metadata": {},
   "source": [
    "<br>\n",
    "## Next Steps\n",
    "\n",
    "Congratulations for making it through Project 4's Principal Component Analysis!\n",
    "\n",
    "As a reminder, here are a few things you did in this module:\n",
    "* You saw how PCA works on an oval blob.\n",
    "* You contrasted plots of the original features against plots of the principal component features.\n",
    "* You learned how to intepret cumulative explained variance.\n",
    "* And you reduced the dimensionality of the item dataset using PCA.\n",
    "\n",
    "In the next module, <span style=\"color:royalblue\">Module 4: Cluster Analysis</span>, we'll see how different feature sets lead to different clusters. We'll apply K-Means clustering to the analytical base table, the threshold item features, and the PCA item features.\n",
    "\n",
    "<p style=\"text-align:center; margin: 40px 0 40px 0; font-weight:bold\">\n",
    "<a href=\"#toc\">Back to Contents</a>\n",
    "</p>"
   ]
  }
 ],
 "metadata": {
  "kernelspec": {
   "display_name": "Python 3",
   "language": "python",
   "name": "python3"
  },
  "language_info": {
   "codemirror_mode": {
    "name": "ipython",
    "version": 3
   },
   "file_extension": ".py",
   "mimetype": "text/x-python",
   "name": "python",
   "nbconvert_exporter": "python",
   "pygments_lexer": "ipython3",
   "version": "3.6.1"
  }
 },
 "nbformat": 4,
 "nbformat_minor": 1
}
