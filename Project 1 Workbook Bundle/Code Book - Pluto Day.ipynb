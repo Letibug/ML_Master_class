{
 "cells": [
  {
   "cell_type": "markdown",
   "metadata": {
    "deletable": true,
    "editable": true
   },
   "source": [
    "<h1 style=\"font-size:42px; text-align:center; margin-bottom:30px;\"><span style=\"color:SteelBlue\">Code Book:</span> Pluto Day!</h1>\n",
    "<hr>\n",
    "\n",
    "On August 24th, 2006, the International Astronomical Union (IAU) declared an official definition for the term \"planet\".\n",
    "\n",
    "According to their definition, an object in the Solar System needs to meet 3 conditions to be considered a planet.\n",
    "1. The object must **orbit** the Sun.\n",
    "2. The object must be massive enough to be **rounded** by its own gravity (a.k.a. it's gotta be a sphere).\n",
    "3. It must have **cleared the neighborhood** around its orbit.\n",
    "\n",
    "Pluto's mass is only 0.07 times the mass of the other objects in its orbit (by contrast, Earth's mass is 1.7 *million* times the remaining mass in its orbit).\n",
    "\n",
    "As a result, Pluto failed to meet the third condition, and it was demoted to a \"dwarf planet\" (RIP).\n",
    "\n",
    "\n",
    "<p style=\"text-align:center; margin: 30px 0 30px 0;\">\n",
    "<img alt=\"Pluto\" style=\"width: 320px; box-shadow: 0 4px 8px 0 rgba(0, 0, 0, 0.2), 0 6px 20px 0 rgba(0, 0, 0, 0.19); margin-bottom:15px;\" src=\"https://upload.wikimedia.org/wikipedia/commons/c/c1/Pluto_Rotation_Movie.gif\">\n",
    "<em>Forever in our hearts...</em>\n",
    "</p>\n",
    "\n",
    "\n",
    "However, Pluto will forever live on in our hearts, and so we present **9 bonus code snippets in honor of the 9 OG planets**.\n",
    "\n",
    "\n",
    "<br><hr id=\"toc\">\n",
    "\n",
    "\n",
    "### Table of Contents\n",
    "\n",
    "1. [How to find sample datasets using Seaborn.](#sample-datasets)\n",
    "2. [How to customize Seaborn plots further with Matplotlib.](#customize-seaborn)\n",
    "3. [How to plot charts side-by-side.](#side-by-side)\n",
    "4. [How to scale size using feature values.](#scale-size)\n",
    "5. [How to set color using feature values.](#set-color)\n",
    "6. [How to apply the Box-Cox transformation.](#box-cox)\n",
    "7. [How to create custom preprocessing steps.](#custom-transformer)\n",
    "8. [How to sequence preprocessing steps (Naive Bayes example).](#sequence-preprocessing)\n",
    "9. [How to overlay multiple ROC curves.](#overlay-roc)\n",
    "\n",
    "<hr>"
   ]
  },
  {
   "cell_type": "markdown",
   "metadata": {
    "deletable": true,
    "editable": true
   },
   "source": [
    "### First, let's load libraries that we'll need."
   ]
  },
  {
   "cell_type": "code",
   "execution_count": 1,
   "metadata": {
    "collapsed": true,
    "deletable": true,
    "editable": true
   },
   "outputs": [],
   "source": [
    "#from __future__ import print_function\n",
    "\n",
    "import numpy as np\n",
    "import pandas as pd\n",
    "\n",
    "from matplotlib import pyplot as plt\n",
    "%matplotlib inline\n",
    "\n",
    "import seaborn as sns\n",
    "\n",
    "import sklearn"
   ]
  },
  {
   "cell_type": "code",
   "execution_count": 35,
   "metadata": {
    "collapsed": true
   },
   "outputs": [],
   "source": [
    "import matplotlib as mpl\n",
    "mpl.style.use('ggplot')"
   ]
  },
  {
   "cell_type": "markdown",
   "metadata": {
    "deletable": true,
    "editable": true
   },
   "source": [
    "<br id=\"sample-datasets\">\n",
    "# 1. How to find sample datasets using Seaborn.\n",
    "\n",
    "When you want to test a snippet of code or an algorithm, you won't always want to spend time searching for a good dataset. \n",
    "\n",
    "You might prefer to just \"jump right in\" on any reasonable dataset.\n",
    "\n",
    "### 1.1 - Load dataset\n",
    "The Seaborn package has several sample datasets that you can easily access, as long as you have internet connection. \n",
    "* You can access them through its <code style=\"color:steelblue\">load_dataset()</code> function.\n",
    "* It looks for online CSV files at https://github.com/mwaskom/seaborn-data.\n",
    "\n",
    "For example, let's load the **\"planets\"** dataset like so:"
   ]
  },
  {
   "cell_type": "code",
   "execution_count": 2,
   "metadata": {
    "collapsed": true,
    "deletable": true,
    "editable": true
   },
   "outputs": [],
   "source": [
    "# Load the \"planets\" sample dataset\n",
    "df = sns.load_dataset('planets')"
   ]
  },
  {
   "cell_type": "markdown",
   "metadata": {
    "deletable": true,
    "editable": true
   },
   "source": [
    "This dataset contains 1035 observations and 6 features for each one."
   ]
  },
  {
   "cell_type": "code",
   "execution_count": 3,
   "metadata": {
    "collapsed": false,
    "deletable": true,
    "editable": true
   },
   "outputs": [
    {
     "data": {
      "text/plain": [
       "(1035, 6)"
      ]
     },
     "execution_count": 3,
     "metadata": {},
     "output_type": "execute_result"
    }
   ],
   "source": [
    "df.shape"
   ]
  },
  {
   "cell_type": "markdown",
   "metadata": {
    "deletable": true,
    "editable": true
   },
   "source": [
    "It contains information about **exoplanets** (planets outside of the solar system) that were discovered between 1989 and 2015."
   ]
  },
  {
   "cell_type": "code",
   "execution_count": 4,
   "metadata": {
    "collapsed": true,
    "deletable": true,
    "editable": true
   },
   "outputs": [
    {
     "data": {
      "text/html": [
       "<div>\n",
       "<style>\n",
       "    .dataframe thead tr:only-child th {\n",
       "        text-align: right;\n",
       "    }\n",
       "\n",
       "    .dataframe thead th {\n",
       "        text-align: left;\n",
       "    }\n",
       "\n",
       "    .dataframe tbody tr th {\n",
       "        vertical-align: top;\n",
       "    }\n",
       "</style>\n",
       "<table border=\"1\" class=\"dataframe\">\n",
       "  <thead>\n",
       "    <tr style=\"text-align: right;\">\n",
       "      <th></th>\n",
       "      <th>method</th>\n",
       "      <th>number</th>\n",
       "      <th>orbital_period</th>\n",
       "      <th>mass</th>\n",
       "      <th>distance</th>\n",
       "      <th>year</th>\n",
       "    </tr>\n",
       "  </thead>\n",
       "  <tbody>\n",
       "    <tr>\n",
       "      <th>0</th>\n",
       "      <td>Radial Velocity</td>\n",
       "      <td>1</td>\n",
       "      <td>269.300</td>\n",
       "      <td>7.10</td>\n",
       "      <td>77.40</td>\n",
       "      <td>2006</td>\n",
       "    </tr>\n",
       "    <tr>\n",
       "      <th>1</th>\n",
       "      <td>Radial Velocity</td>\n",
       "      <td>1</td>\n",
       "      <td>874.774</td>\n",
       "      <td>2.21</td>\n",
       "      <td>56.95</td>\n",
       "      <td>2008</td>\n",
       "    </tr>\n",
       "    <tr>\n",
       "      <th>2</th>\n",
       "      <td>Radial Velocity</td>\n",
       "      <td>1</td>\n",
       "      <td>763.000</td>\n",
       "      <td>2.60</td>\n",
       "      <td>19.84</td>\n",
       "      <td>2011</td>\n",
       "    </tr>\n",
       "    <tr>\n",
       "      <th>3</th>\n",
       "      <td>Radial Velocity</td>\n",
       "      <td>1</td>\n",
       "      <td>326.030</td>\n",
       "      <td>19.40</td>\n",
       "      <td>110.62</td>\n",
       "      <td>2007</td>\n",
       "    </tr>\n",
       "    <tr>\n",
       "      <th>4</th>\n",
       "      <td>Radial Velocity</td>\n",
       "      <td>1</td>\n",
       "      <td>516.220</td>\n",
       "      <td>10.50</td>\n",
       "      <td>119.47</td>\n",
       "      <td>2009</td>\n",
       "    </tr>\n",
       "  </tbody>\n",
       "</table>\n",
       "</div>"
      ],
      "text/plain": [
       "            method  number  orbital_period   mass  distance  year\n",
       "0  Radial Velocity       1         269.300   7.10     77.40  2006\n",
       "1  Radial Velocity       1         874.774   2.21     56.95  2008\n",
       "2  Radial Velocity       1         763.000   2.60     19.84  2011\n",
       "3  Radial Velocity       1         326.030  19.40    110.62  2007\n",
       "4  Radial Velocity       1         516.220  10.50    119.47  2009"
      ]
     },
     "execution_count": 4,
     "metadata": {},
     "output_type": "execute_result"
    }
   ],
   "source": [
    "df.head()"
   ]
  },
  {
   "cell_type": "code",
   "execution_count": 5,
   "metadata": {
    "collapsed": false
   },
   "outputs": [
    {
     "data": {
      "text/plain": [
       "Index(['method', 'number', 'orbital_period', 'mass', 'distance', 'year'], dtype='object')"
      ]
     },
     "execution_count": 5,
     "metadata": {},
     "output_type": "execute_result"
    }
   ],
   "source": [
    "df.columns"
   ]
  },
  {
   "cell_type": "code",
   "execution_count": 6,
   "metadata": {
    "collapsed": false
   },
   "outputs": [
    {
     "name": "stdout",
     "output_type": "stream",
     "text": [
      "<class 'pandas.core.frame.DataFrame'>\n",
      "RangeIndex: 1035 entries, 0 to 1034\n",
      "Data columns (total 6 columns):\n",
      "method            1035 non-null object\n",
      "number            1035 non-null int64\n",
      "orbital_period    992 non-null float64\n",
      "mass              513 non-null float64\n",
      "distance          808 non-null float64\n",
      "year              1035 non-null int64\n",
      "dtypes: float64(3), int64(2), object(1)\n",
      "memory usage: 48.6+ KB\n"
     ]
    }
   ],
   "source": [
    "df.info()"
   ]
  },
  {
   "cell_type": "code",
   "execution_count": 7,
   "metadata": {
    "collapsed": false
   },
   "outputs": [
    {
     "data": {
      "text/plain": [
       "method              0\n",
       "number              0\n",
       "orbital_period     43\n",
       "mass              522\n",
       "distance          227\n",
       "year                0\n",
       "dtype: int64"
      ]
     },
     "execution_count": 7,
     "metadata": {},
     "output_type": "execute_result"
    }
   ],
   "source": [
    "df.isnull().sum()"
   ]
  },
  {
   "cell_type": "code",
   "execution_count": 8,
   "metadata": {
    "collapsed": false
   },
   "outputs": [
    {
     "data": {
      "text/plain": [
       "count    513.000000\n",
       "mean       2.638161\n",
       "std        3.818617\n",
       "min        0.003600\n",
       "25%        0.229000\n",
       "50%        1.260000\n",
       "75%        3.040000\n",
       "max       25.000000\n",
       "Name: mass, dtype: float64"
      ]
     },
     "execution_count": 8,
     "metadata": {},
     "output_type": "execute_result"
    }
   ],
   "source": [
    "df.mass.describe()"
   ]
  },
  {
   "cell_type": "code",
   "execution_count": 9,
   "metadata": {
    "collapsed": false,
    "scrolled": true
   },
   "outputs": [
    {
     "data": {
      "text/plain": [
       "array(['Radial Velocity', 'Imaging', 'Eclipse Timing Variations',\n",
       "       'Transit', 'Astrometry', 'Transit Timing Variations',\n",
       "       'Orbital Brightness Modulation', 'Microlensing', 'Pulsar Timing',\n",
       "       'Pulsation Timing Variations'], dtype=object)"
      ]
     },
     "execution_count": 9,
     "metadata": {},
     "output_type": "execute_result"
    }
   ],
   "source": [
    "df.method.unique()"
   ]
  },
  {
   "cell_type": "code",
   "execution_count": 10,
   "metadata": {
    "collapsed": false
   },
   "outputs": [
    {
     "data": {
      "text/plain": [
       "Radial Velocity                  553\n",
       "Transit                          397\n",
       "Imaging                           38\n",
       "Microlensing                      23\n",
       "Eclipse Timing Variations          9\n",
       "Pulsar Timing                      5\n",
       "Transit Timing Variations          4\n",
       "Orbital Brightness Modulation      3\n",
       "Astrometry                         2\n",
       "Pulsation Timing Variations        1\n",
       "Name: method, dtype: int64"
      ]
     },
     "execution_count": 10,
     "metadata": {},
     "output_type": "execute_result"
    }
   ],
   "source": [
    "df.method.value_counts()"
   ]
  },
  {
   "cell_type": "markdown",
   "metadata": {
    "deletable": true,
    "editable": true
   },
   "source": [
    "We'll use this dataset for the rest of this code book.\n",
    "\n",
    "\n",
    "<p style=\"text-align:center; margin: 30px 0 30px 0;\">\n",
    "<img alt=\"Exoplanets discovered throughout the years\" style=\"width: 480px; box-shadow: 0 4px 8px 0 rgba(0, 0, 0, 0.2), 0 6px 20px 0 rgba(0, 0, 0, 0.19); margin-bottom:15px;\" src=\"https://upload.wikimedia.org/wikipedia/commons/4/4c/ExoplanetDiscoveries-Histogram-20160510.jpg\">\n",
    "<em>Number of exoplanets discovered throughout the years.</em>\n",
    "</p>"
   ]
  },
  {
   "cell_type": "markdown",
   "metadata": {
    "deletable": true,
    "editable": true
   },
   "source": [
    "### 1.2 - Get dataset names\n",
    "However, Seaborn has several other datasets. \n",
    "* You can also display which ones are available using the <code style=\"color:steelblue\">sns.get_dataset_names()</code> function.\n",
    "* Each one can be loaded in the same way as the \"planets\" dataset."
   ]
  },
  {
   "cell_type": "code",
   "execution_count": 12,
   "metadata": {
    "collapsed": true
   },
   "outputs": [],
   "source": [
    "import warnings\n",
    "warnings.filterwarnings('ignore')"
   ]
  },
  {
   "cell_type": "code",
   "execution_count": 13,
   "metadata": {
    "collapsed": true,
    "deletable": true,
    "editable": true
   },
   "outputs": [
    {
     "data": {
      "text/plain": [
       "['anscombe',\n",
       " 'attention',\n",
       " 'brain_networks',\n",
       " 'car_crashes',\n",
       " 'dots',\n",
       " 'exercise',\n",
       " 'flights',\n",
       " 'fmri',\n",
       " 'gammas',\n",
       " 'iris',\n",
       " 'planets',\n",
       " 'tips',\n",
       " 'titanic']"
      ]
     },
     "execution_count": 13,
     "metadata": {},
     "output_type": "execute_result"
    }
   ],
   "source": [
    "# See sample datasets available\n",
    "sns.get_dataset_names()"
   ]
  },
  {
   "cell_type": "code",
   "execution_count": 14,
   "metadata": {
    "collapsed": true
   },
   "outputs": [],
   "source": [
    "iris=sns.load_dataset('iris')"
   ]
  },
  {
   "cell_type": "code",
   "execution_count": 15,
   "metadata": {
    "collapsed": true
   },
   "outputs": [
    {
     "data": {
      "text/html": [
       "<div>\n",
       "<style>\n",
       "    .dataframe thead tr:only-child th {\n",
       "        text-align: right;\n",
       "    }\n",
       "\n",
       "    .dataframe thead th {\n",
       "        text-align: left;\n",
       "    }\n",
       "\n",
       "    .dataframe tbody tr th {\n",
       "        vertical-align: top;\n",
       "    }\n",
       "</style>\n",
       "<table border=\"1\" class=\"dataframe\">\n",
       "  <thead>\n",
       "    <tr style=\"text-align: right;\">\n",
       "      <th></th>\n",
       "      <th>sepal_length</th>\n",
       "      <th>sepal_width</th>\n",
       "      <th>petal_length</th>\n",
       "      <th>petal_width</th>\n",
       "      <th>species</th>\n",
       "    </tr>\n",
       "  </thead>\n",
       "  <tbody>\n",
       "    <tr>\n",
       "      <th>0</th>\n",
       "      <td>5.1</td>\n",
       "      <td>3.5</td>\n",
       "      <td>1.4</td>\n",
       "      <td>0.2</td>\n",
       "      <td>setosa</td>\n",
       "    </tr>\n",
       "    <tr>\n",
       "      <th>1</th>\n",
       "      <td>4.9</td>\n",
       "      <td>3.0</td>\n",
       "      <td>1.4</td>\n",
       "      <td>0.2</td>\n",
       "      <td>setosa</td>\n",
       "    </tr>\n",
       "    <tr>\n",
       "      <th>2</th>\n",
       "      <td>4.7</td>\n",
       "      <td>3.2</td>\n",
       "      <td>1.3</td>\n",
       "      <td>0.2</td>\n",
       "      <td>setosa</td>\n",
       "    </tr>\n",
       "    <tr>\n",
       "      <th>3</th>\n",
       "      <td>4.6</td>\n",
       "      <td>3.1</td>\n",
       "      <td>1.5</td>\n",
       "      <td>0.2</td>\n",
       "      <td>setosa</td>\n",
       "    </tr>\n",
       "    <tr>\n",
       "      <th>4</th>\n",
       "      <td>5.0</td>\n",
       "      <td>3.6</td>\n",
       "      <td>1.4</td>\n",
       "      <td>0.2</td>\n",
       "      <td>setosa</td>\n",
       "    </tr>\n",
       "    <tr>\n",
       "      <th>5</th>\n",
       "      <td>5.4</td>\n",
       "      <td>3.9</td>\n",
       "      <td>1.7</td>\n",
       "      <td>0.4</td>\n",
       "      <td>setosa</td>\n",
       "    </tr>\n",
       "    <tr>\n",
       "      <th>6</th>\n",
       "      <td>4.6</td>\n",
       "      <td>3.4</td>\n",
       "      <td>1.4</td>\n",
       "      <td>0.3</td>\n",
       "      <td>setosa</td>\n",
       "    </tr>\n",
       "    <tr>\n",
       "      <th>7</th>\n",
       "      <td>5.0</td>\n",
       "      <td>3.4</td>\n",
       "      <td>1.5</td>\n",
       "      <td>0.2</td>\n",
       "      <td>setosa</td>\n",
       "    </tr>\n",
       "    <tr>\n",
       "      <th>8</th>\n",
       "      <td>4.4</td>\n",
       "      <td>2.9</td>\n",
       "      <td>1.4</td>\n",
       "      <td>0.2</td>\n",
       "      <td>setosa</td>\n",
       "    </tr>\n",
       "    <tr>\n",
       "      <th>9</th>\n",
       "      <td>4.9</td>\n",
       "      <td>3.1</td>\n",
       "      <td>1.5</td>\n",
       "      <td>0.1</td>\n",
       "      <td>setosa</td>\n",
       "    </tr>\n",
       "    <tr>\n",
       "      <th>10</th>\n",
       "      <td>5.4</td>\n",
       "      <td>3.7</td>\n",
       "      <td>1.5</td>\n",
       "      <td>0.2</td>\n",
       "      <td>setosa</td>\n",
       "    </tr>\n",
       "    <tr>\n",
       "      <th>11</th>\n",
       "      <td>4.8</td>\n",
       "      <td>3.4</td>\n",
       "      <td>1.6</td>\n",
       "      <td>0.2</td>\n",
       "      <td>setosa</td>\n",
       "    </tr>\n",
       "    <tr>\n",
       "      <th>12</th>\n",
       "      <td>4.8</td>\n",
       "      <td>3.0</td>\n",
       "      <td>1.4</td>\n",
       "      <td>0.1</td>\n",
       "      <td>setosa</td>\n",
       "    </tr>\n",
       "    <tr>\n",
       "      <th>13</th>\n",
       "      <td>4.3</td>\n",
       "      <td>3.0</td>\n",
       "      <td>1.1</td>\n",
       "      <td>0.1</td>\n",
       "      <td>setosa</td>\n",
       "    </tr>\n",
       "    <tr>\n",
       "      <th>14</th>\n",
       "      <td>5.8</td>\n",
       "      <td>4.0</td>\n",
       "      <td>1.2</td>\n",
       "      <td>0.2</td>\n",
       "      <td>setosa</td>\n",
       "    </tr>\n",
       "    <tr>\n",
       "      <th>15</th>\n",
       "      <td>5.7</td>\n",
       "      <td>4.4</td>\n",
       "      <td>1.5</td>\n",
       "      <td>0.4</td>\n",
       "      <td>setosa</td>\n",
       "    </tr>\n",
       "    <tr>\n",
       "      <th>16</th>\n",
       "      <td>5.4</td>\n",
       "      <td>3.9</td>\n",
       "      <td>1.3</td>\n",
       "      <td>0.4</td>\n",
       "      <td>setosa</td>\n",
       "    </tr>\n",
       "    <tr>\n",
       "      <th>17</th>\n",
       "      <td>5.1</td>\n",
       "      <td>3.5</td>\n",
       "      <td>1.4</td>\n",
       "      <td>0.3</td>\n",
       "      <td>setosa</td>\n",
       "    </tr>\n",
       "    <tr>\n",
       "      <th>18</th>\n",
       "      <td>5.7</td>\n",
       "      <td>3.8</td>\n",
       "      <td>1.7</td>\n",
       "      <td>0.3</td>\n",
       "      <td>setosa</td>\n",
       "    </tr>\n",
       "    <tr>\n",
       "      <th>19</th>\n",
       "      <td>5.1</td>\n",
       "      <td>3.8</td>\n",
       "      <td>1.5</td>\n",
       "      <td>0.3</td>\n",
       "      <td>setosa</td>\n",
       "    </tr>\n",
       "    <tr>\n",
       "      <th>20</th>\n",
       "      <td>5.4</td>\n",
       "      <td>3.4</td>\n",
       "      <td>1.7</td>\n",
       "      <td>0.2</td>\n",
       "      <td>setosa</td>\n",
       "    </tr>\n",
       "    <tr>\n",
       "      <th>21</th>\n",
       "      <td>5.1</td>\n",
       "      <td>3.7</td>\n",
       "      <td>1.5</td>\n",
       "      <td>0.4</td>\n",
       "      <td>setosa</td>\n",
       "    </tr>\n",
       "    <tr>\n",
       "      <th>22</th>\n",
       "      <td>4.6</td>\n",
       "      <td>3.6</td>\n",
       "      <td>1.0</td>\n",
       "      <td>0.2</td>\n",
       "      <td>setosa</td>\n",
       "    </tr>\n",
       "    <tr>\n",
       "      <th>23</th>\n",
       "      <td>5.1</td>\n",
       "      <td>3.3</td>\n",
       "      <td>1.7</td>\n",
       "      <td>0.5</td>\n",
       "      <td>setosa</td>\n",
       "    </tr>\n",
       "    <tr>\n",
       "      <th>24</th>\n",
       "      <td>4.8</td>\n",
       "      <td>3.4</td>\n",
       "      <td>1.9</td>\n",
       "      <td>0.2</td>\n",
       "      <td>setosa</td>\n",
       "    </tr>\n",
       "    <tr>\n",
       "      <th>25</th>\n",
       "      <td>5.0</td>\n",
       "      <td>3.0</td>\n",
       "      <td>1.6</td>\n",
       "      <td>0.2</td>\n",
       "      <td>setosa</td>\n",
       "    </tr>\n",
       "    <tr>\n",
       "      <th>26</th>\n",
       "      <td>5.0</td>\n",
       "      <td>3.4</td>\n",
       "      <td>1.6</td>\n",
       "      <td>0.4</td>\n",
       "      <td>setosa</td>\n",
       "    </tr>\n",
       "    <tr>\n",
       "      <th>27</th>\n",
       "      <td>5.2</td>\n",
       "      <td>3.5</td>\n",
       "      <td>1.5</td>\n",
       "      <td>0.2</td>\n",
       "      <td>setosa</td>\n",
       "    </tr>\n",
       "    <tr>\n",
       "      <th>28</th>\n",
       "      <td>5.2</td>\n",
       "      <td>3.4</td>\n",
       "      <td>1.4</td>\n",
       "      <td>0.2</td>\n",
       "      <td>setosa</td>\n",
       "    </tr>\n",
       "    <tr>\n",
       "      <th>29</th>\n",
       "      <td>4.7</td>\n",
       "      <td>3.2</td>\n",
       "      <td>1.6</td>\n",
       "      <td>0.2</td>\n",
       "      <td>setosa</td>\n",
       "    </tr>\n",
       "    <tr>\n",
       "      <th>...</th>\n",
       "      <td>...</td>\n",
       "      <td>...</td>\n",
       "      <td>...</td>\n",
       "      <td>...</td>\n",
       "      <td>...</td>\n",
       "    </tr>\n",
       "    <tr>\n",
       "      <th>120</th>\n",
       "      <td>6.9</td>\n",
       "      <td>3.2</td>\n",
       "      <td>5.7</td>\n",
       "      <td>2.3</td>\n",
       "      <td>virginica</td>\n",
       "    </tr>\n",
       "    <tr>\n",
       "      <th>121</th>\n",
       "      <td>5.6</td>\n",
       "      <td>2.8</td>\n",
       "      <td>4.9</td>\n",
       "      <td>2.0</td>\n",
       "      <td>virginica</td>\n",
       "    </tr>\n",
       "    <tr>\n",
       "      <th>122</th>\n",
       "      <td>7.7</td>\n",
       "      <td>2.8</td>\n",
       "      <td>6.7</td>\n",
       "      <td>2.0</td>\n",
       "      <td>virginica</td>\n",
       "    </tr>\n",
       "    <tr>\n",
       "      <th>123</th>\n",
       "      <td>6.3</td>\n",
       "      <td>2.7</td>\n",
       "      <td>4.9</td>\n",
       "      <td>1.8</td>\n",
       "      <td>virginica</td>\n",
       "    </tr>\n",
       "    <tr>\n",
       "      <th>124</th>\n",
       "      <td>6.7</td>\n",
       "      <td>3.3</td>\n",
       "      <td>5.7</td>\n",
       "      <td>2.1</td>\n",
       "      <td>virginica</td>\n",
       "    </tr>\n",
       "    <tr>\n",
       "      <th>125</th>\n",
       "      <td>7.2</td>\n",
       "      <td>3.2</td>\n",
       "      <td>6.0</td>\n",
       "      <td>1.8</td>\n",
       "      <td>virginica</td>\n",
       "    </tr>\n",
       "    <tr>\n",
       "      <th>126</th>\n",
       "      <td>6.2</td>\n",
       "      <td>2.8</td>\n",
       "      <td>4.8</td>\n",
       "      <td>1.8</td>\n",
       "      <td>virginica</td>\n",
       "    </tr>\n",
       "    <tr>\n",
       "      <th>127</th>\n",
       "      <td>6.1</td>\n",
       "      <td>3.0</td>\n",
       "      <td>4.9</td>\n",
       "      <td>1.8</td>\n",
       "      <td>virginica</td>\n",
       "    </tr>\n",
       "    <tr>\n",
       "      <th>128</th>\n",
       "      <td>6.4</td>\n",
       "      <td>2.8</td>\n",
       "      <td>5.6</td>\n",
       "      <td>2.1</td>\n",
       "      <td>virginica</td>\n",
       "    </tr>\n",
       "    <tr>\n",
       "      <th>129</th>\n",
       "      <td>7.2</td>\n",
       "      <td>3.0</td>\n",
       "      <td>5.8</td>\n",
       "      <td>1.6</td>\n",
       "      <td>virginica</td>\n",
       "    </tr>\n",
       "    <tr>\n",
       "      <th>130</th>\n",
       "      <td>7.4</td>\n",
       "      <td>2.8</td>\n",
       "      <td>6.1</td>\n",
       "      <td>1.9</td>\n",
       "      <td>virginica</td>\n",
       "    </tr>\n",
       "    <tr>\n",
       "      <th>131</th>\n",
       "      <td>7.9</td>\n",
       "      <td>3.8</td>\n",
       "      <td>6.4</td>\n",
       "      <td>2.0</td>\n",
       "      <td>virginica</td>\n",
       "    </tr>\n",
       "    <tr>\n",
       "      <th>132</th>\n",
       "      <td>6.4</td>\n",
       "      <td>2.8</td>\n",
       "      <td>5.6</td>\n",
       "      <td>2.2</td>\n",
       "      <td>virginica</td>\n",
       "    </tr>\n",
       "    <tr>\n",
       "      <th>133</th>\n",
       "      <td>6.3</td>\n",
       "      <td>2.8</td>\n",
       "      <td>5.1</td>\n",
       "      <td>1.5</td>\n",
       "      <td>virginica</td>\n",
       "    </tr>\n",
       "    <tr>\n",
       "      <th>134</th>\n",
       "      <td>6.1</td>\n",
       "      <td>2.6</td>\n",
       "      <td>5.6</td>\n",
       "      <td>1.4</td>\n",
       "      <td>virginica</td>\n",
       "    </tr>\n",
       "    <tr>\n",
       "      <th>135</th>\n",
       "      <td>7.7</td>\n",
       "      <td>3.0</td>\n",
       "      <td>6.1</td>\n",
       "      <td>2.3</td>\n",
       "      <td>virginica</td>\n",
       "    </tr>\n",
       "    <tr>\n",
       "      <th>136</th>\n",
       "      <td>6.3</td>\n",
       "      <td>3.4</td>\n",
       "      <td>5.6</td>\n",
       "      <td>2.4</td>\n",
       "      <td>virginica</td>\n",
       "    </tr>\n",
       "    <tr>\n",
       "      <th>137</th>\n",
       "      <td>6.4</td>\n",
       "      <td>3.1</td>\n",
       "      <td>5.5</td>\n",
       "      <td>1.8</td>\n",
       "      <td>virginica</td>\n",
       "    </tr>\n",
       "    <tr>\n",
       "      <th>138</th>\n",
       "      <td>6.0</td>\n",
       "      <td>3.0</td>\n",
       "      <td>4.8</td>\n",
       "      <td>1.8</td>\n",
       "      <td>virginica</td>\n",
       "    </tr>\n",
       "    <tr>\n",
       "      <th>139</th>\n",
       "      <td>6.9</td>\n",
       "      <td>3.1</td>\n",
       "      <td>5.4</td>\n",
       "      <td>2.1</td>\n",
       "      <td>virginica</td>\n",
       "    </tr>\n",
       "    <tr>\n",
       "      <th>140</th>\n",
       "      <td>6.7</td>\n",
       "      <td>3.1</td>\n",
       "      <td>5.6</td>\n",
       "      <td>2.4</td>\n",
       "      <td>virginica</td>\n",
       "    </tr>\n",
       "    <tr>\n",
       "      <th>141</th>\n",
       "      <td>6.9</td>\n",
       "      <td>3.1</td>\n",
       "      <td>5.1</td>\n",
       "      <td>2.3</td>\n",
       "      <td>virginica</td>\n",
       "    </tr>\n",
       "    <tr>\n",
       "      <th>142</th>\n",
       "      <td>5.8</td>\n",
       "      <td>2.7</td>\n",
       "      <td>5.1</td>\n",
       "      <td>1.9</td>\n",
       "      <td>virginica</td>\n",
       "    </tr>\n",
       "    <tr>\n",
       "      <th>143</th>\n",
       "      <td>6.8</td>\n",
       "      <td>3.2</td>\n",
       "      <td>5.9</td>\n",
       "      <td>2.3</td>\n",
       "      <td>virginica</td>\n",
       "    </tr>\n",
       "    <tr>\n",
       "      <th>144</th>\n",
       "      <td>6.7</td>\n",
       "      <td>3.3</td>\n",
       "      <td>5.7</td>\n",
       "      <td>2.5</td>\n",
       "      <td>virginica</td>\n",
       "    </tr>\n",
       "    <tr>\n",
       "      <th>145</th>\n",
       "      <td>6.7</td>\n",
       "      <td>3.0</td>\n",
       "      <td>5.2</td>\n",
       "      <td>2.3</td>\n",
       "      <td>virginica</td>\n",
       "    </tr>\n",
       "    <tr>\n",
       "      <th>146</th>\n",
       "      <td>6.3</td>\n",
       "      <td>2.5</td>\n",
       "      <td>5.0</td>\n",
       "      <td>1.9</td>\n",
       "      <td>virginica</td>\n",
       "    </tr>\n",
       "    <tr>\n",
       "      <th>147</th>\n",
       "      <td>6.5</td>\n",
       "      <td>3.0</td>\n",
       "      <td>5.2</td>\n",
       "      <td>2.0</td>\n",
       "      <td>virginica</td>\n",
       "    </tr>\n",
       "    <tr>\n",
       "      <th>148</th>\n",
       "      <td>6.2</td>\n",
       "      <td>3.4</td>\n",
       "      <td>5.4</td>\n",
       "      <td>2.3</td>\n",
       "      <td>virginica</td>\n",
       "    </tr>\n",
       "    <tr>\n",
       "      <th>149</th>\n",
       "      <td>5.9</td>\n",
       "      <td>3.0</td>\n",
       "      <td>5.1</td>\n",
       "      <td>1.8</td>\n",
       "      <td>virginica</td>\n",
       "    </tr>\n",
       "  </tbody>\n",
       "</table>\n",
       "<p>150 rows × 5 columns</p>\n",
       "</div>"
      ],
      "text/plain": [
       "     sepal_length  sepal_width  petal_length  petal_width    species\n",
       "0             5.1          3.5           1.4          0.2     setosa\n",
       "1             4.9          3.0           1.4          0.2     setosa\n",
       "2             4.7          3.2           1.3          0.2     setosa\n",
       "3             4.6          3.1           1.5          0.2     setosa\n",
       "4             5.0          3.6           1.4          0.2     setosa\n",
       "5             5.4          3.9           1.7          0.4     setosa\n",
       "6             4.6          3.4           1.4          0.3     setosa\n",
       "7             5.0          3.4           1.5          0.2     setosa\n",
       "8             4.4          2.9           1.4          0.2     setosa\n",
       "9             4.9          3.1           1.5          0.1     setosa\n",
       "10            5.4          3.7           1.5          0.2     setosa\n",
       "11            4.8          3.4           1.6          0.2     setosa\n",
       "12            4.8          3.0           1.4          0.1     setosa\n",
       "13            4.3          3.0           1.1          0.1     setosa\n",
       "14            5.8          4.0           1.2          0.2     setosa\n",
       "15            5.7          4.4           1.5          0.4     setosa\n",
       "16            5.4          3.9           1.3          0.4     setosa\n",
       "17            5.1          3.5           1.4          0.3     setosa\n",
       "18            5.7          3.8           1.7          0.3     setosa\n",
       "19            5.1          3.8           1.5          0.3     setosa\n",
       "20            5.4          3.4           1.7          0.2     setosa\n",
       "21            5.1          3.7           1.5          0.4     setosa\n",
       "22            4.6          3.6           1.0          0.2     setosa\n",
       "23            5.1          3.3           1.7          0.5     setosa\n",
       "24            4.8          3.4           1.9          0.2     setosa\n",
       "25            5.0          3.0           1.6          0.2     setosa\n",
       "26            5.0          3.4           1.6          0.4     setosa\n",
       "27            5.2          3.5           1.5          0.2     setosa\n",
       "28            5.2          3.4           1.4          0.2     setosa\n",
       "29            4.7          3.2           1.6          0.2     setosa\n",
       "..            ...          ...           ...          ...        ...\n",
       "120           6.9          3.2           5.7          2.3  virginica\n",
       "121           5.6          2.8           4.9          2.0  virginica\n",
       "122           7.7          2.8           6.7          2.0  virginica\n",
       "123           6.3          2.7           4.9          1.8  virginica\n",
       "124           6.7          3.3           5.7          2.1  virginica\n",
       "125           7.2          3.2           6.0          1.8  virginica\n",
       "126           6.2          2.8           4.8          1.8  virginica\n",
       "127           6.1          3.0           4.9          1.8  virginica\n",
       "128           6.4          2.8           5.6          2.1  virginica\n",
       "129           7.2          3.0           5.8          1.6  virginica\n",
       "130           7.4          2.8           6.1          1.9  virginica\n",
       "131           7.9          3.8           6.4          2.0  virginica\n",
       "132           6.4          2.8           5.6          2.2  virginica\n",
       "133           6.3          2.8           5.1          1.5  virginica\n",
       "134           6.1          2.6           5.6          1.4  virginica\n",
       "135           7.7          3.0           6.1          2.3  virginica\n",
       "136           6.3          3.4           5.6          2.4  virginica\n",
       "137           6.4          3.1           5.5          1.8  virginica\n",
       "138           6.0          3.0           4.8          1.8  virginica\n",
       "139           6.9          3.1           5.4          2.1  virginica\n",
       "140           6.7          3.1           5.6          2.4  virginica\n",
       "141           6.9          3.1           5.1          2.3  virginica\n",
       "142           5.8          2.7           5.1          1.9  virginica\n",
       "143           6.8          3.2           5.9          2.3  virginica\n",
       "144           6.7          3.3           5.7          2.5  virginica\n",
       "145           6.7          3.0           5.2          2.3  virginica\n",
       "146           6.3          2.5           5.0          1.9  virginica\n",
       "147           6.5          3.0           5.2          2.0  virginica\n",
       "148           6.2          3.4           5.4          2.3  virginica\n",
       "149           5.9          3.0           5.1          1.8  virginica\n",
       "\n",
       "[150 rows x 5 columns]"
      ]
     },
     "execution_count": 15,
     "metadata": {},
     "output_type": "execute_result"
    }
   ],
   "source": [
    "iris"
   ]
  },
  {
   "cell_type": "markdown",
   "metadata": {
    "deletable": true,
    "editable": true
   },
   "source": [
    "<div style=\"text-align:center; margin: 40px 0 40px 0;\">\n",
    "[**Back to Contents**](#toc)\n",
    "</div>"
   ]
  },
  {
   "cell_type": "markdown",
   "metadata": {
    "deletable": true,
    "editable": true
   },
   "source": [
    "<br id=\"customize-seaborn\">\n",
    "# 2. How to customize Seaborn plots further with Matplotlib.\n",
    "\n",
    "Seaborn is quick, easy, and streamlined, and it's very useful for performing **efficient** exploratory analysis.\n",
    "\n",
    "However, there will times when you'll need to customize the charts more than what Seaborn allows out-of-the-box.\n",
    "* For example, you may wish to share your plots or put them in a presentation.\n",
    "* For these situations, Seaborn can be customized much further by tapping into **Matplotlib**.\n",
    "* Remember, Seaborn is *built on top of Matplotlib*.\n",
    "\n",
    "\n",
    "### 2.1 - Limitations of Seaborn\n",
    "Let's take a look at an example with the planets dataset.\n",
    "\n",
    "First, for simplicity, let's just drop all the observations with missing values. \n",
    "* This typically isn't the best practice, but it's fine for this **toy example**."
   ]
  },
  {
   "cell_type": "code",
   "execution_count": 16,
   "metadata": {
    "collapsed": true,
    "deletable": true,
    "editable": true
   },
   "outputs": [],
   "source": [
    "# Drop missing data\n",
    "df = df.dropna()"
   ]
  },
  {
   "cell_type": "markdown",
   "metadata": {
    "deletable": true,
    "editable": true
   },
   "source": [
    "Next, let's plot the distribution of the <code style=\"color:steelblue\">'mass'</code> feature using the <code style=\"color:steelblue\">sns.distplot()</code> function."
   ]
  },
  {
   "cell_type": "code",
   "execution_count": 17,
   "metadata": {
    "collapsed": true,
    "deletable": true,
    "editable": true
   },
   "outputs": [
    {
     "data": {
      "text/plain": [
       "<matplotlib.axes._subplots.AxesSubplot at 0x9c4d7f0>"
      ]
     },
     "execution_count": 17,
     "metadata": {},
     "output_type": "execute_result"
    },
    {
     "data": {
      "image/png": "[encoded data removed]",
      "text/plain": [
       "<matplotlib.figure.Figure at 0x9c36cc0>"
      ]
     },
     "metadata": {},
     "output_type": "display_data"
    }
   ],
   "source": [
    "# Distribution of the 'mass' feature\n",
    "sns.distplot(df.mass, kde=False)"
   ]
  },
  {
   "cell_type": "markdown",
   "metadata": {
    "deletable": true,
    "editable": true
   },
   "source": [
    "Pretty straightforward, right? But what if we want to start tweaking things such as the axes labels or the title? \n",
    "* Well, if you look at the [documentation page](http://seaborn.pydata.org/generated/seaborn.distplot.html), you'll find that those parameters don't exist!\n",
    "* Instead, Seaborn expects you to directly tweak the underlying Matplotlib object. We'll show you how.\n",
    "\n",
    "\n",
    "### 2.2 - \"Text residue\"\n",
    "But first, let's talk a little more about what we've called **\"text residue\"** in the past.\n",
    "\n",
    "Namely, this part of the output: \n",
    "\n",
    "<br>\n",
    "<pre style=\"color:crimson\">\n",
    "< matplotlib.axes._subplots.AxesSubplot at 0x1101ebbd0 >\n",
    "</pre>\n",
    "<br>\n",
    "\n",
    "You see, what Seaborn is actually doing here is **returning an Axes object** that you can use for further tweaking. \n",
    "* In this context \"Axes\" is not referring to the axes on a single chart. \n",
    "* Instead, it's referring to a \"set of axes\" that Matplotlib treats as a single object.\n",
    "\n",
    "<p style=\"text-align:center; margin: 30px 0 30px 0;\">\n",
    "<img alt=\"Distplot Returns What\" style=\"width: 420px; box-shadow: 0 4px 8px 0 rgba(0, 0, 0, 0.2), 0 6px 20px 0 rgba(0, 0, 0, 0.19); margin-bottom:15px;\" src=\"https://elitedatascience.com/wp-content/uploads/2017/04/distplot-returns-what.png\">\n",
    "What <code style=\"color:steelblue\">sns.displot()</code> returns.\n",
    "</p>"
   ]
  },
  {
   "cell_type": "markdown",
   "metadata": {
    "deletable": true,
    "editable": true
   },
   "source": [
    "### 2.3 - Tweaking the Axes\n",
    "\n",
    "Therefore, tweaking your Seaborn plot is a 2-step process.\n",
    "1. You need to \"capture\" the Axes object returned by your plotting function (i.e. set it to a variable).\n",
    "2. You can then use that object to tweak the plot based on *Matplotlib* functionality.\n",
    "\n",
    "For example, here's how we'd relabel the axes and give the plot a title."
   ]
  },
  {
   "cell_type": "code",
   "execution_count": 19,
   "metadata": {
    "collapsed": true,
    "deletable": true,
    "editable": true
   },
   "outputs": [
    {
     "data": {
      "image/png": "[encoded data removed]",
      "text/plain": [
       "<matplotlib.figure.Figure at 0xa222048>"
      ]
     },
     "metadata": {},
     "output_type": "display_data"
    }
   ],
   "source": [
    "# 1. Capture the Axes object returned by sns.distplot()\n",
    "ax = sns.distplot(df.mass, kde=False)\n",
    "\n",
    "# 2. Use the Axes object to tweak the plot\n",
    "ax.set(xlabel='Mass', \n",
    "       ylabel='Frequency',\n",
    "       title='Distribution of Planet Mass')\n",
    "\n",
    "# Clear \"text residue\"\n",
    "plt.show()"
   ]
  },
  {
   "cell_type": "markdown",
   "metadata": {
    "deletable": true,
    "editable": true
   },
   "source": [
    "You can read more about Axes and their many options in the [Matplotlib documentation](http://matplotlib.org/api/axes_api.html). \n",
    "* Be careful... it's a pretty deep rabbit hole!\n",
    "* For **basic exploratory analysis**, we still recommend relying primarily on Seaborn's out-of-the-box functionality. It's the best balance between flexibility and ease-of-use.\n",
    "* However, if you need to create **customized charts for presentations or reports**, just know that Matplotlib allows you to go completely off-road and drive in any direction you need.\n",
    "\n",
    "<div style=\"text-align:center; margin: 40px 0 40px 0;\">\n",
    "[**Back to Contents**](#toc)\n",
    "</div>"
   ]
  },
  {
   "cell_type": "markdown",
   "metadata": {
    "deletable": true,
    "editable": true
   },
   "source": [
    "<br id=\"side-by-side\">\n",
    "# 3. How to plot charts side-by-side.\n",
    "\n",
    "Next, what if you need to plot charts side-by-side? \n",
    "* Again, we don't recommend bothering with this for basic exploratory analysis.\n",
    "* However, if you ever do need to, it can be difficult to know how to begin.\n",
    "\n",
    "So we'll show you can example here.\n",
    "\n",
    "### 3.1 - log(mass)\n",
    "\n",
    "In the chart from <span style=\"color:royalblue\">2.3</span>, we can see that the <code style=\"color:steelblue\">'mass'</code> feature is heavily *right-skewed*. Most planets have a mass of under 3 (the units are irrelevant here), but a tiny few have up to a mass of 25.\n",
    "\n",
    "As a result, we may wish to **log-transform** this dataset to create a more \"balanced\" distribution.\n",
    "* Maybe you remember the properties of log-transformations, or maybe you don't...\n",
    "* But with code, you can easily see how they change the data.\n",
    "\n",
    "Let's start by taking the <code style=\"color:steelblue\">np.log()</code> of <code style=\"color:steelblue\">'mass'</code>."
   ]
  },
  {
   "cell_type": "code",
   "execution_count": 20,
   "metadata": {
    "collapsed": true,
    "deletable": true,
    "editable": true
   },
   "outputs": [],
   "source": [
    "# Create log(mass)\n",
    "log_mass = np.log(df.mass)"
   ]
  },
  {
   "cell_type": "markdown",
   "metadata": {
    "deletable": true,
    "editable": true
   },
   "source": [
    "### 3.2 - Subplots\n",
    "\n",
    "To create side-by-side plots, we're going to use a Matplotlib concept called **subplots**.\n",
    "* Subplots work just as they sound... they are individual plots within a larger one.\n",
    "* You can read more about them in the [documentation](http://matplotlib.org/api/pyplot_api.html#matplotlib.pyplot.subplots).\n",
    "\n",
    "<br>\n",
    "Here are the key steps to using subplots:\n",
    "\n",
    "* First, you must create the overall figure, but you'll use <code style=\"color:steelblue\">plt.subplots()</code> instead of <code style=\"color:steelblue\">plt.plot()</code>.\n",
    "\n",
    "<pre style=\"color:#bbb\">\n",
    "fig, (ax1, ax2) = <strong style=\"color:steelblue\">plt.subplots(</strong>ncols=2, sharey=True, figsize=(11,4)<strong style=\"color:steelblue\">)</strong>\n",
    "</pre>\n",
    "\n",
    "* You can set the number of columns to include (by the way... setting the number of rows is analogous).\n",
    "\n",
    "<pre style=\"color:#bbb\">\n",
    "fig, (ax1, ax2) = plt.subplots(<strong style=\"color:steelblue\">ncols=2</strong>, sharey=True, figsize=(11,4))\n",
    "</pre>\n",
    "\n",
    "* The <code style=\"color:steelblue\">sharey=</code> argument tells Matplotlib to share y-axes between the two subplots.\n",
    "\n",
    "<pre style=\"color:#bbb\">\n",
    "fig, (ax1, ax2) = plt.subplots(ncols=2, <strong style=\"color:steelblue\">sharey=True</strong>, figsize=(11,4))\n",
    "</pre>\n",
    "\n",
    "* Finally, we capture the objects it creates (one Figure, and two Axes).\n",
    "\n",
    "<pre style=\"color:#bbb\">\n",
    "<strong style=\"color:steelblue\">fig, (ax1, ax2)</strong> = plt.subplots(ncols=2, sharey=True, figsize=(11,4))\n",
    "</pre>\n",
    "\n",
    "* <code style=\"color:steelblue\">ax1</code> refers to the first subplot object and <code style=\"color:steelblue\">ax2</code> refers to the second subplot object.\n",
    "\n",
    "Now we have a \"canvas\" that's partitioned into 2 side-by-side subplots. "
   ]
  },
  {
   "cell_type": "markdown",
   "metadata": {
    "deletable": true,
    "editable": true
   },
   "source": [
    "### 3.3 - Putting it all together\n",
    "\n",
    "Now, when you use Seaborn plotting functions, you can pass in an <code style=\"color:steelblue\">ax=</code> argument that tells Seaborn which subplot to use.\n",
    "\n",
    "Here's the complete example:"
   ]
  },
  {
   "cell_type": "code",
   "execution_count": 24,
   "metadata": {
    "collapsed": true,
    "deletable": true,
    "editable": true
   },
   "outputs": [
    {
     "data": {
      "image/png": "[encoded data removed]",
      "text/plain": [
       "<matplotlib.figure.Figure at 0xb848400>"
      ]
     },
     "metadata": {},
     "output_type": "display_data"
    }
   ],
   "source": [
    "# Create subplots\n",
    "fig, (ax1, ax2) = plt.subplots(1,2, sharey=True, figsize=(11,4))\n",
    "\n",
    "# Plot on first subplot\n",
    "ax1 = sns.distplot(df.mass, ax=ax1, kde=False)\n",
    "ax1.set(xlabel='Mass')\n",
    "\n",
    "# Plot on second subplot\n",
    "ax2 = sns.distplot(log_mass, ax=ax2, kde=False)\n",
    "ax2.set(xlabel='Log(Mass)')\n",
    "\n",
    "# Shared title across all subplots\n",
    "plt.suptitle('Comparing Distributions of Mass vs. Log(Mass)')\n",
    "\n",
    "# Clear \"text residue\"\n",
    "plt.show()"
   ]
  },
  {
   "cell_type": "markdown",
   "metadata": {
    "deletable": true,
    "editable": true
   },
   "source": [
    "<div style=\"text-align:center; margin: 40px 0 40px 0;\">\n",
    "[**Back to Contents**](#toc)\n",
    "</div>"
   ]
  },
  {
   "cell_type": "markdown",
   "metadata": {
    "deletable": true,
    "editable": true
   },
   "source": [
    "<br id=\"scale-size\">\n",
    "# 4. How to scale size using feature values.\n",
    "\n",
    "We've seen various examples of plots that show information between two features. \n",
    "\n",
    "\n",
    "### 4.1 - The third wheel\n",
    "But what if you wanted to incorporate information from a third feature?\n",
    "* Well, one option is to make a 3-D plot, but we don't recommend this. It's very easy for the 3-D plot to become cluttered, and it can be very hard to interpret it quickly.\n",
    "* Instead, as long as it makes sense to do so, we recommend using the **size of points** to represent the third feature.\n",
    "\n",
    "To illustrate how to do so, let's first take a more manageable subset of our dataset."
   ]
  },
  {
   "cell_type": "code",
   "execution_count": 25,
   "metadata": {
    "collapsed": false,
    "deletable": true,
    "editable": true
   },
   "outputs": [
    {
     "data": {
      "text/plain": [
       "(185, 6)"
      ]
     },
     "execution_count": 25,
     "metadata": {},
     "output_type": "execute_result"
    }
   ],
   "source": [
    "# Subset of data\n",
    "subset = df[df.year >= 2010]\n",
    "subset.shape"
   ]
  },
  {
   "cell_type": "markdown",
   "metadata": {
    "deletable": true,
    "editable": true
   },
   "source": [
    "### 4.2 - Scaling size\n",
    "\n",
    "The <code style=\"color:steelblue\">plt.scatter()</code> function from Matplotlib has an <code style=\"color:steelblue\">s=</code> argument that scales the size of the points.\n",
    "* If you pass it an **array with the same length** as those of your data, it will scale each point individually.\n",
    "* Feel free to multiply the size feature to **accentuate differences**. You can try different scalar values.\n",
    "\n",
    "Here's the full example:"
   ]
  },
  {
   "cell_type": "code",
   "execution_count": 26,
   "metadata": {
    "collapsed": true,
    "deletable": true,
    "editable": true
   },
   "outputs": [
    {
     "data": {
      "image/png": "[encoded data removed]",
      "text/plain": [
       "<matplotlib.figure.Figure at 0xb871160>"
      ]
     },
     "metadata": {},
     "output_type": "display_data"
    }
   ],
   "source": [
    "# Scatterplot\n",
    "plt.scatter(subset.distance,\n",
    "           subset.orbital_period,\n",
    "           s=subset.mass*10, # Scale size based on mass (x10 to accentuate differences)\n",
    "           alpha=0.5)\n",
    "\n",
    "# Axes labels\n",
    "plt.title('Exoplanets Discovered since 2010')\n",
    "plt.ylabel('Orbital Period (days)')\n",
    "plt.xlabel('Distance from Earth (light-years)')\n",
    "\n",
    "# Clear \"text residue\"\n",
    "plt.show()"
   ]
  },
  {
   "cell_type": "code",
   "execution_count": 30,
   "metadata": {
    "collapsed": true
   },
   "outputs": [
    {
     "data": {
      "text/plain": [
       "<seaborn.axisgrid.FacetGrid at 0xb4901d0>"
      ]
     },
     "execution_count": 30,
     "metadata": {},
     "output_type": "execute_result"
    },
    {
     "data": {
      "image/png": "[encoded data removed]",
      "text/plain": [
       "<matplotlib.figure.Figure at 0xa25ba20>"
      ]
     },
     "metadata": {},
     "output_type": "display_data"
    }
   ],
   "source": [
    "sns.lmplot(data=subset, x=\"distance\",y='orbital_period', fit_reg=False, size=3)"
   ]
  },
  {
   "cell_type": "markdown",
   "metadata": {
    "deletable": true,
    "editable": true
   },
   "source": [
    "<div style=\"text-align:center; margin: 40px 0 40px 0;\">\n",
    "[**Back to Contents**](#toc)\n",
    "</div>"
   ]
  },
  {
   "cell_type": "markdown",
   "metadata": {
    "deletable": true,
    "editable": true
   },
   "source": [
    "<br id=\"set-color\">\n",
    "# 5. How to set color using feature values.\n",
    "\n",
    "From our experience, when trying to visualize 3 features, changing the color of the points based on the third feature is a very nice **complement** to scaling the size of the points.\n",
    "\n",
    "### 5.1 - Colormaps\n",
    "The <code style=\"color:steelblue\">plt.scatter()</code> function also has a <code style=\"color:steelblue\">c=</code> argument that sets the color of the points.\n",
    "* If you pass it an array with the same length as those of your data, it will set each point individually.\n",
    "* However, you must then also pass in a <code style=\"color:steelblue\">cmap=</code> argument that determines the **colormap**.\n",
    "\n",
    "Colormaps simply map numbers to colors. You can find a list of the ones Matplotlib supports [here](http://matplotlib.org/examples/color/colormaps_reference.html)."
   ]
  },
  {
   "cell_type": "markdown",
   "metadata": {
    "deletable": true,
    "editable": true
   },
   "source": [
    "### 5.2 - Sequential colormaps\n",
    "\n",
    "Sequential colormaps set the \"richness\" of a color. \n",
    "* Low values will approach white, while high values will be more colorful.\n",
    "* These are useful for representing **intensity or magnitude** in features.\n",
    "\n",
    "Here's an example (mass is interpreted as a scale):"
   ]
  },
  {
   "cell_type": "code",
   "execution_count": 37,
   "metadata": {
    "collapsed": true,
    "deletable": true,
    "editable": true
   },
   "outputs": [
    {
     "data": {
      "image/png": "[encoded data removed]",
      "text/plain": [
       "<matplotlib.figure.Figure at 0x99a59b0>"
      ]
     },
     "metadata": {},
     "output_type": "display_data"
    }
   ],
   "source": [
    "plt.scatter(subset.distance,\n",
    "            subset.orbital_period,\n",
    "            s=subset.mass*10,\n",
    "            c=subset.mass, # Set color based on mass\n",
    "            cmap='Reds', # Use the 'Reds' sequential colormap\n",
    "            alpha=0.7\n",
    "           )\n",
    "\n",
    "plt.title('Exoplanets Discovered since 2010')\n",
    "plt.ylabel('Orbital Period (days)')\n",
    "plt.xlabel('Distance from Earth (light-years)')\n",
    "\n",
    "plt.show()"
   ]
  },
  {
   "cell_type": "code",
   "execution_count": 33,
   "metadata": {
    "collapsed": false
   },
   "outputs": [
    {
     "data": {
      "text/plain": [
       "dtype('float64')"
      ]
     },
     "execution_count": 33,
     "metadata": {},
     "output_type": "execute_result"
    }
   ],
   "source": [
    "subset.mass.dtype"
   ]
  },
  {
   "cell_type": "markdown",
   "metadata": {
    "deletable": true,
    "editable": true
   },
   "source": [
    "### 5.3 - Diverging colormaps\n",
    "\n",
    "Diverging color maps set the \"direction\" of color. \n",
    "* Low values and high values will be completely different colors.\n",
    "* These are useful for representing **class or direction** in features.\n",
    "\n",
    "Here's an example (mass is interpreted as a class, i.e. dense vs. light planets):"
   ]
  },
  {
   "cell_type": "code",
   "execution_count": 39,
   "metadata": {
    "collapsed": true,
    "deletable": true,
    "editable": true
   },
   "outputs": [
    {
     "data": {
      "image/png": "[encoded data removed]",
      "text/plain": [
       "<matplotlib.figure.Figure at 0xbd01048>"
      ]
     },
     "metadata": {},
     "output_type": "display_data"
    }
   ],
   "source": [
    "plt.scatter(subset.distance,\n",
    "            subset.orbital_period,\n",
    "            s=subset.mass*10,\n",
    "            c=subset.mass, # Set color based on mass\n",
    "            cmap='coolwarm', # Use the 'coolwarm' diverging colormap\n",
    "            alpha=0.7\n",
    "           )\n",
    "\n",
    "plt.title('Exoplanets Discovered since 2010')\n",
    "plt.ylabel('Orbital Period (days)')\n",
    "plt.xlabel('Distance from Earth (light-years)')\n",
    "plt.show()"
   ]
  },
  {
   "cell_type": "markdown",
   "metadata": {
    "deletable": true,
    "editable": true
   },
   "source": [
    "<div style=\"text-align:center; margin: 40px 0 40px 0;\">\n",
    "[**Back to Contents**](#toc)\n",
    "</div>"
   ]
  },
  {
   "cell_type": "markdown",
   "metadata": {
    "deletable": true,
    "editable": true
   },
   "source": [
    "<br id=\"box-cox\">\n",
    "# 6. How to apply the Box-Cox transformation.\n",
    "\n",
    "The Box-Cox transformation is very useful in certain situations.\n",
    "* It's used to normalize distributions.\n",
    "* It's actually a **family** of transformations.\n",
    "\n",
    "### 6.1 - The Box-Cox transformation\n",
    "We won't go into the math here, but the basic intuition is that the Box-Cox transformation determines a parameter, **$\\lambda$ (lambda)**, that corresponds with a type of transformation.\n",
    "* For example, $\\lambda = 0$ corresponds to the natural log transformation, $ln(x)$.\n",
    "* Different values of $\\lambda$ can be determined for each feature.\n",
    "\n",
    "In practice, Box-Cox often **replace log-transformations** because they automatically determine the \"best\" transformation for normalizing the data.\n",
    "\n",
    "**Scipy**, another Python library, comes with an implementation of the <code style=\"color:steelblue\">boxcox()</code> transformation."
   ]
  },
  {
   "cell_type": "code",
   "execution_count": 40,
   "metadata": {
    "collapsed": true
   },
   "outputs": [],
   "source": [
    "from scipy.stats import boxcox"
   ]
  },
  {
   "cell_type": "markdown",
   "metadata": {
    "deletable": true,
    "editable": true
   },
   "source": [
    "Using it is very simple... Just pass in the data you'd like to transform:"
   ]
  },
  {
   "cell_type": "code",
   "execution_count": 41,
   "metadata": {
    "collapsed": true
   },
   "outputs": [
    {
     "data": {
      "text/plain": [
       "(array([ 2.31050489,  0.84668225,  1.03417309,  3.81557945,  2.86717554,\n",
       "         1.78806731,  1.7443782 ,  2.83897534,  0.72832928, -0.14897891,\n",
       "         2.77823134,  1.51782211,  1.00233836, -0.58617041,  0.5152479 ,\n",
       "        -0.70653578, -0.21912297, -1.56070951,  1.40073668, -1.52965495,\n",
       "        -3.0057392 , -2.28748068, -2.13838913,  1.91716313,  1.28107969,\n",
       "         0.6169505 , -3.67908901,  0.45433436,  2.40478403,  2.60823643,\n",
       "         0.64718023,  1.12133567,  0.55432084,  0.03934671,  1.52424181,\n",
       "         3.9135102 , -0.36331279,  0.72325863,  1.59676616,  0.05759449,\n",
       "         1.86680073, -2.43265748, -1.01400811, -2.72785977, -1.53841814,\n",
       "         0.39765214,  0.10525523,  1.52744134, -2.58097083, -2.79249925,\n",
       "        -2.07757867, -0.19526669,  0.67322219,  0.48852956,  0.89227186,\n",
       "        -2.945245  , -2.38100355, -2.97474744, -2.83945825, -3.46672482,\n",
       "        -1.01907703, -2.945245  , -3.1486895 , -3.0057392 , -3.33908729,\n",
       "        -3.33908729, -3.07292784, -2.58097083,  1.82793306, -3.07292784,\n",
       "        -2.56464736, -0.43039738, -0.09358745,  0.88006158, -0.32750015,\n",
       "        -2.86429189, -2.41939456,  1.34394651, -2.83945825,  3.42722865,\n",
       "         1.35476401,  1.35476401,  0.2272631 ,  1.91716313, -2.79249925,\n",
       "        -2.92819562,  1.24278207,  2.10393866,  1.81475814, -0.6916493 ,\n",
       "         0.48852956, -1.30989459,  0.46124648, -0.21912297, -2.49557856,\n",
       "         0.772578  ,  0.89227186,  0.92670977,  0.92670977,  0.69991224,\n",
       "         0.71135176,  2.40478403, -0.6916493 ,  0.52184222, -1.12067249,\n",
       "         0.10525523,  0.73394088, -2.68803212, -0.44501896,  0.6169505 ,\n",
       "         3.32163877, -0.34647659,  0.62912567, -2.48830652, -2.53310702,\n",
       "        -2.06926314, -2.12052732, -2.18493046, -1.39611876, -0.06156355,\n",
       "         2.12799234,  1.36906381, -0.19526669,  2.19807482, -0.45685668,\n",
       "        -2.07925233,  0.89227186,  0.68837364,  3.29977782, -2.62355507,\n",
       "        -2.56464736, -0.14332028,  1.87445925,  0.66499151, -1.20907662,\n",
       "        -2.16037964,  1.67642016,  3.3324728 ,  1.07842968,  0.32305145,\n",
       "        -2.53619771, -2.47115168,  0.06803417, -3.31141535, -3.36525808,\n",
       "        -3.03504973, -2.53465066, -2.37356241,  0.67673405,  0.72832928,\n",
       "        -2.62884771, -2.20712454,  0.4192036 ,  1.03866221,  3.26088449,\n",
       "         2.42482616,  1.55906575, -0.05107886,  0.2519084 ,  0.38307918,\n",
       "        -0.459836  ,  0.15023505,  1.98743572,  0.55432084,  2.67044736,\n",
       "         0.32535476,  0.6169505 , -0.65532147, -2.55982431, -2.37109875,\n",
       "        -2.34571799,  0.26807148, -1.01400811,  1.21930458, -0.23123875,\n",
       "         2.65944642, -0.47485433, -0.36962311, -0.45388536,  2.84606805,\n",
       "         0.89227186,  1.34249809, -3.16095114, -2.92539893, -2.99941371,\n",
       "        -0.17304989,  3.23030691,  2.89492993, -1.946085  , -3.12491638,\n",
       "        -2.86937694, -2.67085548, -3.19061828, -2.99315321, -2.83219241,\n",
       "         1.55906575,  1.00693094,  3.72739371, -2.5178547 , -2.72785977,\n",
       "        -0.49008005,  4.23600795,  0.9838148 , -0.52117953, -2.5029261 ,\n",
       "        -1.46570434, -0.40469539,  0.61082042, -0.71029036, -1.24363951,\n",
       "        -2.14137612, -0.96321669,  1.84099713,  2.29098568,  0.15023505,\n",
       "        -1.82184215,  0.56072047,  1.81475814, -2.48397883, -2.29299292,\n",
       "         0.12344662,  1.90472356,  1.26389502,  2.37955476, -0.89494584,\n",
       "         1.16297836, -0.43039738,  0.23553266, -1.53841814,  2.08175472,\n",
       "         1.12976263,  0.67673405, -2.61482415, -2.53310702, -2.27657646,\n",
       "         0.73394088,  1.26205802,  1.22717315,  0.659081  ,  0.86713248,\n",
       "         0.86713248,  0.14137064,  0.6169505 ,  2.48704377, -0.85961732,\n",
       "        -0.80880074,  0.99310745, -1.42674105,  0.29978327,  2.26326312,\n",
       "         1.07842968,  0.26807148, -0.85097209, -1.72393088, -3.1764414 ,\n",
       "         0.4192036 , -0.08281595,  2.29098568,  0.60466163, -1.34130112,\n",
       "         0.60466163,  2.55208566, -2.28748068,  1.51137467, -0.91766328,\n",
       "        -2.74238366, -2.63596909,  0.18506556, -0.10445842, -0.37375772,\n",
       "         1.55593319, -2.69973264, -2.5029261 , -2.74870736,  0.6169505 ,\n",
       "         2.25123693, -0.65175591, -2.01337176, -0.94090027,  0.34589724,\n",
       "         0.55432084,  0.15023505, -1.09290437, -1.52965495, -0.74859036,\n",
       "         2.05925929,  1.03417309, -2.36864337,  2.05925929, -0.0406861 ,\n",
       "        -1.93271344, -0.92457864, -1.47059192,  2.52841338,  2.27520164,\n",
       "         2.9357586 ,  2.73803092, -1.37748385, -1.20599556,  1.03417309,\n",
       "         0.26001615, -0.01004208, -0.25586029, -2.32118227, -2.10306488,\n",
       "        -1.14925351,  2.94782549,  2.25123693,  1.13395738, -1.17870158,\n",
       "        -0.33307978,  0.21893801, -0.6916493 ,  3.02496253,  0.09605649,\n",
       "        -0.05107886,  0.78880291,  0.66499151, -1.50386728,  0.80483507,\n",
       "         1.70510389,  0.20211792,  1.46210719,  1.20343665, -2.27657646,\n",
       "         2.32979547, -2.48830652, -0.89494584, -1.32721244,  0.38307918,\n",
       "         1.29611884,  0.48852956,  0.03934671,  0.84152134,  3.70802359,\n",
       "         1.99216878,  0.41206017, -2.57932105, -1.62773871,  0.48176275,\n",
       "        -0.19526669, -2.68417694, -2.53002992, -1.78598052,  0.73394088,\n",
       "        -2.98695626, -2.56788144, -2.66897377, -1.33071476,  2.76047941,\n",
       "         2.75153488,  1.86680073,  0.67673405,  0.50195772,  1.25052344,\n",
       "         1.16297836,  2.02722372,  0.79951213,  2.20222639,  0.19362122,\n",
       "        -0.16037922, -0.0406861 ,  0.29193034,  3.45777125, -1.54726801,\n",
       "         1.20343665,  0.4192036 ,  1.09143914, -2.9088767 , -0.05421453,\n",
       "         1.84619217,  0.86204861,  1.02515135, -0.16037922, -0.19526669,\n",
       "         2.75302884, -0.28102277, -3.10958858,  2.8769395 , -1.7918526 ,\n",
       "         0.6169505 ,  0.12344662,  0.67673405,  0.78880291, -0.30675296,\n",
       "         0.62548492,  3.34324364, -0.25586029,  0.88728082, -0.6916493 ,\n",
       "         1.07842968, -0.94090027,  1.40073668,  0.55432084,  2.48004891,\n",
       "         3.70359392, -1.30646903,  1.15474698,  1.56842439, -0.38765085,\n",
       "         1.03417309,  1.07842968,  2.44104712, -0.47485433,  0.41206017,\n",
       "        -1.63115444,  2.2968658 , -2.06926314, -0.05107886,  0.48852956,\n",
       "         1.3183889 , -2.79704458, -0.43039738, -0.58617041, -0.91766328,\n",
       "         1.45541285,  1.49839549, -0.06156355, -0.28102277, -0.62018957,\n",
       "         0.72832928,  0.23553266, -2.63955793,  2.0660412 ,  0.42062751,\n",
       "        -2.28748068,  0.67673405,  1.24278207, -0.3198399 , -2.33066626,\n",
       "        -2.10722049,  0.9884689 ,  1.4587638 ,  1.20343665,  2.27123179,\n",
       "         1.02515135, -0.23123875,  0.64718023, -0.10993185,  3.6404781 ,\n",
       "         0.96030704,  1.57153102, -2.32118227,  0.54142654, -1.19073679,\n",
       "         0.32305145,  0.84152134, -0.74859036,  2.78117244,  0.21055656,\n",
       "        -0.74859036,  0.89227186,  1.70510389, -3.30072683, -3.25017933,\n",
       "        -1.91203554, -1.25328719, -2.97474744, -1.01400811,  0.23553266,\n",
       "         0.78880291, -0.41596568,  0.33832787,  1.03417309,  3.1863853 ,\n",
       "        -1.37748385,  2.85172161, -2.25523166,  2.9491612 ,  0.05854729,\n",
       "         0.38307918,  1.23889571,  0.67673405,  2.43205493, -0.33307978,\n",
       "         0.07744717,  1.91716313,  1.00693094, -2.7382013 , -0.26837229,\n",
       "         0.36090127, -0.71029036,  0.2272631 ,  1.51782211,  0.2519084 ,\n",
       "        -0.53706703, -1.09839539, -2.56464736, -0.82967128, -0.60816027,\n",
       "         2.67201318,  2.64360735,  2.61472224,  0.78880291,  0.06614274,\n",
       "         0.69991224,  0.39765214, -0.05421453]), 0.16346104802585196)"
      ]
     },
     "execution_count": 41,
     "metadata": {},
     "output_type": "execute_result"
    }
   ],
   "source": [
    "boxcox(df.mass)"
   ]
  },
  {
   "cell_type": "code",
   "execution_count": 42,
   "metadata": {
    "collapsed": true,
    "deletable": true,
    "editable": true
   },
   "outputs": [],
   "source": [
    "# Perform Box-Cox transformation on 'mass'\n",
    "boxcox_transformed_mass, lmbda = boxcox(df.mass)"
   ]
  },
  {
   "cell_type": "markdown",
   "metadata": {
    "deletable": true,
    "editable": true
   },
   "source": [
    "The function returns two objects.\n",
    "* The first is the transformed data, which we've saved as <code style=\"color:steelblue\">boxcox_transformed_mass</code>.\n",
    "* The second is the $\\lambda$ value used, which we've saved as <code style=\"color:steelblue\">lmbda</code>."
   ]
  },
  {
   "cell_type": "code",
   "execution_count": 43,
   "metadata": {
    "collapsed": false,
    "deletable": true,
    "editable": true
   },
   "outputs": [
    {
     "data": {
      "text/plain": [
       "0.16346104802585196"
      ]
     },
     "execution_count": 43,
     "metadata": {},
     "output_type": "execute_result"
    }
   ],
   "source": [
    "# Display lambda used for transformation\n",
    "lmbda"
   ]
  },
  {
   "cell_type": "markdown",
   "metadata": {
    "deletable": true,
    "editable": true
   },
   "source": [
    "### 6.2 - Side-by-side-by-side plot\n",
    "\n",
    "Let's take a look at how the Box-Cox transformed data compares to the log-transformed data and to the original data.\n",
    "* This time, we're going to create **subplots with 3 columns**.\n",
    "* The rest of the steps are very similar to the side-by-side plot we made earlier."
   ]
  },
  {
   "cell_type": "code",
   "execution_count": 46,
   "metadata": {
    "collapsed": true,
    "deletable": true,
    "editable": true
   },
   "outputs": [
    {
     "data": {
      "image/png": "[encoded data removed]",
      "text/plain": [
       "<matplotlib.figure.Figure at 0xbbb69b0>"
      ]
     },
     "metadata": {},
     "output_type": "display_data"
    }
   ],
   "source": [
    "# Create subplots with 3 side-by-side plots\n",
    "fig, (ax1, ax2, ax3) = plt.subplots(ncols=3, sharey=True, figsize=(11,3))\n",
    "\n",
    "# Plot original data on first subplot\n",
    "ax1 = sns.distplot(df.mass, ax=ax1, kde=False)\n",
    "ax1.set(xlabel='Mass')\n",
    "\n",
    "# Plot log-transformed data on second subplot\n",
    "ax2 = sns.distplot(log_mass, ax=ax2, kde=False)\n",
    "ax2.set(xlabel='Log(Mass)')\n",
    "\n",
    "# Plot box-cox transformed data on third subplot\n",
    "ax3 = sns.distplot(boxcox_transformed_mass, ax=ax3, kde=False)\n",
    "ax3.set(xlabel='BoxCox(Mass)')\n",
    "\n",
    "# Shared title across all subplots\n",
    "plt.suptitle('Comparing Distributions of Mass, Log(Mass), and BoxCox(Mass)')\n",
    "\n",
    "# Clear \"text residue\"\n",
    "plt.show()"
   ]
  },
  {
   "cell_type": "markdown",
   "metadata": {
    "deletable": true,
    "editable": true
   },
   "source": [
    "<div style=\"text-align:center; margin: 40px 0 40px 0;\">\n",
    "[**Back to Contents**](#toc)\n",
    "</div>"
   ]
  },
  {
   "cell_type": "markdown",
   "metadata": {
    "deletable": true,
    "editable": true
   },
   "source": [
    "<br id=\"custom-transformer\">\n",
    "# 7. How to create custom preprocessing steps.\n",
    "\n",
    "Now, remember, if you wish to perform a transformation during the **modeling workflow**, you should add it to a **model pipeline**, along with the other preprocessing steps, such as <code style=\"color:steelblue\">StandardScaler()</code>.\n",
    "* That way, you can learn the values of $\\lambda$ from the training set and apply the same ones to the test set.\n",
    "* In other words, $\\lambda$ should be treated as a **preprocessing parameter**.\n",
    "* This also allows you to include transformations inside cross-validation loops.\n",
    "\n",
    "Unfortunately, Scikit-Learn (as of version 0.18) doesn't have the Box-Cox transformation implemented. \n",
    "\n",
    "### 7.1 - Custom transformers\n",
    "\n",
    "Therefore, we need to create something called a **custom transformer**. Custom transformers allow you to define your own transformations (no matter how obscure or complex) as long as you include key functions that follow the existing paradigm.\n",
    "\n",
    "First, we'll need to import the <code style=\"color:steelblue\">TransformerMixin</code>."
   ]
  },
  {
   "cell_type": "code",
   "execution_count": 47,
   "metadata": {
    "collapsed": true,
    "deletable": true,
    "editable": true
   },
   "outputs": [],
   "source": [
    "# Used for custom transformers\n",
    "from sklearn.base import TransformerMixin"
   ]
  },
  {
   "cell_type": "markdown",
   "metadata": {
    "deletable": true,
    "editable": true
   },
   "source": [
    "This will allow us to create a **custom Python class** that mimics the functionality of Sckit-Learn classes such as <code style=\"color:steelblue\">StandardScaler()</code>."
   ]
  },
  {
   "cell_type": "markdown",
   "metadata": {
    "deletable": true,
    "editable": true
   },
   "source": [
    "### 7.2 - BoxCoxTransformer\n",
    "\n",
    "Next, there are 3 key functions we must include in the class.\n",
    "1. First, an <code style=\"color:steelblue\">\\__init__()</code> function. We can use this to set the value(s) for $\\lambda$, if needed.\n",
    "2. Second, a <code style=\"color:steelblue\">transform()</code> function. These are instructions for transforming data given the value(s) for $\\lambda$.\n",
    "3. Finally, a <code style=\"color:steelblue\">fit()</code> function. This describes how to \"learn\" the values of $\\lambda$ from a training set.\n",
    "\n",
    "Here's the full example (note that we use the <code style=\"color:steelblue\">TransformerMixin</code> at the very beginning):"
   ]
  },
  {
   "cell_type": "code",
   "execution_count": 48,
   "metadata": {
    "collapsed": true,
    "deletable": true,
    "editable": true
   },
   "outputs": [],
   "source": [
    "class BoxCoxTransformer(TransformerMixin):\n",
    "    \"\"\"\n",
    "    Custom Box-Cox transformer using the TransformerMixin\n",
    "    \"\"\"\n",
    "    \n",
    "    def __init__(self, lmbda=None):\n",
    "        # If lambda values were passed in during initialization, use those\n",
    "        self.lmbda = lmbda\n",
    "        \n",
    "    def transform(self, X, *_):   \n",
    "        # If given a 1-dimensional X, reshape it to have 2 dimensions\n",
    "        if len(X.shape) == 1:\n",
    "            X = X.values.reshape(-1,1)\n",
    "        \n",
    "        # Create empty output list\n",
    "        output = []\n",
    "        \n",
    "        # For each feature...\n",
    "        for i in range(X.shape[1]):\n",
    "            # Transform that feature's data using its corresponding lambda value\n",
    "            X_transformed = boxcox(X[:, i], self.lmbda[i])\n",
    "            \n",
    "            # Append to output list\n",
    "            output.append(X_transformed)\n",
    "        \n",
    "        # Make output list a Numpy array and transpose it\n",
    "        output = np.array(output).transpose()\n",
    "        \n",
    "        return output\n",
    "    \n",
    "    def fit(self, X, *_):\n",
    "        # If given a 1-dimensional X, reshape it to have 2 dimensions\n",
    "        if len(X.shape) == 1:\n",
    "            X = X.values.reshape(-1,1)\n",
    "\n",
    "        # Create empty lambda list\n",
    "        self.lmbda = []\n",
    "        \n",
    "        # For each feature...\n",
    "        for i in range(X.shape[1]):\n",
    "            # Find the best lambda for transforming that feature\n",
    "            X_transformed, lmbda = boxcox(X[:, i])\n",
    "            \n",
    "            # Append that lambda to the lambda list\n",
    "            self.lmbda.append(lmbda)\n",
    "            \n",
    "        return self"
   ]
  },
  {
   "cell_type": "code",
   "execution_count": 56,
   "metadata": {
    "collapsed": false,
    "deletable": true,
    "editable": true
   },
   "outputs": [],
   "source": [
    "class Boxcoxer(TransformerMixin):\n",
    "    def __int__(self, lmbda=None):\n",
    "        self.lmbda=lmbda\n",
    "        \n",
    "    def fit(self, X):\n",
    "        if(len(X.shape)==1):\n",
    "            X=X.reshape(-1,1)\n",
    "        self.lmbda=[]\n",
    "        for i in range(X.shape[1]):\n",
    "            transform, lmbda = boxcox(X[:,i])\n",
    "            self.lmbda.append(lmbda)\n",
    "        return self\n",
    "    \n",
    "    def transform(self, X):\n",
    "        if(len(X.shape)==1):\n",
    "            X=X.reshape(-1,1)\n",
    "        out=[]\n",
    "        for i in range(X.shape[1]):\n",
    "            trans=boxcox(X[:,i], self.lmbda[i])\n",
    "            out.append(trans)\n",
    "            \n",
    "        out=np.array(out).T\n",
    "        return out\n",
    "            "
   ]
  },
  {
   "cell_type": "markdown",
   "metadata": {
    "deletable": true,
    "editable": true
   },
   "source": [
    "### 7.3 - \"Fitting\" the transformation\n",
    "\n",
    "Now that we have our custom transformer, we can use it in the same way we'd use something like <code style=\"color:steelblue\">StandardScaler()</code>.\n",
    "1. Initialize an instance of the transformation.\n",
    "2. \"Fit\" that instance (i.e. learn the values of lambda from a training set).\n",
    "3. Transform new data (or the existing training set)"
   ]
  },
  {
   "cell_type": "code",
   "execution_count": 49,
   "metadata": {
    "collapsed": true,
    "deletable": true,
    "editable": true
   },
   "outputs": [],
   "source": [
    "# Initialize transformation\n",
    "box_cox = BoxCoxTransformer()\n",
    "\n",
    "# Learn lambda(s)\n",
    "box_cox.fit(df.mass)\n",
    "\n",
    "# Use learned lambda(s) to transform data \n",
    "boxcox_transformed_mass_2 = box_cox.transform(df.mass)"
   ]
  },
  {
   "cell_type": "code",
   "execution_count": 59,
   "metadata": {
    "collapsed": true
   },
   "outputs": [
    {
     "data": {
      "text/plain": [
       "array([[ 2.31050489],\n",
       "       [ 0.84668225],\n",
       "       [ 1.03417309],\n",
       "       [ 3.81557945],\n",
       "       [ 2.86717554],\n",
       "       [ 1.78806731],\n",
       "       [ 1.7443782 ],\n",
       "       [ 2.83897534],\n",
       "       [ 0.72832928],\n",
       "       [-0.14897891],\n",
       "       [ 2.77823134],\n",
       "       [ 1.51782211],\n",
       "       [ 1.00233836],\n",
       "       [-0.58617041],\n",
       "       [ 0.5152479 ],\n",
       "       [-0.70653578],\n",
       "       [-0.21912297],\n",
       "       [-1.56070951],\n",
       "       [ 1.40073668],\n",
       "       [-1.52965495],\n",
       "       [-3.0057392 ],\n",
       "       [-2.28748068],\n",
       "       [-2.13838913],\n",
       "       [ 1.91716313],\n",
       "       [ 1.28107969],\n",
       "       [ 0.6169505 ],\n",
       "       [-3.67908901],\n",
       "       [ 0.45433436],\n",
       "       [ 2.40478403],\n",
       "       [ 2.60823643],\n",
       "       [ 0.64718023],\n",
       "       [ 1.12133567],\n",
       "       [ 0.55432084],\n",
       "       [ 0.03934671],\n",
       "       [ 1.52424181],\n",
       "       [ 3.9135102 ],\n",
       "       [-0.36331279],\n",
       "       [ 0.72325863],\n",
       "       [ 1.59676616],\n",
       "       [ 0.05759449],\n",
       "       [ 1.86680073],\n",
       "       [-2.43265748],\n",
       "       [-1.01400811],\n",
       "       [-2.72785977],\n",
       "       [-1.53841814],\n",
       "       [ 0.39765214],\n",
       "       [ 0.10525523],\n",
       "       [ 1.52744134],\n",
       "       [-2.58097083],\n",
       "       [-2.79249925],\n",
       "       [-2.07757867],\n",
       "       [-0.19526669],\n",
       "       [ 0.67322219],\n",
       "       [ 0.48852956],\n",
       "       [ 0.89227186],\n",
       "       [-2.945245  ],\n",
       "       [-2.38100355],\n",
       "       [-2.97474744],\n",
       "       [-2.83945825],\n",
       "       [-3.46672482],\n",
       "       [-1.01907703],\n",
       "       [-2.945245  ],\n",
       "       [-3.1486895 ],\n",
       "       [-3.0057392 ],\n",
       "       [-3.33908729],\n",
       "       [-3.33908729],\n",
       "       [-3.07292784],\n",
       "       [-2.58097083],\n",
       "       [ 1.82793306],\n",
       "       [-3.07292784],\n",
       "       [-2.56464736],\n",
       "       [-0.43039738],\n",
       "       [-0.09358745],\n",
       "       [ 0.88006158],\n",
       "       [-0.32750015],\n",
       "       [-2.86429189],\n",
       "       [-2.41939456],\n",
       "       [ 1.34394651],\n",
       "       [-2.83945825],\n",
       "       [ 3.42722865],\n",
       "       [ 1.35476401],\n",
       "       [ 1.35476401],\n",
       "       [ 0.2272631 ],\n",
       "       [ 1.91716313],\n",
       "       [-2.79249925],\n",
       "       [-2.92819562],\n",
       "       [ 1.24278207],\n",
       "       [ 2.10393866],\n",
       "       [ 1.81475814],\n",
       "       [-0.6916493 ],\n",
       "       [ 0.48852956],\n",
       "       [-1.30989459],\n",
       "       [ 0.46124648],\n",
       "       [-0.21912297],\n",
       "       [-2.49557856],\n",
       "       [ 0.772578  ],\n",
       "       [ 0.89227186],\n",
       "       [ 0.92670977],\n",
       "       [ 0.92670977],\n",
       "       [ 0.69991224],\n",
       "       [ 0.71135176],\n",
       "       [ 2.40478403],\n",
       "       [-0.6916493 ],\n",
       "       [ 0.52184222],\n",
       "       [-1.12067249],\n",
       "       [ 0.10525523],\n",
       "       [ 0.73394088],\n",
       "       [-2.68803212],\n",
       "       [-0.44501896],\n",
       "       [ 0.6169505 ],\n",
       "       [ 3.32163877],\n",
       "       [-0.34647659],\n",
       "       [ 0.62912567],\n",
       "       [-2.48830652],\n",
       "       [-2.53310702],\n",
       "       [-2.06926314],\n",
       "       [-2.12052732],\n",
       "       [-2.18493046],\n",
       "       [-1.39611876],\n",
       "       [-0.06156355],\n",
       "       [ 2.12799234],\n",
       "       [ 1.36906381],\n",
       "       [-0.19526669],\n",
       "       [ 2.19807482],\n",
       "       [-0.45685668],\n",
       "       [-2.07925233],\n",
       "       [ 0.89227186],\n",
       "       [ 0.68837364],\n",
       "       [ 3.29977782],\n",
       "       [-2.62355507],\n",
       "       [-2.56464736],\n",
       "       [-0.14332028],\n",
       "       [ 1.87445925],\n",
       "       [ 0.66499151],\n",
       "       [-1.20907662],\n",
       "       [-2.16037964],\n",
       "       [ 1.67642016],\n",
       "       [ 3.3324728 ],\n",
       "       [ 1.07842968],\n",
       "       [ 0.32305145],\n",
       "       [-2.53619771],\n",
       "       [-2.47115168],\n",
       "       [ 0.06803417],\n",
       "       [-3.31141535],\n",
       "       [-3.36525808],\n",
       "       [-3.03504973],\n",
       "       [-2.53465066],\n",
       "       [-2.37356241],\n",
       "       [ 0.67673405],\n",
       "       [ 0.72832928],\n",
       "       [-2.62884771],\n",
       "       [-2.20712454],\n",
       "       [ 0.4192036 ],\n",
       "       [ 1.03866221],\n",
       "       [ 3.26088449],\n",
       "       [ 2.42482616],\n",
       "       [ 1.55906575],\n",
       "       [-0.05107886],\n",
       "       [ 0.2519084 ],\n",
       "       [ 0.38307918],\n",
       "       [-0.459836  ],\n",
       "       [ 0.15023505],\n",
       "       [ 1.98743572],\n",
       "       [ 0.55432084],\n",
       "       [ 2.67044736],\n",
       "       [ 0.32535476],\n",
       "       [ 0.6169505 ],\n",
       "       [-0.65532147],\n",
       "       [-2.55982431],\n",
       "       [-2.37109875],\n",
       "       [-2.34571799],\n",
       "       [ 0.26807148],\n",
       "       [-1.01400811],\n",
       "       [ 1.21930458],\n",
       "       [-0.23123875],\n",
       "       [ 2.65944642],\n",
       "       [-0.47485433],\n",
       "       [-0.36962311],\n",
       "       [-0.45388536],\n",
       "       [ 2.84606805],\n",
       "       [ 0.89227186],\n",
       "       [ 1.34249809],\n",
       "       [-3.16095114],\n",
       "       [-2.92539893],\n",
       "       [-2.99941371],\n",
       "       [-0.17304989],\n",
       "       [ 3.23030691],\n",
       "       [ 2.89492993],\n",
       "       [-1.946085  ],\n",
       "       [-3.12491638],\n",
       "       [-2.86937694],\n",
       "       [-2.67085548],\n",
       "       [-3.19061828],\n",
       "       [-2.99315321],\n",
       "       [-2.83219241],\n",
       "       [ 1.55906575],\n",
       "       [ 1.00693094],\n",
       "       [ 3.72739371],\n",
       "       [-2.5178547 ],\n",
       "       [-2.72785977],\n",
       "       [-0.49008005],\n",
       "       [ 4.23600795],\n",
       "       [ 0.9838148 ],\n",
       "       [-0.52117953],\n",
       "       [-2.5029261 ],\n",
       "       [-1.46570434],\n",
       "       [-0.40469539],\n",
       "       [ 0.61082042],\n",
       "       [-0.71029036],\n",
       "       [-1.24363951],\n",
       "       [-2.14137612],\n",
       "       [-0.96321669],\n",
       "       [ 1.84099713],\n",
       "       [ 2.29098568],\n",
       "       [ 0.15023505],\n",
       "       [-1.82184215],\n",
       "       [ 0.56072047],\n",
       "       [ 1.81475814],\n",
       "       [-2.48397883],\n",
       "       [-2.29299292],\n",
       "       [ 0.12344662],\n",
       "       [ 1.90472356],\n",
       "       [ 1.26389502],\n",
       "       [ 2.37955476],\n",
       "       [-0.89494584],\n",
       "       [ 1.16297836],\n",
       "       [-0.43039738],\n",
       "       [ 0.23553266],\n",
       "       [-1.53841814],\n",
       "       [ 2.08175472],\n",
       "       [ 1.12976263],\n",
       "       [ 0.67673405],\n",
       "       [-2.61482415],\n",
       "       [-2.53310702],\n",
       "       [-2.27657646],\n",
       "       [ 0.73394088],\n",
       "       [ 1.26205802],\n",
       "       [ 1.22717315],\n",
       "       [ 0.659081  ],\n",
       "       [ 0.86713248],\n",
       "       [ 0.86713248],\n",
       "       [ 0.14137064],\n",
       "       [ 0.6169505 ],\n",
       "       [ 2.48704377],\n",
       "       [-0.85961732],\n",
       "       [-0.80880074],\n",
       "       [ 0.99310745],\n",
       "       [-1.42674105],\n",
       "       [ 0.29978327],\n",
       "       [ 2.26326312],\n",
       "       [ 1.07842968],\n",
       "       [ 0.26807148],\n",
       "       [-0.85097209],\n",
       "       [-1.72393088],\n",
       "       [-3.1764414 ],\n",
       "       [ 0.4192036 ],\n",
       "       [-0.08281595],\n",
       "       [ 2.29098568],\n",
       "       [ 0.60466163],\n",
       "       [-1.34130112],\n",
       "       [ 0.60466163],\n",
       "       [ 2.55208566],\n",
       "       [-2.28748068],\n",
       "       [ 1.51137467],\n",
       "       [-0.91766328],\n",
       "       [-2.74238366],\n",
       "       [-2.63596909],\n",
       "       [ 0.18506556],\n",
       "       [-0.10445842],\n",
       "       [-0.37375772],\n",
       "       [ 1.55593319],\n",
       "       [-2.69973264],\n",
       "       [-2.5029261 ],\n",
       "       [-2.74870736],\n",
       "       [ 0.6169505 ],\n",
       "       [ 2.25123693],\n",
       "       [-0.65175591],\n",
       "       [-2.01337176],\n",
       "       [-0.94090027],\n",
       "       [ 0.34589724],\n",
       "       [ 0.55432084],\n",
       "       [ 0.15023505],\n",
       "       [-1.09290437],\n",
       "       [-1.52965495],\n",
       "       [-0.74859036],\n",
       "       [ 2.05925929],\n",
       "       [ 1.03417309],\n",
       "       [-2.36864337],\n",
       "       [ 2.05925929],\n",
       "       [-0.0406861 ],\n",
       "       [-1.93271344],\n",
       "       [-0.92457864],\n",
       "       [-1.47059192],\n",
       "       [ 2.52841338],\n",
       "       [ 2.27520164],\n",
       "       [ 2.9357586 ],\n",
       "       [ 2.73803092],\n",
       "       [-1.37748385],\n",
       "       [-1.20599556],\n",
       "       [ 1.03417309],\n",
       "       [ 0.26001615],\n",
       "       [-0.01004208],\n",
       "       [-0.25586029],\n",
       "       [-2.32118227],\n",
       "       [-2.10306488],\n",
       "       [-1.14925351],\n",
       "       [ 2.94782549],\n",
       "       [ 2.25123693],\n",
       "       [ 1.13395738],\n",
       "       [-1.17870158],\n",
       "       [-0.33307978],\n",
       "       [ 0.21893801],\n",
       "       [-0.6916493 ],\n",
       "       [ 3.02496253],\n",
       "       [ 0.09605649],\n",
       "       [-0.05107886],\n",
       "       [ 0.78880291],\n",
       "       [ 0.66499151],\n",
       "       [-1.50386728],\n",
       "       [ 0.80483507],\n",
       "       [ 1.70510389],\n",
       "       [ 0.20211792],\n",
       "       [ 1.46210719],\n",
       "       [ 1.20343665],\n",
       "       [-2.27657646],\n",
       "       [ 2.32979547],\n",
       "       [-2.48830652],\n",
       "       [-0.89494584],\n",
       "       [-1.32721244],\n",
       "       [ 0.38307918],\n",
       "       [ 1.29611884],\n",
       "       [ 0.48852956],\n",
       "       [ 0.03934671],\n",
       "       [ 0.84152134],\n",
       "       [ 3.70802359],\n",
       "       [ 1.99216878],\n",
       "       [ 0.41206017],\n",
       "       [-2.57932105],\n",
       "       [-1.62773871],\n",
       "       [ 0.48176275],\n",
       "       [-0.19526669],\n",
       "       [-2.68417694],\n",
       "       [-2.53002992],\n",
       "       [-1.78598052],\n",
       "       [ 0.73394088],\n",
       "       [-2.98695626],\n",
       "       [-2.56788144],\n",
       "       [-2.66897377],\n",
       "       [-1.33071476],\n",
       "       [ 2.76047941],\n",
       "       [ 2.75153488],\n",
       "       [ 1.86680073],\n",
       "       [ 0.67673405],\n",
       "       [ 0.50195772],\n",
       "       [ 1.25052344],\n",
       "       [ 1.16297836],\n",
       "       [ 2.02722372],\n",
       "       [ 0.79951213],\n",
       "       [ 2.20222639],\n",
       "       [ 0.19362122],\n",
       "       [-0.16037922],\n",
       "       [-0.0406861 ],\n",
       "       [ 0.29193034],\n",
       "       [ 3.45777125],\n",
       "       [-1.54726801],\n",
       "       [ 1.20343665],\n",
       "       [ 0.4192036 ],\n",
       "       [ 1.09143914],\n",
       "       [-2.9088767 ],\n",
       "       [-0.05421453],\n",
       "       [ 1.84619217],\n",
       "       [ 0.86204861],\n",
       "       [ 1.02515135],\n",
       "       [-0.16037922],\n",
       "       [-0.19526669],\n",
       "       [ 2.75302884],\n",
       "       [-0.28102277],\n",
       "       [-3.10958858],\n",
       "       [ 2.8769395 ],\n",
       "       [-1.7918526 ],\n",
       "       [ 0.6169505 ],\n",
       "       [ 0.12344662],\n",
       "       [ 0.67673405],\n",
       "       [ 0.78880291],\n",
       "       [-0.30675296],\n",
       "       [ 0.62548492],\n",
       "       [ 3.34324364],\n",
       "       [-0.25586029],\n",
       "       [ 0.88728082],\n",
       "       [-0.6916493 ],\n",
       "       [ 1.07842968],\n",
       "       [-0.94090027],\n",
       "       [ 1.40073668],\n",
       "       [ 0.55432084],\n",
       "       [ 2.48004891],\n",
       "       [ 3.70359392],\n",
       "       [-1.30646903],\n",
       "       [ 1.15474698],\n",
       "       [ 1.56842439],\n",
       "       [-0.38765085],\n",
       "       [ 1.03417309],\n",
       "       [ 1.07842968],\n",
       "       [ 2.44104712],\n",
       "       [-0.47485433],\n",
       "       [ 0.41206017],\n",
       "       [-1.63115444],\n",
       "       [ 2.2968658 ],\n",
       "       [-2.06926314],\n",
       "       [-0.05107886],\n",
       "       [ 0.48852956],\n",
       "       [ 1.3183889 ],\n",
       "       [-2.79704458],\n",
       "       [-0.43039738],\n",
       "       [-0.58617041],\n",
       "       [-0.91766328],\n",
       "       [ 1.45541285],\n",
       "       [ 1.49839549],\n",
       "       [-0.06156355],\n",
       "       [-0.28102277],\n",
       "       [-0.62018957],\n",
       "       [ 0.72832928],\n",
       "       [ 0.23553266],\n",
       "       [-2.63955793],\n",
       "       [ 2.0660412 ],\n",
       "       [ 0.42062751],\n",
       "       [-2.28748068],\n",
       "       [ 0.67673405],\n",
       "       [ 1.24278207],\n",
       "       [-0.3198399 ],\n",
       "       [-2.33066626],\n",
       "       [-2.10722049],\n",
       "       [ 0.9884689 ],\n",
       "       [ 1.4587638 ],\n",
       "       [ 1.20343665],\n",
       "       [ 2.27123179],\n",
       "       [ 1.02515135],\n",
       "       [-0.23123875],\n",
       "       [ 0.64718023],\n",
       "       [-0.10993185],\n",
       "       [ 3.6404781 ],\n",
       "       [ 0.96030704],\n",
       "       [ 1.57153102],\n",
       "       [-2.32118227],\n",
       "       [ 0.54142654],\n",
       "       [-1.19073679],\n",
       "       [ 0.32305145],\n",
       "       [ 0.84152134],\n",
       "       [-0.74859036],\n",
       "       [ 2.78117244],\n",
       "       [ 0.21055656],\n",
       "       [-0.74859036],\n",
       "       [ 0.89227186],\n",
       "       [ 1.70510389],\n",
       "       [-3.30072683],\n",
       "       [-3.25017933],\n",
       "       [-1.91203554],\n",
       "       [-1.25328719],\n",
       "       [-2.97474744],\n",
       "       [-1.01400811],\n",
       "       [ 0.23553266],\n",
       "       [ 0.78880291],\n",
       "       [-0.41596568],\n",
       "       [ 0.33832787],\n",
       "       [ 1.03417309],\n",
       "       [ 3.1863853 ],\n",
       "       [-1.37748385],\n",
       "       [ 2.85172161],\n",
       "       [-2.25523166],\n",
       "       [ 2.9491612 ],\n",
       "       [ 0.05854729],\n",
       "       [ 0.38307918],\n",
       "       [ 1.23889571],\n",
       "       [ 0.67673405],\n",
       "       [ 2.43205493],\n",
       "       [-0.33307978],\n",
       "       [ 0.07744717],\n",
       "       [ 1.91716313],\n",
       "       [ 1.00693094],\n",
       "       [-2.7382013 ],\n",
       "       [-0.26837229],\n",
       "       [ 0.36090127],\n",
       "       [-0.71029036],\n",
       "       [ 0.2272631 ],\n",
       "       [ 1.51782211],\n",
       "       [ 0.2519084 ],\n",
       "       [-0.53706703],\n",
       "       [-1.09839539],\n",
       "       [-2.56464736],\n",
       "       [-0.82967128],\n",
       "       [-0.60816027],\n",
       "       [ 2.67201318],\n",
       "       [ 2.64360735],\n",
       "       [ 2.61472224],\n",
       "       [ 0.78880291],\n",
       "       [ 0.06614274],\n",
       "       [ 0.69991224],\n",
       "       [ 0.39765214],\n",
       "       [-0.05421453]])"
      ]
     },
     "execution_count": 59,
     "metadata": {},
     "output_type": "execute_result"
    }
   ],
   "source": [
    "bc=Boxcoxer()\n",
    "bc.fit(df.mass)\n",
    "mass3=bc.transform(df.mass)\n",
    "mass3"
   ]
  },
  {
   "cell_type": "code",
   "execution_count": 60,
   "metadata": {
    "collapsed": false
   },
   "outputs": [
    {
     "data": {
      "text/plain": [
       "(498, 1)"
      ]
     },
     "execution_count": 60,
     "metadata": {},
     "output_type": "execute_result"
    }
   ],
   "source": [
    "mass3.shape"
   ]
  },
  {
   "cell_type": "code",
   "execution_count": 64,
   "metadata": {
    "collapsed": false
   },
   "outputs": [
    {
     "data": {
      "text/plain": [
       "(498,)"
      ]
     },
     "execution_count": 64,
     "metadata": {},
     "output_type": "execute_result"
    }
   ],
   "source": [
    "boxcox_transformed_mass.shape"
   ]
  },
  {
   "cell_type": "code",
   "execution_count": 65,
   "metadata": {
    "collapsed": false
   },
   "outputs": [
    {
     "data": {
      "text/plain": [
       "(498, 1)"
      ]
     },
     "execution_count": 65,
     "metadata": {},
     "output_type": "execute_result"
    }
   ],
   "source": [
    "boxcox_transformed_mass_2.shape"
   ]
  },
  {
   "cell_type": "code",
   "execution_count": 67,
   "metadata": {
    "collapsed": false
   },
   "outputs": [
    {
     "data": {
      "text/plain": [
       "True"
      ]
     },
     "execution_count": 67,
     "metadata": {},
     "output_type": "execute_result"
    }
   ],
   "source": [
    "all(mass3.flatten()==boxcox_transformed_mass)"
   ]
  },
  {
   "cell_type": "code",
   "execution_count": 73,
   "metadata": {
    "collapsed": false
   },
   "outputs": [
    {
     "data": {
      "text/plain": [
       "True"
      ]
     },
     "execution_count": 73,
     "metadata": {},
     "output_type": "execute_result"
    }
   ],
   "source": [
    "all(mass3.ravel()==mass3.flatten())"
   ]
  },
  {
   "cell_type": "markdown",
   "metadata": {
    "deletable": true,
    "editable": true
   },
   "source": [
    "We've saved the transformed data in <code style=\"color:steelblue\">boxcox_transformed_mass_2</code>.\n",
    "\n",
    "If we implemented the custom transformer correctly, it should be identical to the transformed data from <span style=\"color:royalblue\">6.1</span>, when we used the <code style=\"color:steelblue\">boxcox()</code> function directly."
   ]
  },
  {
   "cell_type": "code",
   "execution_count": 50,
   "metadata": {
    "collapsed": false,
    "deletable": true,
    "editable": true
   },
   "outputs": [
    {
     "data": {
      "text/plain": [
       "True"
      ]
     },
     "execution_count": 50,
     "metadata": {},
     "output_type": "execute_result"
    }
   ],
   "source": [
    "# Confirm transformed data is the same as in 6.1\n",
    "all(boxcox_transformed_mass == boxcox_transformed_mass_2.flatten())"
   ]
  },
  {
   "cell_type": "markdown",
   "metadata": {
    "deletable": true,
    "editable": true
   },
   "source": [
    "Just as a final sanity check, we can confirm that the lambdas learned are identical."
   ]
  },
  {
   "cell_type": "code",
   "execution_count": 51,
   "metadata": {
    "collapsed": false,
    "deletable": true,
    "editable": true,
    "scrolled": true
   },
   "outputs": [
    {
     "name": "stdout",
     "output_type": "stream",
     "text": [
      "[0.16346104802585196]\n",
      "0.163461048026\n"
     ]
    }
   ],
   "source": [
    "# Display lambda used for transformation\n",
    "print( box_cox.lmbda )\n",
    "\n",
    "print( lmbda )"
   ]
  },
  {
   "cell_type": "markdown",
   "metadata": {
    "deletable": true,
    "editable": true
   },
   "source": [
    "### 7.4 - Multiple features\n",
    "\n",
    "Finally, here's a quick example of where our custom transformer shines. \n",
    "* The <code style=\"color:steelblue\">boxcox()</code> function from Scipy **can only handle 1 feature** at a time.\n",
    "* Our custom transformer **can handle multiple features**, and it will *learn separate lambdas for each one*."
   ]
  },
  {
   "cell_type": "code",
   "execution_count": 74,
   "metadata": {
    "collapsed": true,
    "deletable": true,
    "editable": true
   },
   "outputs": [],
   "source": [
    "# Initialize transformation\n",
    "box_cox = BoxCoxTransformer()\n",
    "\n",
    "# Learn lambda(s)\n",
    "box_cox.fit(df[['mass', 'orbital_period', 'distance']].values)\n",
    "\n",
    "# Use learned lambda(s) to transform data \n",
    "boxcox_transformed_features = box_cox.transform(df[['mass', 'orbital_period', 'distance']].values)"
   ]
  },
  {
   "cell_type": "markdown",
   "metadata": {
    "deletable": true,
    "editable": true
   },
   "source": [
    "It should've learned 3 different $\\lambda$ values:"
   ]
  },
  {
   "cell_type": "code",
   "execution_count": 75,
   "metadata": {
    "collapsed": false,
    "deletable": true,
    "editable": true
   },
   "outputs": [
    {
     "name": "stdout",
     "output_type": "stream",
     "text": [
      "[0.16346104802585196, 0.13157278843112405, 0.11639582569488408]\n"
     ]
    }
   ],
   "source": [
    "# Display lambdas used for transformations\n",
    "print( box_cox.lmbda )"
   ]
  },
  {
   "cell_type": "markdown",
   "metadata": {
    "deletable": true,
    "editable": true
   },
   "source": [
    "<div style=\"text-align:center; margin: 40px 0 40px 0;\">\n",
    "[**Back to Contents**](#toc)\n",
    "</div>"
   ]
  },
  {
   "cell_type": "markdown",
   "metadata": {
    "deletable": true,
    "editable": true
   },
   "source": [
    "<br id=\"sequence-preprocessing\">\n",
    "# 8. How to sequence preprocessing steps (Naive Bayes example).\n",
    "\n",
    "So far, we've seen how to apply the Box-Cox transformation and how to create custom transformers to use in model pipelines.\n",
    "\n",
    "### 8.1 - Naive Bayes\n",
    "Now, let's put it all together using the *Naive Bayes* algorithm as an example.\n",
    "\n",
    "The Naive Bayes algorithm is a very simple algorithm for **classification**. We won't go into the theory behind it here, but the basic intuition is that it generates **probability distributions** for different classes based on your training data and categorizes new observations based on those distributions.\n",
    "* There are no hyperparameters to tune.\n",
    "* One of the assumptions for *Gaussian Naive Bayes* is that your features are **normally distributed**.\n",
    "* Therefore, applying the **Box-Cox transformation before Naive Bayes** tends to improve performance.\n",
    "* There's a great read [here](http://stackoverflow.com/questions/10059594/a-simple-explanation-of-naive-bayes-classification) that further breaks down the intuition behind Naive Bayes.\n",
    "\n",
    "Let's import the tools we'll need:"
   ]
  },
  {
   "cell_type": "code",
   "execution_count": 78,
   "metadata": {
    "collapsed": false,
    "deletable": true,
    "editable": true
   },
   "outputs": [],
   "source": [
    "# Splitting data and making model pipelines\n",
    "from sklearn.model_selection import train_test_split\n",
    "from sklearn.pipeline import make_pipeline\n",
    "\n",
    "# Naive Bayes\n",
    "from sklearn.naive_bayes import GaussianNB\n",
    "\n",
    "# Min-Max scaler (slightly different than StandardScaler!)\n",
    "from sklearn.preprocessing import MinMaxScaler"
   ]
  },
  {
   "cell_type": "markdown",
   "metadata": {
    "deletable": true,
    "editable": true
   },
   "source": [
    "### 8.2 - Toy example: binary classification\n",
    "\n",
    "Toy examples excellent ways to save time and learn concepts by simplifying the problem.\n",
    "* They help you isolate and break down the trickiest part of the problem. \n",
    "* Since our purpose is to see the entire model pipeline (with sequential preprocessing steps) in action, let's just create a **simple, contrived** problem for our dataset.\n",
    "\n",
    "First, display the distribution of exoplanets by discovery year."
   ]
  },
  {
   "cell_type": "code",
   "execution_count": 79,
   "metadata": {
    "collapsed": true,
    "deletable": true,
    "editable": true
   },
   "outputs": [
    {
     "data": {
      "text/plain": [
       "(array([ 0,  1,  2,  3,  4,  5,  6,  7,  8,  9, 10, 11, 12, 13, 14, 15, 16,\n",
       "        17, 18, 19, 20]), <a list of 21 Text xticklabel objects>)"
      ]
     },
     "execution_count": 79,
     "metadata": {},
     "output_type": "execute_result"
    },
    {
     "data": {
      "image/png": "[encoded data removed]",
      "text/plain": [
       "<matplotlib.figure.Figure at 0x9362198>"
      ]
     },
     "metadata": {},
     "output_type": "display_data"
    }
   ],
   "source": [
    "# Distribution of exoplanets by discovery year\n",
    "sns.countplot(df.year)\n",
    "plt.xticks(rotation=45)"
   ]
  },
  {
   "cell_type": "markdown",
   "metadata": {
    "deletable": true,
    "editable": true
   },
   "source": [
    "From a eyeball test, it looks like about half were discovered after 2006 and half before.\n",
    "\n",
    "For simplicity, let's try to build a model that predicts if an exoplanet was discovered after 2006 based on features such as mass, orbital period, and distance from Earth.\n",
    "\n",
    "Let's create our training and test sets:"
   ]
  },
  {
   "cell_type": "code",
   "execution_count": 80,
   "metadata": {
    "collapsed": true,
    "deletable": true,
    "editable": true
   },
   "outputs": [],
   "source": [
    "# Create target variable\n",
    "y = (df.year > 2006).astype(int)\n",
    "\n",
    "# Create input features\n",
    "X = df.drop(['year', 'number', 'method'], axis=1)\n",
    "\n",
    "# Split into training and test sets\n",
    "X_train, X_test, y_train, y_test = train_test_split(X, y, \n",
    "                                                    test_size=0.2, \n",
    "                                                    random_state=123)"
   ]
  },
  {
   "cell_type": "markdown",
   "metadata": {
    "deletable": true,
    "editable": true
   },
   "source": [
    "### 8.3 - MinMaxScaler\n",
    "\n",
    "When using a Box-Cox transformation, you usually need to include another preprocessing step before it.\n",
    "* One of the requirements for the Box-Cox transformation is that your data **must be positive**.\n",
    "* You'll get an error if you try to apply to features with negative values.\n",
    "\n",
    "<pre style=\"color:crimson\">\n",
    "ValueError: Data must be positive.\n",
    "</pre>\n",
    "\n",
    "(Feel free to try it on your own)\n",
    "\n",
    "<br>\n",
    "Therefore, we should scale our data beforehand. \n",
    "* However, <code style=\"color:steelblue\">StandardScaler</code> doesn't solve the problem because it scales features to make them centered around 0, which means you'll still have negative values.\n",
    "* That's where <code style=\"color:steelblue\">MinMaxScaler</code> comes in. With this transformer, you can scale each feature to a designated **feature range**.\n",
    "\n",
    "Here's how we'd create the entire model pipeline:"
   ]
  },
  {
   "cell_type": "code",
   "execution_count": 81,
   "metadata": {
    "collapsed": true,
    "deletable": true,
    "editable": true
   },
   "outputs": [],
   "source": [
    "nb_pipeline = make_pipeline(MinMaxScaler(feature_range=(1, 2)), # Scale features to (1,2)\n",
    "                            BoxCoxTransformer(), # Apply Box-Cox transformation\n",
    "                            GaussianNB()) # Fit a Naive Bayes model"
   ]
  },
  {
   "cell_type": "markdown",
   "metadata": {
    "deletable": true,
    "editable": true
   },
   "source": [
    "### 8.4 - Fitting the model\n",
    "\n",
    "After setting up the pipeline correctly, fitting the model is as easy as one line of code:"
   ]
  },
  {
   "cell_type": "code",
   "execution_count": 82,
   "metadata": {
    "collapsed": false,
    "deletable": true,
    "editable": true
   },
   "outputs": [
    {
     "data": {
      "text/plain": [
       "Pipeline(steps=[('minmaxscaler', MinMaxScaler(copy=True, feature_range=(1, 2))), ('boxcoxtransformer', <__main__.BoxCoxTransformer object at 0x000000000B8C5CC0>), ('gaussiannb', GaussianNB(priors=None))])"
      ]
     },
     "execution_count": 82,
     "metadata": {},
     "output_type": "execute_result"
    }
   ],
   "source": [
    "nb_pipeline.fit(X_train, y_train)"
   ]
  },
  {
   "cell_type": "code",
   "execution_count": 83,
   "metadata": {
    "collapsed": false
   },
   "outputs": [
    {
     "data": {
      "text/plain": [
       "Pipeline(steps=[('minmaxscaler', MinMaxScaler(copy=True, feature_range=(1, 2))), ('boxcoxtransformer', <__main__.BoxCoxTransformer object at 0x000000000B8C5CC0>), ('gaussiannb', GaussianNB(priors=None))])"
      ]
     },
     "execution_count": 83,
     "metadata": {},
     "output_type": "execute_result"
    }
   ],
   "source": [
    "a=nb_pipeline.fit(X_train, y_train)\n",
    "a"
   ]
  },
  {
   "cell_type": "markdown",
   "metadata": {
    "deletable": true,
    "editable": true
   },
   "source": [
    "Predicting new data is also one line of code:"
   ]
  },
  {
   "cell_type": "code",
   "execution_count": 85,
   "metadata": {
    "collapsed": false,
    "deletable": true,
    "editable": true
   },
   "outputs": [
    {
     "data": {
      "text/plain": [
       "array([1, 1, 1, 1, 1, 1, 1, 1, 1, 1, 1, 1, 1, 1, 1, 1, 1, 1, 1, 1, 0, 1, 1,\n",
       "       1, 1, 1, 1, 0, 1, 1, 1, 1, 1, 1, 1, 1, 1, 1, 1, 1, 1, 1, 1, 1, 1, 1,\n",
       "       1, 1, 1, 1, 1, 1, 1, 1, 1, 1, 1, 1, 1, 1, 1, 1, 1, 1, 1, 1, 1, 1, 1,\n",
       "       1, 1, 1, 1, 1, 1, 1, 1, 1, 1, 0, 1, 1, 1, 1, 1, 0, 1, 1, 1, 1, 1, 1,\n",
       "       1, 0, 1, 1, 1, 1, 1, 1])"
      ]
     },
     "execution_count": 85,
     "metadata": {},
     "output_type": "execute_result"
    }
   ],
   "source": [
    "nb_pipeline.predict(X_test)"
   ]
  },
  {
   "cell_type": "markdown",
   "metadata": {
    "deletable": true,
    "editable": true
   },
   "source": [
    "#### Remember, for classification, <code style=\"color:steelblue\">predict_proba</code> is often more useful:"
   ]
  },
  {
   "cell_type": "code",
   "execution_count": 86,
   "metadata": {
    "collapsed": true
   },
   "outputs": [],
   "source": [
    "# Predict class probabilities\n",
    "pred = nb_pipeline.predict_proba(X_test)"
   ]
  },
  {
   "cell_type": "code",
   "execution_count": 89,
   "metadata": {
    "collapsed": false
   },
   "outputs": [
    {
     "data": {
      "text/plain": [
       "array([[ 0.26153029,  0.73846971],\n",
       "       [ 0.47555274,  0.52444726],\n",
       "       [ 0.28354243,  0.71645757],\n",
       "       [ 0.32966356,  0.67033644],\n",
       "       [ 0.43241396,  0.56758604]])"
      ]
     },
     "execution_count": 89,
     "metadata": {},
     "output_type": "execute_result"
    }
   ],
   "source": [
    "pred[:5]"
   ]
  },
  {
   "cell_type": "code",
   "execution_count": 90,
   "metadata": {
    "collapsed": true,
    "deletable": true,
    "editable": true
   },
   "outputs": [
    {
     "data": {
      "text/plain": [
       "[0.7384697075101665,\n",
       " 0.52444725803615988,\n",
       " 0.71645756764855895,\n",
       " 0.67033644075148524,\n",
       " 0.56758604434289106,\n",
       " 0.64877894959507076,\n",
       " 0.58881172892759659,\n",
       " 0.67427775413087465,\n",
       " 0.59822090535377825,\n",
       " 0.5398659437386738]"
      ]
     },
     "execution_count": 90,
     "metadata": {},
     "output_type": "execute_result"
    }
   ],
   "source": [
    "# Keep the positive class probabilities\n",
    "pred = [p[1] for p in pred]\n",
    "\n",
    "pred[:10]"
   ]
  },
  {
   "cell_type": "markdown",
   "metadata": {
    "deletable": true,
    "editable": true
   },
   "source": [
    "<div style=\"text-align:center; margin: 40px 0 40px 0;\">\n",
    "[**Back to Contents**](#toc)\n",
    "</div>"
   ]
  },
  {
   "cell_type": "markdown",
   "metadata": {
    "deletable": true,
    "editable": true
   },
   "source": [
    "<br id=\"overlay-roc\">\n",
    "# 9. How to overlay multiple ROC curves.\n",
    "\n",
    "One popular visualization in textbooks and technical presentations is a plot showing overlaid ROC curves for classification performance.\n",
    "\n",
    "We'll round out this code book with a recipe for creating these plots.\n",
    "\n",
    "### 9.1 - Random forest classifier\n",
    "\n",
    "In <span style=\"color:royalblue\">8.4</span>, we already trained a Naive Bayes model for our toy problem. Now, let's quickly train a random forest classifier and compare results."
   ]
  },
  {
   "cell_type": "code",
   "execution_count": 92,
   "metadata": {
    "collapsed": false,
    "deletable": true,
    "editable": true
   },
   "outputs": [],
   "source": [
    "# Random forest classifier\n",
    "from sklearn.ensemble import RandomForestClassifier\n",
    "\n",
    "# StandardScaler\n",
    "from sklearn.preprocessing import StandardScaler\n",
    "\n",
    "# For calculating AUROC\n",
    "from sklearn.metrics import roc_curve, auc"
   ]
  },
  {
   "cell_type": "markdown",
   "metadata": {
    "deletable": true,
    "editable": true
   },
   "source": [
    "For random forests, we typically don't need to perform Box-Cox transformations."
   ]
  },
  {
   "cell_type": "code",
   "execution_count": 93,
   "metadata": {
    "collapsed": false,
    "deletable": true,
    "editable": true,
    "scrolled": true
   },
   "outputs": [
    {
     "data": {
      "text/plain": [
       "Pipeline(steps=[('standardscaler', StandardScaler(copy=True, with_mean=True, with_std=True)), ('randomforestclassifier', RandomForestClassifier(bootstrap=True, class_weight=None, criterion='gini',\n",
       "            max_depth=None, max_features='auto', max_leaf_nodes=None,\n",
       "            min_impurity_split=1e-07, min_samples_leaf=1,\n",
       "            min_samples_split=2, min_weight_fraction_leaf=0.0,\n",
       "            n_estimators=10, n_jobs=1, oob_score=False, random_state=123,\n",
       "            verbose=0, warm_start=False))])"
      ]
     },
     "execution_count": 93,
     "metadata": {},
     "output_type": "execute_result"
    }
   ],
   "source": [
    "# Random forest pipeline\n",
    "rf_pipeline = make_pipeline(StandardScaler(), RandomForestClassifier(random_state=123))\n",
    "\n",
    "# Fit random forest\n",
    "rf_pipeline.fit(X_train, y_train)"
   ]
  },
  {
   "cell_type": "markdown",
   "metadata": {
    "deletable": true,
    "editable": true
   },
   "source": [
    "### 9.2 - Overlaid ROC curves\n",
    "\n",
    "Here's the full example.\n",
    "* If you have more models, you can also put this process in a loop."
   ]
  },
  {
   "cell_type": "code",
   "execution_count": 94,
   "metadata": {
    "collapsed": true,
    "deletable": true,
    "editable": true
   },
   "outputs": [
    {
     "data": {
      "image/png": "[encoded data removed]",
      "text/plain": [
       "<matplotlib.figure.Figure at 0xb63cf98>"
      ]
     },
     "metadata": {},
     "output_type": "display_data"
    }
   ],
   "source": [
    "# Initialize plot\n",
    "fig = plt.figure(figsize=(8,8))\n",
    "plt.title('Receiver Operating Characteristic')\n",
    "\n",
    "\n",
    "# ---- Naive Bayes ---- #\n",
    "\n",
    "# Predicts X_test using model\n",
    "pred = nb_pipeline.predict_proba(X_test)\n",
    "pred = [p[1] for p in pred]\n",
    "    \n",
    "# Calculates ROC curve\n",
    "fpr, tpr, thresholds = roc_curve(y_test, pred)\n",
    "    \n",
    "# Calculates AUROC\n",
    "auroc = round(auc(fpr, tpr), 3)\n",
    "    \n",
    "# Plots ROC curve and labels with AUROC\n",
    "plt.plot(fpr, tpr, label='{} AUROC = {}'.format('NB', auroc))\n",
    "\n",
    "\n",
    "# ---- Random Forest ---- #\n",
    "\n",
    "# Predicts X_test using model\n",
    "pred = rf_pipeline.predict_proba(X_test)\n",
    "pred = [p[1] for p in pred]\n",
    "    \n",
    "# Calculates ROC curve\n",
    "fpr, tpr, thresholds = roc_curve(y_test, pred)\n",
    "    \n",
    "# Calculates AUROC\n",
    "auroc = round(auc(fpr, tpr), 3)\n",
    "    \n",
    "# Plots ROC curve and labels with AUROC\n",
    "plt.plot(fpr, tpr, label='{} AUROC = {}'.format('RF', auroc))\n",
    "\n",
    "\n",
    "# ---- Legend and labels ---- #\n",
    "\n",
    "# Plot legend\n",
    "plt.legend(loc='lower right')\n",
    "\n",
    "# Plots 45 degree dotted black line\n",
    "plt.plot([0,1],[0,1],'k--')\n",
    "\n",
    "# Axes limits and labels\n",
    "plt.xlim([-0.1,1.1])\n",
    "plt.ylim([-0.1,1.1])\n",
    "plt.ylabel('True Positive Rate')\n",
    "plt.xlabel('False Positive Rate')\n",
    "plt.show()"
   ]
  },
  {
   "cell_type": "code",
   "execution_count": 96,
   "metadata": {
    "collapsed": false
   },
   "outputs": [
    {
     "data": {
      "text/plain": [
       "0.75304749894913836"
      ]
     },
     "execution_count": 96,
     "metadata": {},
     "output_type": "execute_result"
    }
   ],
   "source": [
    "prob=rf_pipeline.predict_proba(X_test)\n",
    "fpr, tpr, threshold = roc_curve(y_test, prob[:,1])\n",
    "auc2=auc(fpr, tpr)\n",
    "auc2"
   ]
  },
  {
   "cell_type": "code",
   "execution_count": 99,
   "metadata": {
    "collapsed": true
   },
   "outputs": [
    {
     "data": {
      "text/plain": [
       "<matplotlib.legend.Legend at 0xbc0d240>"
      ]
     },
     "execution_count": 99,
     "metadata": {},
     "output_type": "execute_result"
    },
    {
     "data": {
      "image/png": "[encoded data removed]",
      "text/plain": [
       "<matplotlib.figure.Figure at 0xbe98e10>"
      ]
     },
     "metadata": {},
     "output_type": "display_data"
    }
   ],
   "source": [
    "plt.plot(fpr, tpr, label=\"RF auc= %.2f\"%auc2)\n",
    "plt.xlabel(\"False positive rate\")\n",
    "plt.ylabel(\"True positive rate\")\n",
    "plt.plot([0,1],[0,1],'k--')\n",
    "plt.legend()\n"
   ]
  },
  {
   "cell_type": "markdown",
   "metadata": {
    "deletable": true,
    "editable": true
   },
   "source": [
    "<div style=\"text-align:center; margin: 40px 0 40px 0;\">\n",
    "[**Back to Contents**](#toc)\n",
    "</div>"
   ]
  }
 ],
 "metadata": {
  "kernelspec": {
   "display_name": "Python 3",
   "language": "python",
   "name": "python3"
  },
  "language_info": {
   "codemirror_mode": {
    "name": "ipython",
    "version": 3
   },
   "file_extension": ".py",
   "mimetype": "text/x-python",
   "name": "python",
   "nbconvert_exporter": "python",
   "pygments_lexer": "ipython3",
   "version": "3.6.1"
  }
 },
 "nbformat": 4,
 "nbformat_minor": 2
}
