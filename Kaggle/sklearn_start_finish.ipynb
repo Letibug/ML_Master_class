{
 "cells": [
  {
   "cell_type": "code",
   "execution_count": 1,
   "metadata": {
    "collapsed": true,
    "deletable": true,
    "editable": true
   },
   "outputs": [],
   "source": [
    "import matplotlib.pyplot as plt\n",
    "%matplotlib inline\n",
    "import seaborn as sns\n",
    "import pandas as pd\n",
    "import numpy as np\n",
    "import warnings\n",
    "warnings.filterwarnings('ignore')\n",
    "import matplotlib as mpl\n",
    "mpl.style.use('ggplot')"
   ]
  },
  {
   "cell_type": "code",
   "execution_count": 2,
   "metadata": {
    "collapsed": true,
    "deletable": true,
    "editable": true
   },
   "outputs": [
    {
     "data": {
      "text/html": [
       "<div>\n",
       "<style>\n",
       "    .dataframe thead tr:only-child th {\n",
       "        text-align: right;\n",
       "    }\n",
       "\n",
       "    .dataframe thead th {\n",
       "        text-align: left;\n",
       "    }\n",
       "\n",
       "    .dataframe tbody tr th {\n",
       "        vertical-align: top;\n",
       "    }\n",
       "</style>\n",
       "<table border=\"1\" class=\"dataframe\">\n",
       "  <thead>\n",
       "    <tr style=\"text-align: right;\">\n",
       "      <th></th>\n",
       "      <th>PassengerId</th>\n",
       "      <th>Survived</th>\n",
       "      <th>Pclass</th>\n",
       "      <th>Name</th>\n",
       "      <th>Sex</th>\n",
       "      <th>Age</th>\n",
       "      <th>SibSp</th>\n",
       "      <th>Parch</th>\n",
       "      <th>Ticket</th>\n",
       "      <th>Fare</th>\n",
       "      <th>Cabin</th>\n",
       "      <th>Embarked</th>\n",
       "    </tr>\n",
       "  </thead>\n",
       "  <tbody>\n",
       "    <tr>\n",
       "      <th>0</th>\n",
       "      <td>1</td>\n",
       "      <td>0</td>\n",
       "      <td>3</td>\n",
       "      <td>Braund, Mr. Owen Harris</td>\n",
       "      <td>male</td>\n",
       "      <td>22.0</td>\n",
       "      <td>1</td>\n",
       "      <td>0</td>\n",
       "      <td>A/5 21171</td>\n",
       "      <td>7.2500</td>\n",
       "      <td>NaN</td>\n",
       "      <td>S</td>\n",
       "    </tr>\n",
       "    <tr>\n",
       "      <th>1</th>\n",
       "      <td>2</td>\n",
       "      <td>1</td>\n",
       "      <td>1</td>\n",
       "      <td>Cumings, Mrs. John Bradley (Florence Briggs Th...</td>\n",
       "      <td>female</td>\n",
       "      <td>38.0</td>\n",
       "      <td>1</td>\n",
       "      <td>0</td>\n",
       "      <td>PC 17599</td>\n",
       "      <td>71.2833</td>\n",
       "      <td>C85</td>\n",
       "      <td>C</td>\n",
       "    </tr>\n",
       "    <tr>\n",
       "      <th>2</th>\n",
       "      <td>3</td>\n",
       "      <td>1</td>\n",
       "      <td>3</td>\n",
       "      <td>Heikkinen, Miss. Laina</td>\n",
       "      <td>female</td>\n",
       "      <td>26.0</td>\n",
       "      <td>0</td>\n",
       "      <td>0</td>\n",
       "      <td>STON/O2. 3101282</td>\n",
       "      <td>7.9250</td>\n",
       "      <td>NaN</td>\n",
       "      <td>S</td>\n",
       "    </tr>\n",
       "    <tr>\n",
       "      <th>3</th>\n",
       "      <td>4</td>\n",
       "      <td>1</td>\n",
       "      <td>1</td>\n",
       "      <td>Futrelle, Mrs. Jacques Heath (Lily May Peel)</td>\n",
       "      <td>female</td>\n",
       "      <td>35.0</td>\n",
       "      <td>1</td>\n",
       "      <td>0</td>\n",
       "      <td>113803</td>\n",
       "      <td>53.1000</td>\n",
       "      <td>C123</td>\n",
       "      <td>S</td>\n",
       "    </tr>\n",
       "    <tr>\n",
       "      <th>4</th>\n",
       "      <td>5</td>\n",
       "      <td>0</td>\n",
       "      <td>3</td>\n",
       "      <td>Allen, Mr. William Henry</td>\n",
       "      <td>male</td>\n",
       "      <td>35.0</td>\n",
       "      <td>0</td>\n",
       "      <td>0</td>\n",
       "      <td>373450</td>\n",
       "      <td>8.0500</td>\n",
       "      <td>NaN</td>\n",
       "      <td>S</td>\n",
       "    </tr>\n",
       "  </tbody>\n",
       "</table>\n",
       "</div>"
      ],
      "text/plain": [
       "   PassengerId  Survived  Pclass  \\\n",
       "0            1         0       3   \n",
       "1            2         1       1   \n",
       "2            3         1       3   \n",
       "3            4         1       1   \n",
       "4            5         0       3   \n",
       "\n",
       "                                                Name     Sex   Age  SibSp  \\\n",
       "0                            Braund, Mr. Owen Harris    male  22.0      1   \n",
       "1  Cumings, Mrs. John Bradley (Florence Briggs Th...  female  38.0      1   \n",
       "2                             Heikkinen, Miss. Laina  female  26.0      0   \n",
       "3       Futrelle, Mrs. Jacques Heath (Lily May Peel)  female  35.0      1   \n",
       "4                           Allen, Mr. William Henry    male  35.0      0   \n",
       "\n",
       "   Parch            Ticket     Fare Cabin Embarked  \n",
       "0      0         A/5 21171   7.2500   NaN        S  \n",
       "1      0          PC 17599  71.2833   C85        C  \n",
       "2      0  STON/O2. 3101282   7.9250   NaN        S  \n",
       "3      0            113803  53.1000  C123        S  \n",
       "4      0            373450   8.0500   NaN        S  "
      ]
     },
     "execution_count": 2,
     "metadata": {},
     "output_type": "execute_result"
    }
   ],
   "source": [
    "data_train=pd.read_csv('data/titanic/train.csv')\n",
    "data_test=pd.read_csv('data/titanic/test.csv')\n",
    "data_train.head()"
   ]
  },
  {
   "cell_type": "code",
   "execution_count": 4,
   "metadata": {
    "collapsed": true,
    "deletable": true,
    "editable": true
   },
   "outputs": [
    {
     "data": {
      "text/plain": [
       "<matplotlib.axes._subplots.AxesSubplot at 0x9386978>"
      ]
     },
     "execution_count": 4,
     "metadata": {},
     "output_type": "execute_result"
    },
    {
     "data": {
      "image/png": "[encoded data removed]",
      "text/plain": [
       "<matplotlib.figure.Figure at 0x3c72e10>"
      ]
     },
     "metadata": {},
     "output_type": "display_data"
    }
   ],
   "source": [
    "sns.barplot('Embarked','Survived', data=data_train, hue='Sex', ci=None)"
   ]
  },
  {
   "cell_type": "code",
   "execution_count": 5,
   "metadata": {
    "collapsed": true,
    "deletable": true,
    "editable": true
   },
   "outputs": [
    {
     "data": {
      "text/plain": [
       "<matplotlib.axes._subplots.AxesSubplot at 0x96dd6d8>"
      ]
     },
     "execution_count": 5,
     "metadata": {},
     "output_type": "execute_result"
    },
    {
     "data": {
      "image/png": "[encoded data removed]",
      "text/plain": [
       "<matplotlib.figure.Figure at 0x8fb1128>"
      ]
     },
     "metadata": {},
     "output_type": "display_data"
    }
   ],
   "source": [
    "sns.pointplot(x='Pclass',y='Survived',hue='Sex',data=data_train,palette=['blue','pink'],\n",
    "              markers=['*','o'],linestyles=['-','--'])"
   ]
  },
  {
   "cell_type": "code",
   "execution_count": 6,
   "metadata": {
    "collapsed": true
   },
   "outputs": [],
   "source": [
    "age=data_train.Age.fillna(-0.5)\n",
    "bins=(-1,0,5,12,18,25,35,60,110)\n",
    "group_names = ['Unknown', 'Baby', 'Child', 'Teenager', 'Student', 'Young Adult', 'Adult', 'Senior']\n",
    "cat=pd.cut(age, bins, labels=group_names)"
   ]
  },
  {
   "cell_type": "code",
   "execution_count": 7,
   "metadata": {
    "collapsed": false,
    "deletable": true,
    "editable": true
   },
   "outputs": [
    {
     "data": {
      "text/plain": [
       "0        Student\n",
       "1          Adult\n",
       "2    Young Adult\n",
       "3    Young Adult\n",
       "4    Young Adult\n",
       "Name: Age, dtype: category\n",
       "Categories (8, object): [Adult < Baby < Child < Senior < Student < Teenager < Unknown < Young Adult]"
      ]
     },
     "execution_count": 7,
     "metadata": {},
     "output_type": "execute_result"
    }
   ],
   "source": [
    "cat.head()"
   ]
  },
  {
   "cell_type": "code",
   "execution_count": 8,
   "metadata": {
    "collapsed": true
   },
   "outputs": [],
   "source": [
    "def simplify_ages(df):\n",
    "    df.Age = df.Age.fillna(-0.5)\n",
    "    bins = (-1, 0, 5, 12, 18, 25, 35, 60, 120)\n",
    "    group_names = ['Unknown', 'Baby', 'Child', 'Teenager', 'Student', 'Young Adult', 'Adult', 'Senior']\n",
    "    categories = pd.cut(df.Age, bins, labels=group_names)\n",
    "    df.Age = categories\n",
    "    return df"
   ]
  },
  {
   "cell_type": "code",
   "execution_count": 9,
   "metadata": {
    "collapsed": true
   },
   "outputs": [],
   "source": [
    "def simplify_cabins(df):\n",
    "    df.Cabin = df.Cabin.fillna('N')\n",
    "    df.Cabin = df.Cabin.apply(lambda x: x[0])  # df.Cabin.map (lambda x:x[0]) works as well\n",
    "    return df"
   ]
  },
  {
   "cell_type": "code",
   "execution_count": 10,
   "metadata": {
    "collapsed": true
   },
   "outputs": [],
   "source": [
    "def simplify_fares(df):\n",
    "    df.Fare = df.Fare.fillna(-0.5)\n",
    "    bins = (-1, 0, 8, 15, 31, 1000)\n",
    "    group_names = ['Unknown', '1_quartile', '2_quartile', '3_quartile', '4_quartile']\n",
    "    categories = pd.cut(df.Fare, bins, labels=group_names)\n",
    "    df.Fare = categories\n",
    "    return df"
   ]
  },
  {
   "cell_type": "code",
   "execution_count": 11,
   "metadata": {
    "collapsed": true
   },
   "outputs": [],
   "source": [
    "def format_name(df):\n",
    "    df['Lname'] = df.Name.apply(lambda x: x.split(' ')[0])\n",
    "    df['NamePrefix'] = df.Name.apply(lambda x: x.split(' ')[1])\n",
    "    return df "
   ]
  },
  {
   "cell_type": "code",
   "execution_count": 12,
   "metadata": {
    "collapsed": false,
    "deletable": true,
    "editable": true
   },
   "outputs": [],
   "source": [
    "def drop_features(df):\n",
    "    return df.drop(['Ticket', 'Name', 'Embarked'], axis=1)\n",
    "\n",
    "def transform_features(df):\n",
    "    df = simplify_ages(df)\n",
    "    df = simplify_cabins(df)\n",
    "    df = simplify_fares(df)\n",
    "    df = format_name(df)\n",
    "    df = drop_features(df)\n",
    "    return df"
   ]
  },
  {
   "cell_type": "code",
   "execution_count": 13,
   "metadata": {
    "collapsed": true,
    "deletable": true,
    "editable": true
   },
   "outputs": [
    {
     "data": {
      "text/html": [
       "<div>\n",
       "<style>\n",
       "    .dataframe thead tr:only-child th {\n",
       "        text-align: right;\n",
       "    }\n",
       "\n",
       "    .dataframe thead th {\n",
       "        text-align: left;\n",
       "    }\n",
       "\n",
       "    .dataframe tbody tr th {\n",
       "        vertical-align: top;\n",
       "    }\n",
       "</style>\n",
       "<table border=\"1\" class=\"dataframe\">\n",
       "  <thead>\n",
       "    <tr style=\"text-align: right;\">\n",
       "      <th></th>\n",
       "      <th>PassengerId</th>\n",
       "      <th>Survived</th>\n",
       "      <th>Pclass</th>\n",
       "      <th>Sex</th>\n",
       "      <th>Age</th>\n",
       "      <th>SibSp</th>\n",
       "      <th>Parch</th>\n",
       "      <th>Fare</th>\n",
       "      <th>Cabin</th>\n",
       "      <th>Lname</th>\n",
       "      <th>NamePrefix</th>\n",
       "    </tr>\n",
       "  </thead>\n",
       "  <tbody>\n",
       "    <tr>\n",
       "      <th>0</th>\n",
       "      <td>1</td>\n",
       "      <td>0</td>\n",
       "      <td>3</td>\n",
       "      <td>male</td>\n",
       "      <td>Student</td>\n",
       "      <td>1</td>\n",
       "      <td>0</td>\n",
       "      <td>1_quartile</td>\n",
       "      <td>N</td>\n",
       "      <td>Braund,</td>\n",
       "      <td>Mr.</td>\n",
       "    </tr>\n",
       "    <tr>\n",
       "      <th>1</th>\n",
       "      <td>2</td>\n",
       "      <td>1</td>\n",
       "      <td>1</td>\n",
       "      <td>female</td>\n",
       "      <td>Adult</td>\n",
       "      <td>1</td>\n",
       "      <td>0</td>\n",
       "      <td>4_quartile</td>\n",
       "      <td>C</td>\n",
       "      <td>Cumings,</td>\n",
       "      <td>Mrs.</td>\n",
       "    </tr>\n",
       "    <tr>\n",
       "      <th>2</th>\n",
       "      <td>3</td>\n",
       "      <td>1</td>\n",
       "      <td>3</td>\n",
       "      <td>female</td>\n",
       "      <td>Young Adult</td>\n",
       "      <td>0</td>\n",
       "      <td>0</td>\n",
       "      <td>1_quartile</td>\n",
       "      <td>N</td>\n",
       "      <td>Heikkinen,</td>\n",
       "      <td>Miss.</td>\n",
       "    </tr>\n",
       "    <tr>\n",
       "      <th>3</th>\n",
       "      <td>4</td>\n",
       "      <td>1</td>\n",
       "      <td>1</td>\n",
       "      <td>female</td>\n",
       "      <td>Young Adult</td>\n",
       "      <td>1</td>\n",
       "      <td>0</td>\n",
       "      <td>4_quartile</td>\n",
       "      <td>C</td>\n",
       "      <td>Futrelle,</td>\n",
       "      <td>Mrs.</td>\n",
       "    </tr>\n",
       "    <tr>\n",
       "      <th>4</th>\n",
       "      <td>5</td>\n",
       "      <td>0</td>\n",
       "      <td>3</td>\n",
       "      <td>male</td>\n",
       "      <td>Young Adult</td>\n",
       "      <td>0</td>\n",
       "      <td>0</td>\n",
       "      <td>2_quartile</td>\n",
       "      <td>N</td>\n",
       "      <td>Allen,</td>\n",
       "      <td>Mr.</td>\n",
       "    </tr>\n",
       "  </tbody>\n",
       "</table>\n",
       "</div>"
      ],
      "text/plain": [
       "   PassengerId  Survived  Pclass     Sex          Age  SibSp  Parch  \\\n",
       "0            1         0       3    male      Student      1      0   \n",
       "1            2         1       1  female        Adult      1      0   \n",
       "2            3         1       3  female  Young Adult      0      0   \n",
       "3            4         1       1  female  Young Adult      1      0   \n",
       "4            5         0       3    male  Young Adult      0      0   \n",
       "\n",
       "         Fare Cabin       Lname NamePrefix  \n",
       "0  1_quartile     N     Braund,        Mr.  \n",
       "1  4_quartile     C    Cumings,       Mrs.  \n",
       "2  1_quartile     N  Heikkinen,      Miss.  \n",
       "3  4_quartile     C   Futrelle,       Mrs.  \n",
       "4  2_quartile     N      Allen,        Mr.  "
      ]
     },
     "execution_count": 13,
     "metadata": {},
     "output_type": "execute_result"
    }
   ],
   "source": [
    "data_train=transform_features(data_train)\n",
    "data_test=transform_features(data_test)\n",
    "data_train.head()"
   ]
  },
  {
   "cell_type": "code",
   "execution_count": 17,
   "metadata": {
    "collapsed": true,
    "deletable": true,
    "editable": true
   },
   "outputs": [
    {
     "data": {
      "text/plain": [
       "<matplotlib.axes._subplots.AxesSubplot at 0x99f97f0>"
      ]
     },
     "execution_count": 17,
     "metadata": {},
     "output_type": "execute_result"
    },
    {
     "data": {
      "image/png": "[encoded data removed]",
      "text/plain": [
       "<matplotlib.figure.Figure at 0xabd4da0>"
      ]
     },
     "metadata": {},
     "output_type": "display_data"
    }
   ],
   "source": [
    "sns.barplot('Age','Survived',hue='Sex',data=data_train)"
   ]
  },
  {
   "cell_type": "code",
   "execution_count": 23,
   "metadata": {
    "collapsed": true
   },
   "outputs": [
    {
     "data": {
      "text/plain": [
       "<matplotlib.axes._subplots.AxesSubplot at 0xb44a320>"
      ]
     },
     "execution_count": 23,
     "metadata": {},
     "output_type": "execute_result"
    },
    {
     "data": {
      "image/png": "[encoded data removed]",
      "text/plain": [
       "<matplotlib.figure.Figure at 0xb0b6e48>"
      ]
     },
     "metadata": {},
     "output_type": "display_data"
    }
   ],
   "source": [
    "sns.barplot('Sex','Survived',data=data_train)"
   ]
  },
  {
   "cell_type": "code",
   "execution_count": 18,
   "metadata": {
    "collapsed": true,
    "deletable": true,
    "editable": true
   },
   "outputs": [
    {
     "data": {
      "text/plain": [
       "<matplotlib.axes._subplots.AxesSubplot at 0xaaa0ef0>"
      ]
     },
     "execution_count": 18,
     "metadata": {},
     "output_type": "execute_result"
    },
    {
     "data": {
      "image/png": "[encoded data removed]",
      "text/plain": [
       "<matplotlib.figure.Figure at 0xab9f8d0>"
      ]
     },
     "metadata": {},
     "output_type": "display_data"
    }
   ],
   "source": [
    "plt.figure(figsize=(10,5))\n",
    "sns.barplot('Cabin','Survived',hue='Sex',data=data_train)"
   ]
  },
  {
   "cell_type": "code",
   "execution_count": 24,
   "metadata": {
    "collapsed": true,
    "deletable": true,
    "editable": true
   },
   "outputs": [],
   "source": [
    "from sklearn.preprocessing import LabelBinarizer,LabelEncoder"
   ]
  },
  {
   "cell_type": "code",
   "execution_count": 31,
   "metadata": {
    "collapsed": true
   },
   "outputs": [
    {
     "data": {
      "text/plain": [
       "array(['Billiard,', 'Capt.', 'Carlo,', 'Col.', 'Cruyssen,', 'Don.', 'Dr.',\n",
       "       'Gordon,', 'Impe,', 'Jonkheer.', 'Major.', 'Master.', 'Melkebeke,',\n",
       "       'Messemaeker,', 'Miss.', 'Mlle.', 'Mme.', 'Mr.', 'Mrs.', 'Ms.',\n",
       "       'Mulder,', 'Pelsmaeker,', 'Planke,', 'Rev.', 'Shawah,', 'Steen,',\n",
       "       'Velde,', 'Walle,', 'der', 'the', 'y'], dtype=object)"
      ]
     },
     "execution_count": 31,
     "metadata": {},
     "output_type": "execute_result"
    }
   ],
   "source": [
    "lb=LabelEncoder()\n",
    "lb.fit(data_train.NamePrefix)\n",
    "lb.classes_"
   ]
  },
  {
   "cell_type": "code",
   "execution_count": 37,
   "metadata": {
    "collapsed": true
   },
   "outputs": [
    {
     "data": {
      "text/plain": [
       "array([17, 18, 14, 18, 17, 17, 17, 11, 18, 18, 14, 14, 17, 17, 14, 18, 11,\n",
       "       17, 22, 18, 17, 17, 14, 17, 14, 18, 17, 17, 14, 17,  5, 18, 14, 17,\n",
       "       17, 17, 17, 17, 22, 14, 18, 18, 17, 14, 14, 17, 17, 14, 17, 18, 11,\n",
       "       17, 18, 18, 17, 17, 14, 17, 14, 11, 17, 14, 17, 11, 17, 11, 18, 17,\n",
       "       14, 17, 17, 14, 17, 17, 17, 17, 17, 17, 11, 14, 17, 17, 14, 17, 14,\n",
       "       18, 17, 17, 14, 17, 17, 17, 17, 17, 17, 17, 17, 17, 18, 17, 14, 17,\n",
       "       17, 17, 17, 17, 14, 17, 17, 14, 17, 14, 17, 14, 14, 17, 17, 17, 17,\n",
       "       14, 17, 17, 17, 14, 17, 11, 17, 17, 14, 17, 17, 17, 18, 18, 17, 17,\n",
       "       14, 17, 17, 17, 18, 14, 18, 17, 17, 17, 17, 14, 17, 23, 23, 18, 17,\n",
       "        0, 17, 17, 14, 17, 17, 11, 17, 18, 17, 17, 11, 11, 18, 18, 17, 17,\n",
       "       28, 11, 14, 17, 17, 17, 11, 14, 17, 17, 14, 17, 11, 11, 14, 17, 18,\n",
       "       17, 17, 17, 18, 17, 14, 11, 18, 14, 17, 17, 14, 14, 27, 17, 17, 17,\n",
       "       17, 14, 17, 17, 14, 17, 17, 14, 17, 17, 17, 14, 14, 17, 14, 17, 17,\n",
       "       17, 17, 17, 17, 17, 17, 17, 17, 14, 18, 17, 17, 14, 17, 14, 17, 14,\n",
       "       17, 17, 14, 14, 17, 17, 17,  6, 14, 18, 17, 23, 17, 18, 17, 17, 18,\n",
       "       18, 18, 14, 14, 18, 17, 11, 17, 17, 14, 17, 17, 17, 18, 14, 17, 17,\n",
       "       18, 17, 14, 14, 14, 17, 11, 18, 17, 17, 21, 17, 17, 17, 20, 17, 17,\n",
       "       14, 14, 18, 17, 14, 17, 17, 17, 14, 17, 18, 14, 17, 17, 14, 17, 11,\n",
       "       14, 30, 17, 14, 14, 14, 18, 17, 17, 14, 18,  6, 14, 18, 17, 17, 14,\n",
       "       18, 17, 14, 17, 18, 18, 14, 14, 17, 17, 22, 18, 17, 17, 14, 17, 17,\n",
       "       11, 14, 17, 17, 17, 14, 14, 18, 11, 17, 17, 17, 17, 17, 17, 25, 14,\n",
       "       14, 14, 14, 17,  2, 18, 17, 17, 17, 18, 18, 14, 16, 17, 17, 17, 17,\n",
       "       14, 18, 14, 17, 17, 17, 14, 14, 17, 18, 17, 17, 11, 14, 17, 14, 17,\n",
       "       17, 17, 14, 18, 17, 14, 17,  6, 18, 17, 17, 14, 17, 14, 17, 17, 11,\n",
       "       17, 14, 17, 17, 14, 17, 17, 18, 18, 14, 17,  8, 17, 17, 17, 18, 17,\n",
       "       17, 18, 14, 17, 17, 17, 18, 18, 17, 17, 14, 14, 18, 17, 17, 18, 17,\n",
       "       17, 19, 17, 11, 14, 17, 14, 10, 17, 17, 17, 17, 17, 17, 17, 18, 14,\n",
       "       17, 17, 17, 17, 17, 17, 17, 17, 17, 17, 14, 17, 17, 18, 18, 14, 17,\n",
       "       17, 17, 17, 14, 11, 17, 17, 18, 17, 14, 18, 17, 17, 11, 17, 17, 17,\n",
       "       17, 17, 17, 14, 17, 18, 17, 17, 14, 14, 14, 14, 30, 18, 17, 17, 17,\n",
       "       17, 17, 17, 18, 17, 17, 18, 17, 18, 17, 14, 17, 17, 18, 17, 17, 14,\n",
       "       17, 17, 17, 14, 17, 17, 18, 14, 14, 10, 14, 17, 14, 14, 14, 14, 17,\n",
       "       17, 17, 18, 30, 17, 11, 17, 17, 17, 17, 14, 17,  7, 17, 18, 13, 17,\n",
       "       17, 17, 17, 14, 17, 17, 18, 17, 17, 17, 18, 17, 14, 17, 17, 14, 18,\n",
       "       18, 17, 14, 18, 17, 17, 17, 14, 17, 17, 17, 17, 17, 18, 17, 14, 17,\n",
       "        8, 14, 17, 17,  7, 18, 17, 17, 17, 17, 17, 17, 17, 18, 14, 18, 17,\n",
       "       14, 17, 17, 14, 17, 18, 14, 17, 17, 17, 17, 17, 17, 17, 23, 14, 17,\n",
       "       17, 17, 17,  6, 17, 14, 14, 17, 17, 18, 17, 17, 15, 14, 17, 14, 17,\n",
       "       17,  3, 17, 14, 17, 14, 17, 14, 14, 17, 17, 18, 17, 17,  6, 17, 17,\n",
       "       17, 17, 17, 17, 17, 17, 18, 18, 17, 17, 17, 17, 17, 17, 14, 18, 17,\n",
       "       14, 17, 17, 17, 17, 17, 17, 17, 17, 14, 17, 14, 17, 17,  3, 17, 17,\n",
       "       14, 17, 17, 18, 17, 14, 17, 17, 17, 18, 17, 14, 11, 15, 17, 17, 17,\n",
       "       17, 17, 14, 14, 17, 17, 14, 17, 17, 17, 17, 17, 18, 14, 17, 14, 14,\n",
       "       17, 17, 17, 17, 17, 18, 17, 17, 17, 17, 17, 14, 17, 17,  1, 17, 14,\n",
       "       17, 17, 14, 11, 26, 17, 18, 11, 17, 17, 17, 29, 17, 17, 17, 18, 17,\n",
       "       18,  6, 14, 17, 17, 17, 17, 18, 17, 18, 17, 17, 14, 17, 18, 14, 18,\n",
       "       17, 17, 17, 17, 14, 11, 11, 17, 17, 17, 14, 17, 17, 17,  6, 18, 24,\n",
       "        8, 17, 18, 11, 11, 17, 17, 17, 14, 17, 18, 17, 17, 17, 14, 17, 17,\n",
       "       14, 17, 17, 11, 18, 17,  9, 18, 11, 17, 17, 11, 17, 18, 18, 11, 17,\n",
       "       17, 17, 14, 17, 17, 17, 17, 17, 17, 14, 17, 17, 17, 17, 17, 23, 18,\n",
       "       11, 17, 14, 14, 18, 18, 18, 17, 18, 17, 17, 17, 18, 14, 17, 18, 30,\n",
       "       17, 12, 11, 17, 18, 17,  4, 18, 14, 17, 17, 17, 18, 18, 17, 14, 17,\n",
       "       17, 18, 23, 14, 14, 17, 17], dtype=int64)"
      ]
     },
     "execution_count": 37,
     "metadata": {},
     "output_type": "execute_result"
    }
   ],
   "source": [
    "lb.fit_transform(data_train.NamePrefix)"
   ]
  },
  {
   "cell_type": "code",
   "execution_count": 33,
   "metadata": {
    "collapsed": true,
    "deletable": true,
    "editable": true
   },
   "outputs": [
    {
     "data": {
      "text/plain": [
       "array(['Billiard,', 'Capt.', 'Carlo,', 'Col.', 'Cruyssen,', 'Don.', 'Dr.',\n",
       "       'Gordon,', 'Impe,', 'Jonkheer.', 'Major.', 'Master.', 'Melkebeke,',\n",
       "       'Messemaeker,', 'Miss.', 'Mlle.', 'Mme.', 'Mr.', 'Mrs.', 'Ms.',\n",
       "       'Mulder,', 'Pelsmaeker,', 'Planke,', 'Rev.', 'Shawah,', 'Steen,',\n",
       "       'Velde,', 'Walle,', 'der', 'the', 'y'], \n",
       "      dtype='<U12')"
      ]
     },
     "execution_count": 33,
     "metadata": {},
     "output_type": "execute_result"
    }
   ],
   "source": [
    "bb=LabelBinarizer()\n",
    "bb.fit_transform(data_train.NamePrefix)\n",
    "bb.classes_"
   ]
  },
  {
   "cell_type": "code",
   "execution_count": 34,
   "metadata": {
    "collapsed": true,
    "deletable": true,
    "editable": true
   },
   "outputs": [
    {
     "data": {
      "text/plain": [
       "array([[0, 0, 0, ..., 0, 0, 0],\n",
       "       [0, 0, 0, ..., 0, 0, 0],\n",
       "       [0, 0, 0, ..., 0, 0, 0],\n",
       "       ..., \n",
       "       [0, 0, 0, ..., 0, 0, 0],\n",
       "       [0, 0, 0, ..., 0, 0, 0],\n",
       "       [0, 0, 0, ..., 0, 0, 0]])"
      ]
     },
     "execution_count": 34,
     "metadata": {},
     "output_type": "execute_result"
    }
   ],
   "source": [
    "bb.transform(data_train.NamePrefix)"
   ]
  },
  {
   "cell_type": "code",
   "execution_count": 35,
   "metadata": {
    "collapsed": true
   },
   "outputs": [
    {
     "data": {
      "text/plain": [
       "array([[0, 0, 1],\n",
       "       [0, 1, 0],\n",
       "       [0, 1, 0],\n",
       "       [0, 0, 1],\n",
       "       [1, 0, 0],\n",
       "       [0, 0, 1],\n",
       "       [1, 0, 0]])"
      ]
     },
     "execution_count": 35,
     "metadata": {},
     "output_type": "execute_result"
    }
   ],
   "source": [
    "bb.fit_transform(['yes', 'no', 'no', 'yes', 'na','yes','na'])"
   ]
  },
  {
   "cell_type": "code",
   "execution_count": 36,
   "metadata": {
    "collapsed": true
   },
   "outputs": [
    {
     "data": {
      "text/plain": [
       "array([[1],\n",
       "       [0],\n",
       "       [0],\n",
       "       [1],\n",
       "       [1]])"
      ]
     },
     "execution_count": 36,
     "metadata": {},
     "output_type": "execute_result"
    }
   ],
   "source": [
    "bb.fit_transform(['yes', 'no', 'no', 'yes', 'yes'])"
   ]
  },
  {
   "cell_type": "code",
   "execution_count": 38,
   "metadata": {
    "collapsed": true,
    "deletable": true,
    "editable": true
   },
   "outputs": [
    {
     "data": {
      "text/html": [
       "<div>\n",
       "<style>\n",
       "    .dataframe thead tr:only-child th {\n",
       "        text-align: right;\n",
       "    }\n",
       "\n",
       "    .dataframe thead th {\n",
       "        text-align: left;\n",
       "    }\n",
       "\n",
       "    .dataframe tbody tr th {\n",
       "        vertical-align: top;\n",
       "    }\n",
       "</style>\n",
       "<table border=\"1\" class=\"dataframe\">\n",
       "  <thead>\n",
       "    <tr style=\"text-align: right;\">\n",
       "      <th></th>\n",
       "      <th>PassengerId</th>\n",
       "      <th>Survived</th>\n",
       "      <th>Pclass</th>\n",
       "      <th>Sex</th>\n",
       "      <th>Age</th>\n",
       "      <th>SibSp</th>\n",
       "      <th>Parch</th>\n",
       "      <th>Fare</th>\n",
       "      <th>Cabin</th>\n",
       "      <th>Lname</th>\n",
       "      <th>NamePrefix</th>\n",
       "    </tr>\n",
       "  </thead>\n",
       "  <tbody>\n",
       "    <tr>\n",
       "      <th>0</th>\n",
       "      <td>1</td>\n",
       "      <td>0</td>\n",
       "      <td>3</td>\n",
       "      <td>1</td>\n",
       "      <td>4</td>\n",
       "      <td>1</td>\n",
       "      <td>0</td>\n",
       "      <td>0</td>\n",
       "      <td>7</td>\n",
       "      <td>100</td>\n",
       "      <td>19</td>\n",
       "    </tr>\n",
       "    <tr>\n",
       "      <th>1</th>\n",
       "      <td>2</td>\n",
       "      <td>1</td>\n",
       "      <td>1</td>\n",
       "      <td>0</td>\n",
       "      <td>0</td>\n",
       "      <td>1</td>\n",
       "      <td>0</td>\n",
       "      <td>3</td>\n",
       "      <td>2</td>\n",
       "      <td>182</td>\n",
       "      <td>20</td>\n",
       "    </tr>\n",
       "    <tr>\n",
       "      <th>2</th>\n",
       "      <td>3</td>\n",
       "      <td>1</td>\n",
       "      <td>3</td>\n",
       "      <td>0</td>\n",
       "      <td>7</td>\n",
       "      <td>0</td>\n",
       "      <td>0</td>\n",
       "      <td>0</td>\n",
       "      <td>7</td>\n",
       "      <td>329</td>\n",
       "      <td>16</td>\n",
       "    </tr>\n",
       "    <tr>\n",
       "      <th>3</th>\n",
       "      <td>4</td>\n",
       "      <td>1</td>\n",
       "      <td>1</td>\n",
       "      <td>0</td>\n",
       "      <td>7</td>\n",
       "      <td>1</td>\n",
       "      <td>0</td>\n",
       "      <td>3</td>\n",
       "      <td>2</td>\n",
       "      <td>267</td>\n",
       "      <td>20</td>\n",
       "    </tr>\n",
       "    <tr>\n",
       "      <th>4</th>\n",
       "      <td>5</td>\n",
       "      <td>0</td>\n",
       "      <td>3</td>\n",
       "      <td>1</td>\n",
       "      <td>7</td>\n",
       "      <td>0</td>\n",
       "      <td>0</td>\n",
       "      <td>1</td>\n",
       "      <td>7</td>\n",
       "      <td>15</td>\n",
       "      <td>19</td>\n",
       "    </tr>\n",
       "  </tbody>\n",
       "</table>\n",
       "</div>"
      ],
      "text/plain": [
       "   PassengerId  Survived  Pclass  Sex  Age  SibSp  Parch  Fare  Cabin  Lname  \\\n",
       "0            1         0       3    1    4      1      0     0      7    100   \n",
       "1            2         1       1    0    0      1      0     3      2    182   \n",
       "2            3         1       3    0    7      0      0     0      7    329   \n",
       "3            4         1       1    0    7      1      0     3      2    267   \n",
       "4            5         0       3    1    7      0      0     1      7     15   \n",
       "\n",
       "   NamePrefix  \n",
       "0          19  \n",
       "1          20  \n",
       "2          16  \n",
       "3          20  \n",
       "4          19  "
      ]
     },
     "execution_count": 38,
     "metadata": {},
     "output_type": "execute_result"
    }
   ],
   "source": [
    "def encode_features(df_train, df_test):\n",
    "    features=['Fare', 'Cabin', 'Age', 'Sex', 'Lname', 'NamePrefix']\n",
    "    df_c=pd.concat([df_train[features],df_test[features]])\n",
    "    \n",
    "    for feature in features:\n",
    "        le=LabelEncoder()\n",
    "        le.fit(df_c[feature])\n",
    "        df_train[feature]=le.transform(df_train[feature])\n",
    "        df_test[feature]=le.transform(df_test[feature])\n",
    "        \n",
    "    return df_train, df_test\n",
    "\n",
    "data_train, data_test = encode_features(data_train, data_test)\n",
    "data_train[:5]"
   ]
  },
  {
   "cell_type": "code",
   "execution_count": 39,
   "metadata": {
    "collapsed": true,
    "deletable": true,
    "editable": true
   },
   "outputs": [],
   "source": [
    "from sklearn.model_selection import train_test_split\n",
    "X=data_train.drop(['Survived','PassengerId'],axis=1).values\n",
    "y=data_train.Survived\n",
    "X_train, X_test, y_train, y_test=train_test_split(X,y,test_size=0.2, random_state=23)"
   ]
  },
  {
   "cell_type": "code",
   "execution_count": 40,
   "metadata": {
    "collapsed": true,
    "deletable": true,
    "editable": true
   },
   "outputs": [],
   "source": [
    "from sklearn.ensemble import RandomForestClassifier\n",
    "from sklearn.metrics import accuracy_score\n",
    "from sklearn.model_selection import GridSearchCV"
   ]
  },
  {
   "cell_type": "code",
   "execution_count": 41,
   "metadata": {
    "collapsed": false
   },
   "outputs": [
    {
     "data": {
      "text/plain": [
       "GridSearchCV(cv=3, error_score='raise',\n",
       "       estimator=RandomForestClassifier(bootstrap=True, class_weight=None, criterion='gini',\n",
       "            max_depth=None, max_features='auto', max_leaf_nodes=None,\n",
       "            min_impurity_split=1e-07, min_samples_leaf=1,\n",
       "            min_samples_split=2, min_weight_fraction_leaf=0.0,\n",
       "            n_estimators=10, n_jobs=1, oob_score=False, random_state=None,\n",
       "            verbose=0, warm_start=False),\n",
       "       fit_params={}, iid=True, n_jobs=1,\n",
       "       param_grid={'n_estimators': [4, 6], 'max_features': ['log2', 'sqrt'], 'criterion': ['entropy', 'gini']},\n",
       "       pre_dispatch='2*n_jobs', refit=True, return_train_score=True,\n",
       "       scoring='accuracy', verbose=0)"
      ]
     },
     "execution_count": 41,
     "metadata": {},
     "output_type": "execute_result"
    }
   ],
   "source": [
    "clf=RandomForestClassifier()\n",
    "params={'n_estimators':[4,6],\n",
    "        'max_features':['log2','sqrt'],\n",
    "        'criterion':['entropy','gini']\n",
    "       }\n",
    "grid=GridSearchCV(clf, params, cv=3, scoring='accuracy')\n",
    "grid.fit(X_train, y_train)"
   ]
  },
  {
   "cell_type": "code",
   "execution_count": 42,
   "metadata": {
    "collapsed": false
   },
   "outputs": [
    {
     "data": {
      "text/plain": [
       "RandomForestClassifier(bootstrap=True, class_weight=None, criterion='entropy',\n",
       "            max_depth=None, max_features='log2', max_leaf_nodes=None,\n",
       "            min_impurity_split=1e-07, min_samples_leaf=1,\n",
       "            min_samples_split=2, min_weight_fraction_leaf=0.0,\n",
       "            n_estimators=6, n_jobs=1, oob_score=False, random_state=None,\n",
       "            verbose=0, warm_start=False)"
      ]
     },
     "execution_count": 42,
     "metadata": {},
     "output_type": "execute_result"
    }
   ],
   "source": [
    "grid.best_estimator_"
   ]
  },
  {
   "cell_type": "code",
   "execution_count": 47,
   "metadata": {
    "collapsed": true
   },
   "outputs": [
    {
     "data": {
      "text/plain": [
       "{'mean_fit_time': array([ 0.02166788,  0.00900054,  0.00733383,  0.00933369,  0.00600044,\n",
       "         0.00900062,  0.00566705,  0.02866832]),\n",
       " 'mean_score_time': array([ 0.00100009,  0.00100009,  0.        ,  0.00100017,  0.00066678,\n",
       "         0.00100001,  0.00100001,  0.00099993]),\n",
       " 'mean_test_score': array([ 0.80477528,  0.80898876,  0.79213483,  0.79634831,  0.78089888,\n",
       "         0.80196629,  0.77668539,  0.8005618 ]),\n",
       " 'mean_train_score': array([ 0.95858892,  0.95927147,  0.95154475,  0.96911381,  0.9515418 ,\n",
       "         0.96839284,  0.95013828,  0.96630087]),\n",
       " 'param_criterion': masked_array(data = ['entropy' 'entropy' 'entropy' 'entropy' 'gini' 'gini' 'gini' 'gini'],\n",
       "              mask = [False False False False False False False False],\n",
       "        fill_value = ?),\n",
       " 'param_max_features': masked_array(data = ['log2' 'log2' 'sqrt' 'sqrt' 'log2' 'log2' 'sqrt' 'sqrt'],\n",
       "              mask = [False False False False False False False False],\n",
       "        fill_value = ?),\n",
       " 'param_n_estimators': masked_array(data = [4 6 4 6 4 6 4 6],\n",
       "              mask = [False False False False False False False False],\n",
       "        fill_value = ?),\n",
       " 'params': ({'criterion': 'entropy',\n",
       "   'max_features': 'log2',\n",
       "   'n_estimators': 4},\n",
       "  {'criterion': 'entropy', 'max_features': 'log2', 'n_estimators': 6},\n",
       "  {'criterion': 'entropy', 'max_features': 'sqrt', 'n_estimators': 4},\n",
       "  {'criterion': 'entropy', 'max_features': 'sqrt', 'n_estimators': 6},\n",
       "  {'criterion': 'gini', 'max_features': 'log2', 'n_estimators': 4},\n",
       "  {'criterion': 'gini', 'max_features': 'log2', 'n_estimators': 6},\n",
       "  {'criterion': 'gini', 'max_features': 'sqrt', 'n_estimators': 4},\n",
       "  {'criterion': 'gini', 'max_features': 'sqrt', 'n_estimators': 6}),\n",
       " 'rank_test_score': array([2, 1, 6, 5, 7, 3, 8, 4]),\n",
       " 'split0_test_score': array([ 0.81512605,  0.79831933,  0.77731092,  0.78991597,  0.76470588,\n",
       "         0.78571429,  0.75630252,  0.81512605]),\n",
       " 'split0_train_score': array([ 0.96624473,  0.95991561,  0.94725738,  0.97468354,  0.9556962 ,\n",
       "         0.97046414,  0.94936709,  0.97257384]),\n",
       " 'split1_test_score': array([ 0.79831933,  0.81092437,  0.78991597,  0.78991597,  0.79831933,\n",
       "         0.78991597,  0.77731092,  0.78991597]),\n",
       " 'split1_train_score': array([ 0.96624473,  0.95991561,  0.9556962 ,  0.97257384,  0.94514768,\n",
       "         0.96202532,  0.94936709,  0.96624473]),\n",
       " 'split2_test_score': array([ 0.80084746,  0.81779661,  0.80932203,  0.80932203,  0.77966102,\n",
       "         0.83050847,  0.79661017,  0.79661017]),\n",
       " 'split2_train_score': array([ 0.94327731,  0.95798319,  0.95168067,  0.96008403,  0.95378151,\n",
       "         0.97268908,  0.95168067,  0.96008403]),\n",
       " 'std_fit_time': array([  2.21573288e-02,   0.00000000e+00,   4.71314168e-04,\n",
       "          4.71314168e-04,   1.12391596e-07,   8.16534738e-04,\n",
       "          4.71426560e-04,   2.85245913e-02]),\n",
       " 'std_score_time': array([  1.12391596e-07,   1.12391596e-07,   0.00000000e+00,\n",
       "          1.94667955e-07,   4.71482745e-04,   1.12391596e-07,\n",
       "          1.12391596e-07,   0.00000000e+00]),\n",
       " 'std_test_score': array([ 0.00740668,  0.00806342,  0.01315349,  0.00913518,  0.01376951,\n",
       "         0.02017067,  0.0164498 ,  0.01067541]),\n",
       " 'std_train_score': array([ 0.01082694,  0.00091095,  0.00344647,  0.00644284,  0.0045884 ,\n",
       "         0.00459323,  0.00109063,  0.0050991 ])}"
      ]
     },
     "execution_count": 47,
     "metadata": {},
     "output_type": "execute_result"
    }
   ],
   "source": [
    "grid.cv_results_"
   ]
  },
  {
   "cell_type": "code",
   "execution_count": 48,
   "metadata": {
    "collapsed": true,
    "deletable": true,
    "editable": true
   },
   "outputs": [],
   "source": [
    "clf=grid.best_estimator_\n",
    "clf.fit(X_train, y_train)\n",
    "y_pred=clf.predict(X_test)"
   ]
  },
  {
   "cell_type": "code",
   "execution_count": 49,
   "metadata": {
    "collapsed": false,
    "deletable": true,
    "editable": true,
    "scrolled": true
   },
   "outputs": [
    {
     "data": {
      "text/plain": [
       "0.7988826815642458"
      ]
     },
     "execution_count": 49,
     "metadata": {},
     "output_type": "execute_result"
    }
   ],
   "source": [
    "accuracy_score(y_test, y_pred)"
   ]
  },
  {
   "cell_type": "code",
   "execution_count": 51,
   "metadata": {
    "collapsed": true
   },
   "outputs": [],
   "source": [
    "from sklearn.model_selection import cross_val_score"
   ]
  },
  {
   "cell_type": "code",
   "execution_count": 54,
   "metadata": {
    "collapsed": false
   },
   "outputs": [
    {
     "data": {
      "text/plain": [
       "array([ 0.87150838,  0.79329609,  0.76271186,  0.81355932])"
      ]
     },
     "execution_count": 54,
     "metadata": {},
     "output_type": "execute_result"
    }
   ],
   "source": [
    "scores=cross_val_score(clf, X_train, y_train, cv=4, scoring='accuracy')\n",
    "scores"
   ]
  },
  {
   "cell_type": "code",
   "execution_count": 50,
   "metadata": {
    "collapsed": true,
    "deletable": true,
    "editable": true
   },
   "outputs": [],
   "source": [
    "from sklearn.model_selection import KFold\n",
    "kf=KFold(n_splits=10)"
   ]
  },
  {
   "cell_type": "code",
   "execution_count": 63,
   "metadata": {
    "collapsed": false
   },
   "outputs": [
    {
     "name": "stdout",
     "output_type": "stream",
     "text": [
      "index result:\n",
      "[3 4 5 6 7 8]\n",
      "[0 1 2]\n",
      "index result:\n",
      "[0 1 2 6 7 8]\n",
      "[3 4 5]\n",
      "index result:\n",
      "[0 1 2 3 4 5]\n",
      "[6 7 8]\n"
     ]
    }
   ],
   "source": [
    "kf1=KFold(n_splits=3)\n",
    "a=np.array([1,3,5,7,9,11,13,15,17])\n",
    "b=np.array([2,4,6,8,10,12,14,16,18])\n",
    "for train_index, test_index in kf1.split(a):\n",
    "    print(\"index result:\")\n",
    "    print(train_index)\n",
    "    print(test_index)"
   ]
  },
  {
   "cell_type": "code",
   "execution_count": 72,
   "metadata": {
    "collapsed": false,
    "deletable": true,
    "editable": true
   },
   "outputs": [
    {
     "name": "stdout",
     "output_type": "stream",
     "text": [
      "Fold 1 accurary: 0.7444\n",
      "Fold 2 accurary: 0.8315\n",
      "Fold 3 accurary: 0.7753\n",
      "Fold 4 accurary: 0.7978\n",
      "Fold 5 accurary: 0.8539\n",
      "Fold 6 accurary: 0.8090\n",
      "Fold 7 accurary: 0.7640\n",
      "Fold 8 accurary: 0.7753\n",
      "Fold 9 accurary: 0.8315\n",
      "Fold 10 accurary: 0.8090\n",
      "Average accuracy: 0.80\n"
     ]
    }
   ],
   "source": [
    "outcome=[]\n",
    "fold=0\n",
    "for train_index, test_index in kf.split(X):\n",
    "    fold+=1\n",
    "    x_tr, y_tr=X[train_index],y[train_index]\n",
    "    x_te,y_te=X[test_index],y[test_index]\n",
    "    clf.fit(x_tr, y_tr)\n",
    "    score=accuracy_score(y_te, clf.predict(x_te))\n",
    "    outcome.append(score)\n",
    "    print('Fold %d accurary: %.4f' % (fold, score))\n",
    "\n",
    "print(\"Average accuracy: %.2f\" % np.mean(outcome))"
   ]
  },
  {
   "cell_type": "code",
   "execution_count": null,
   "metadata": {
    "collapsed": true
   },
   "outputs": [],
   "source": []
  }
 ],
 "metadata": {
  "kernelspec": {
   "display_name": "Python 3",
   "language": "python",
   "name": "python3"
  },
  "language_info": {
   "codemirror_mode": {
    "name": "ipython",
    "version": 3
   },
   "file_extension": ".py",
   "mimetype": "text/x-python",
   "name": "python",
   "nbconvert_exporter": "python",
   "pygments_lexer": "ipython3",
   "version": "3.6.1"
  }
 },
 "nbformat": 4,
 "nbformat_minor": 2
}
