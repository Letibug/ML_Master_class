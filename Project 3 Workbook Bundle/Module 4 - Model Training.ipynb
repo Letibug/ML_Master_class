{
 "cells": [
  {
   "cell_type": "markdown",
   "metadata": {},
   "source": [
    "<h1 style=\"font-size:42px; text-align:center; margin-bottom:30px;\"><span style=\"color:SteelBlue\">Module 4:</span> Model Training</h1>\n",
    "<hr>\n",
    "\n",
    "At last, it's time to build our models! \n",
    "\n",
    "Remember, professional data scientists actually spend the bulk of their time on the 3 steps leading up to this one: \n",
    "1. Exploratory Analysis\n",
    "2. Data Cleaning\n",
    "3. Feature Engineering\n",
    "\n",
    "Again, that's because **better data beats fancier algorithms**.\n",
    "\n",
    "<br><hr id=\"toc\">\n",
    "\n",
    "### In this module...\n",
    "\n",
    "First, we'll load our analytical base table from Module 2. \n",
    "\n",
    "Then, we'll go through the essential modeling steps:\n",
    "\n",
    "1. [Split your dataset](#split)\n",
    "2. [Build model pipelines](#pipelines)\n",
    "3. [Declare hyperparameters to tune](#hyperparameters)\n",
    "4. [Fit and tune models with cross-validation](#fit-tune)\n",
    "5. [Evaluate metrics](#evaluate)\n",
    "6. [Area under ROC curve](#auroc)\n",
    "\n",
    "Finally, we'll save the best model to use in the next module. Since we've seen these steps in Project 2 already, we'll try to speed through most of them. However, we'll spend a little extra time on the last 2 steps because classification tasks require new metrics.\n",
    "\n",
    "<br><hr>"
   ]
  },
  {
   "cell_type": "markdown",
   "metadata": {},
   "source": [
    "### First, let's import libraries, recruit models, and load the ABT.\n",
    "\n",
    "First, let's import the libraries that we'll need."
   ]
  },
  {
   "cell_type": "code",
   "execution_count": 1,
   "metadata": {
    "collapsed": true
   },
   "outputs": [],
   "source": [
    "# print_function for compatibility with Python 3\n",
    "# from __future__ import print_function\n",
    "# NumPy for numerical computing\n",
    "import numpy as np\n",
    "\n",
    "# Pandas for DataFrames\n",
    "import pandas as pd\n",
    "pd.set_option('display.max_columns', 100)\n",
    "\n",
    "\n",
    "# Matplotlib for visualization\n",
    "from matplotlib import pyplot as plt\n",
    "\n",
    "# display plots in the notebook\n",
    "%matplotlib inline \n",
    "\n",
    "\n",
    "# Seaborn for easier visualization\n",
    "import seaborn as sns \n",
    "# Scikit-Learn for Modeling\n",
    "import sklearn \n",
    "# Pickle for saving model files\n",
    "import pickle "
   ]
  },
  {
   "cell_type": "markdown",
   "metadata": {},
   "source": [
    "Next, let's import the algorithms we introduced in Module 3."
   ]
  },
  {
   "cell_type": "code",
   "execution_count": 2,
   "metadata": {
    "collapsed": true
   },
   "outputs": [],
   "source": [
    "# Import Logistic Regression\n",
    "from sklearn.linear_model import LogisticRegression\n",
    "# Import RandomForestClassifier and GradientBoostingClassifer\n",
    "from sklearn.ensemble import RandomForestClassifier, GradientBoostingClassifier"
   ]
  },
  {
   "cell_type": "markdown",
   "metadata": {},
   "source": [
    "Next, let's import the Scikit-Learn functions and helpers we'll need for this module.\n",
    "* Remember, it's OK to just add more imports here as you need them and re-run this cell (it won't change anything else you've done)."
   ]
  },
  {
   "cell_type": "code",
   "execution_count": 3,
   "metadata": {
    "collapsed": true
   },
   "outputs": [],
   "source": [
    "# Function for splitting training and test set\n",
    "from sklearn.model_selection import train_test_split\n",
    "# Function for creating model pipelines\n",
    "from sklearn.pipeline import make_pipeline\n",
    "# For standardization\n",
    "from sklearn.preprocessing import StandardScaler\n",
    "# Helper for cross-validation\n",
    "from sklearn.model_selection import GridSearchCV\n",
    "# Classification metrics (added later)\n",
    "from sklearn.metrics import roc_curve, auc"
   ]
  },
  {
   "cell_type": "markdown",
   "metadata": {},
   "source": [
    "Finally, let's read the analytical base table you saved at the end of Module 2."
   ]
  },
  {
   "cell_type": "code",
   "execution_count": 4,
   "metadata": {
    "collapsed": true
   },
   "outputs": [],
   "source": [
    "# Load analytical base table from Module 2\n",
    "df = pd.read_csv('analytical_base_table.csv')"
   ]
  },
  {
   "cell_type": "markdown",
   "metadata": {},
   "source": [
    "<span id=\"split\"></span>\n",
    "# 1. Split your dataset\n",
    "\n",
    "Just as we did in Project 2, let's start by splitting our data into separate training and test sets. \n",
    "\n",
    "<br>\n",
    "**First, separate the dataframe into separate objects for the target variable, <code style=\"color:steelblue\">y</code>, and the input features, <code style=\"color:steelblue\">X</code>.**"
   ]
  },
  {
   "cell_type": "code",
   "execution_count": 5,
   "metadata": {
    "collapsed": true
   },
   "outputs": [],
   "source": [
    "# Create separate object for target variable\n",
    "y = df.status\n",
    "\n",
    "# Create separate object for input features\n",
    "X = df.drop('status', axis=1)"
   ]
  },
  {
   "cell_type": "markdown",
   "metadata": {},
   "source": [
    "**After you've imported the <code style=\"color:steelblue\">train_test_split()</code> function, split <code style=\"color:steelblue\">X</code> and <code style=\"color:steelblue\">y</code> into training and test sets.**\n",
    "* Pass in the argument <code style=\"color:steelblue\">test_size=<span style=\"color:crimson\">0.2</span></code> to set aside 20% of our observations for the test set.\n",
    "* Pass in <code style=\"color:steelblue\">random_state=<span style=\"color:crimson\">1234</span></code> to set the random state for replicable results.\n",
    "* **Important:** Also pass in the argument <code style=\"color:steelblue\">stratify=<span style=\"color:crimson\">df.status</span></code> in order to make sure the target variable's classes are balanced in each subset of data! This is **stratified random sampling**.\n",
    "* Then, print the number of observations in each subset to check that it was done correctly."
   ]
  },
  {
   "cell_type": "code",
   "execution_count": 6,
   "metadata": {},
   "outputs": [
    {
     "name": "stdout",
     "output_type": "stream",
     "text": [
      "11254 2814 11254 2814\n"
     ]
    }
   ],
   "source": [
    "# Split X and y into train and test sets\n",
    "X_train, X_test, y_train, y_test = train_test_split(X, y, test_size=0.2, random_state=1234, stratify=df.status)\n",
    "\n",
    "# Print number of observations in X_train, X_test, y_train, and y_test\n",
    "print (len(X_train), len(X_test), len(y_train), len(y_test))"
   ]
  },
  {
   "cell_type": "markdown",
   "metadata": {},
   "source": [
    "<p style=\"text-align:center; margin: 40px 0 40px 0; font-weight:bold\">\n",
    "<a href=\"#toc\">Back to Contents</a>\n",
    "</p>"
   ]
  },
  {
   "cell_type": "markdown",
   "metadata": {},
   "source": [
    "<span id=\"pipelines\"></span>\n",
    "# 2. Build model pipelines\n",
    "\n",
    "Next, let's set up preprocessing pipelines for each of our algorithms.\n",
    "\n",
    "<br>\n",
    "**Create a single <span style=\"color:royalblue\">pipeline dictionary</span> with pipelines for each algorithm**.\n",
    "* Use the keys:\n",
    "    * <code style=\"color:crimson\">'l1'</code> for $L_1$-regularized logistic regression\n",
    "    * <code style=\"color:crimson\">'l2'</code> for $L_2$-regularized logistic regression\n",
    "    * <code style=\"color:crimson\">'rf'</code> for random forest\n",
    "    * <code style=\"color:crimson\">'gb'</code> for gradient boosted tree.\n",
    "* Each pipeline should standardize the data first.\n",
    "* Remember to set <code style=\"color:steelblue\">random_state=<span style=\"color:crimson\">123</span></code> for each algorithm to ensure replicable results."
   ]
  },
  {
   "cell_type": "code",
   "execution_count": 7,
   "metadata": {
    "collapsed": true
   },
   "outputs": [],
   "source": [
    "# Pipeline dictionary\n",
    "pipeline_dict = {'l1': make_pipeline(StandardScaler(), LogisticRegression(penalty='l1', random_state=123)), \n",
    "                                     'l2': make_pipeline(StandardScaler(), LogisticRegression(penalty='l2', random_state=123)),\n",
    "                                     'rf': make_pipeline(StandardScaler(), RandomForestClassifier(random_state=123)),\n",
    "                                     'gb': make_pipeline(StandardScaler(), GradientBoostingClassifier(random_state=123))\n",
    "                }"
   ]
  },
  {
   "cell_type": "markdown",
   "metadata": {},
   "source": [
    "<p style=\"text-align:center; margin: 40px 0 40px 0; font-weight:bold\">\n",
    "<a href=\"#toc\">Back to Contents</a>\n",
    "</p>"
   ]
  },
  {
   "cell_type": "markdown",
   "metadata": {},
   "source": [
    "<span id=\"hyperparameters\"></span>\n",
    "# 3. Declare hyperparameters to tune\n",
    "\n",
    "Next, let's declare hyperparameters to tune.\n",
    "\n",
    "<br>\n",
    "**First, list the tunable hyperparameters of your $L_1$-regularized logistic regression pipeline.**"
   ]
  },
  {
   "cell_type": "code",
   "execution_count": 8,
   "metadata": {},
   "outputs": [
    {
     "data": {
      "text/plain": [
       "{'logisticregression': LogisticRegression(C=1.0, class_weight=None, dual=False, fit_intercept=True,\n",
       "           intercept_scaling=1, max_iter=100, multi_class='ovr', n_jobs=1,\n",
       "           penalty='l1', random_state=123, solver='liblinear', tol=0.0001,\n",
       "           verbose=0, warm_start=False),\n",
       " 'logisticregression__C': 1.0,\n",
       " 'logisticregression__class_weight': None,\n",
       " 'logisticregression__dual': False,\n",
       " 'logisticregression__fit_intercept': True,\n",
       " 'logisticregression__intercept_scaling': 1,\n",
       " 'logisticregression__max_iter': 100,\n",
       " 'logisticregression__multi_class': 'ovr',\n",
       " 'logisticregression__n_jobs': 1,\n",
       " 'logisticregression__penalty': 'l1',\n",
       " 'logisticregression__random_state': 123,\n",
       " 'logisticregression__solver': 'liblinear',\n",
       " 'logisticregression__tol': 0.0001,\n",
       " 'logisticregression__verbose': 0,\n",
       " 'logisticregression__warm_start': False,\n",
       " 'standardscaler': StandardScaler(copy=True, with_mean=True, with_std=True),\n",
       " 'standardscaler__copy': True,\n",
       " 'standardscaler__with_mean': True,\n",
       " 'standardscaler__with_std': True,\n",
       " 'steps': [('standardscaler',\n",
       "   StandardScaler(copy=True, with_mean=True, with_std=True)),\n",
       "  ('logisticregression',\n",
       "   LogisticRegression(C=1.0, class_weight=None, dual=False, fit_intercept=True,\n",
       "             intercept_scaling=1, max_iter=100, multi_class='ovr', n_jobs=1,\n",
       "             penalty='l1', random_state=123, solver='liblinear', tol=0.0001,\n",
       "             verbose=0, warm_start=False))]}"
      ]
     },
     "execution_count": 8,
     "metadata": {},
     "output_type": "execute_result"
    }
   ],
   "source": [
    "# List tuneable hyperparameters of our Logistic pipeline\n",
    "pipeline_dict['l1'].get_params()"
   ]
  },
  {
   "cell_type": "markdown",
   "metadata": {},
   "source": [
    "Let's declare the **hyperparameter grids** to tune."
   ]
  },
  {
   "cell_type": "code",
   "execution_count": 9,
   "metadata": {
    "collapsed": true
   },
   "outputs": [],
   "source": [
    "# Logistic Regression hyperparameters\n",
    "l1_hyperparameters = { 'logisticregression__C': np.linspace(1e-3, 1e3, 10)}\n",
    "l2_hyperparameters = { 'logisticregression__C': np.linspace(1e-3, 1e3, 10)}"
   ]
  },
  {
   "cell_type": "markdown",
   "metadata": {},
   "source": [
    "**Declare the hyperparameter grid for the random forest.**"
   ]
  },
  {
   "cell_type": "code",
   "execution_count": 10,
   "metadata": {
    "collapsed": true
   },
   "outputs": [],
   "source": [
    "# Random Forest hyperparameters\n",
    "rf_hyperparameters = { 'randomforestclassifier__n_estimators': [100, 200],\n",
    "                         'randomforestclassifier__max_features': ['auto', 'sqrt', 0.33]}"
   ]
  },
  {
   "cell_type": "markdown",
   "metadata": {},
   "source": [
    "**Declare the hyperparameter grid for the boosted tree.**"
   ]
  },
  {
   "cell_type": "code",
   "execution_count": 11,
   "metadata": {
    "collapsed": true
   },
   "outputs": [],
   "source": [
    "# Boosted Tree hyperparameters\n",
    "gb_hyperparameters = {'gradientboostingclassifier__n_estimators': [100, 200], \n",
    "                    'gradientboostingclassifier__learning_rate': [0.05, 0.1, 0.2], \n",
    "                     'gradientboostingclassifier__max_depth': [1, 3, 5]}"
   ]
  },
  {
   "cell_type": "markdown",
   "metadata": {},
   "source": [
    "**Create a <code style=\"color:steelblue\">hyperparameters</code> dictionary**.\n",
    "* Use the same keys as in the <code style=\"color:steelblue\">pipelines</code> dictionary."
   ]
  },
  {
   "cell_type": "code",
   "execution_count": 12,
   "metadata": {
    "collapsed": true
   },
   "outputs": [],
   "source": [
    "# Create hyperparameters dictionary\n",
    "hp_dict = { 'l1': l1_hyperparameters, 'l2': l2_hyperparameters, 'rf': rf_hyperparameters, 'gb': gb_hyperparameters}"
   ]
  },
  {
   "cell_type": "markdown",
   "metadata": {},
   "source": [
    "<p style=\"text-align:center; margin: 40px 0 40px 0; font-weight:bold\">\n",
    "<a href=\"#toc\">Back to Contents</a>\n",
    "</p>"
   ]
  },
  {
   "cell_type": "markdown",
   "metadata": {},
   "source": [
    "<span id=\"fit-tune\"></span>\n",
    "# 4. Fit and tune models with cross-validation\n",
    "\n",
    "Now that we have our <code style=\"color:steelblue\">pipelines</code> and <code style=\"color:steelblue\">hyperparameters</code> dictionaries declared, we're ready to tune our models with **cross-validation**.\n",
    "\n",
    "<br>\n",
    "**Create a <code style=\"color:SteelBlue\">fitted_models</code> dictionary that includes models that have been tuned using cross-validation.**\n",
    "* The keys should be the same as those in the <code style=\"color:SteelBlue\">pipelines</code> and <code style=\"color:SteelBlue\">hyperparameters</code> dictionaries. \n",
    "* The values should be <code style=\"color:steelblue\">GridSearchCV</code> objects that have been fitted to <code style=\"color:steelblue\">X_train</code> and <code style=\"color:steelblue\">y_train</code>.\n",
    "* After fitting each model, print <code style=\"color:crimson\">'{name} has been fitted.'</code> just to track the progress.\n",
    "* (Optionally) You can set <code style=\"color:steelblue\">n_jobs=<span style=\"color:crimson\">-1</span></code> to use as many cores as available on your computer.\n",
    "\n",
    "This step can take a few minutes, so please be patient."
   ]
  },
  {
   "cell_type": "code",
   "execution_count": 13,
   "metadata": {},
   "outputs": [
    {
     "name": "stdout",
     "output_type": "stream",
     "text": [
      "l1 has been fitted\n",
      "l2 has been fitted\n",
      "rf has been fitted\n",
      "gb has been fitted\n"
     ]
    }
   ],
   "source": [
    "# Create empty dictionary called fitted_models\n",
    "fitted_models = {}\n",
    "\n",
    "# Loop through model pipelines, tuning each one and saving it to fitted_models\n",
    "for name, pipeline in pipeline_dict.items(): \n",
    "    # Create cross-validation object from pipeline and hyperparameters\n",
    "    model = GridSearchCV(pipeline, hp_dict[name], cv=10, n_jobs=-1)\n",
    "    \n",
    "    # Fit model on X_train, y_train\n",
    "    model.fit(X_train, y_train)\n",
    "    \n",
    "    # Store model in fitted_models[name] \n",
    "    fitted_models[name] = model\n",
    "    \n",
    "    # Print '{name} has been fitted'\n",
    "    print(name, 'has been fitted')"
   ]
  },
  {
   "cell_type": "markdown",
   "metadata": {},
   "source": [
    "<span id=\"evaluate\"></span>\n",
    "# 5. Evaluate metrics\n",
    "\n",
    "Finally, it's time to evaluate our models and pick the best one.\n",
    "\n",
    "<br>\n",
    "**First, display the <code style=\"color:steelblue\">best\\_score_</code> attribute for each fitted model.**"
   ]
  },
  {
   "cell_type": "code",
   "execution_count": 14,
   "metadata": {},
   "outputs": [
    {
     "name": "stdout",
     "output_type": "stream",
     "text": [
      "l1 0.849386884663\n",
      "l2 0.849386884663\n",
      "rf 0.979473964813\n",
      "gb 0.975297671939\n"
     ]
    }
   ],
   "source": [
    "# Display best_score_ for each fitted model\n",
    "for name, model in fitted_models.items():\n",
    "    print(name, model.best_score_)"
   ]
  },
  {
   "cell_type": "markdown",
   "metadata": {},
   "source": [
    "If you get different numbers, check to see that you've set the <code style=\"color:steelblue\">random_state=</code> correctly for each of the models.\n",
    "\n",
    "<p style=\"text-align:center; margin: 40px 0 40px 0; font-weight:bold\">\n",
    "<a href=\"#toc\">Back to Contents</a>\n",
    "</p>"
   ]
  },
  {
   "cell_type": "markdown",
   "metadata": {},
   "source": [
    "<span id=\"auroc\"></span>\n",
    "# 6. Area under ROC curve\n",
    "\n",
    "**Area under ROC curve** is the most reliable metric for classification tasks.\n",
    "\n",
    "<br>\n",
    "**Add this import to the top of your Companion Workbook (good practice for keeping all your imports in one place.** \n",
    "* Remember to run the entire code cell afterward."
   ]
  },
  {
   "cell_type": "code",
   "execution_count": 15,
   "metadata": {
    "collapsed": true
   },
   "outputs": [],
   "source": [
    "# Classification metrics\n",
    "from sklearn.metrics import roc_curve, auc"
   ]
  },
  {
   "cell_type": "markdown",
   "metadata": {},
   "source": [
    "Before presenting the idea of an ROC curve, we must first discuss what a **confusion matrix** is. \n",
    "\n",
    "Let's see an example using our $L_1$-regularized logistic regression. \n",
    "* First, let's use <code style=\"color:steelblue\">.predict()</code> to get the predicted classes directly."
   ]
  },
  {
   "cell_type": "code",
   "execution_count": 16,
   "metadata": {},
   "outputs": [
    {
     "data": {
      "text/plain": [
       "array([0, 0, 0, 0, 0, 0, 0, 1, 1, 0])"
      ]
     },
     "execution_count": 16,
     "metadata": {},
     "output_type": "execute_result"
    }
   ],
   "source": [
    "# Predict classes using L1-regularized logistic regression \n",
    "pred = fitted_models['l1'].predict(X_test)\n",
    "\n",
    "# Display first 10 predictions\n",
    "pred[:10]"
   ]
  },
  {
   "cell_type": "markdown",
   "metadata": {},
   "source": [
    "* Next, let's display the confusion matrix:"
   ]
  },
  {
   "cell_type": "code",
   "execution_count": 17,
   "metadata": {},
   "outputs": [
    {
     "data": {
      "text/plain": [
       "array([[1969,  172],\n",
       "       [ 221,  452]])"
      ]
     },
     "execution_count": 17,
     "metadata": {},
     "output_type": "execute_result"
    }
   ],
   "source": [
    "from sklearn.metrics import confusion_matrix\n",
    "confusion_matrix(y_test, pred)"
   ]
  },
  {
   "cell_type": "code",
   "execution_count": 18,
   "metadata": {
    "scrolled": true
   },
   "outputs": [
    {
     "name": "stdout",
     "output_type": "stream",
     "text": [
      "[[1969  172]\n",
      " [ 221  452]]\n"
     ]
    }
   ],
   "source": [
    "# Import confusion_matrix\n",
    "from sklearn.metrics import confusion_matrix\n",
    "\n",
    "# Display confusion matrix for y_test and pred\n",
    "print (confusion_matrix(y_test, pred))"
   ]
  },
  {
   "cell_type": "markdown",
   "metadata": {},
   "source": [
    "Remember, we can predict a **probability** for each class using <code style=\"color:steelblue\">.predict_proba()</code>, instead of the class directly.\n",
    "\n",
    "For example:"
   ]
  },
  {
   "cell_type": "code",
   "execution_count": 18,
   "metadata": {},
   "outputs": [
    {
     "data": {
      "text/plain": [
       "[0.030570068795554472,\n",
       " 0.0044419664512843305,\n",
       " 0.0072962990598296595,\n",
       " 0.08809785247584849,\n",
       " 0.07115093691981729,\n",
       " 0.48160935519679199,\n",
       " 0.12604876356249639,\n",
       " 0.61529465542477224,\n",
       " 0.72665927803055896,\n",
       " 0.13703596119451658]"
      ]
     },
     "execution_count": 18,
     "metadata": {},
     "output_type": "execute_result"
    }
   ],
   "source": [
    "# Predict PROBABILITIES using L1-regularized logistic regression\n",
    "pred = fitted_models['l1'].predict_proba(X_test)\n",
    "\n",
    "# Get just the prediction for the positive class (1)\n",
    "pred = [p[1] for p in pred]\n",
    "\n",
    "# Display first 10 predictions\n",
    "pred[:10]"
   ]
  },
  {
   "cell_type": "markdown",
   "metadata": {},
   "source": [
    "Let's calculate the ROC curve using the <code style=\"color:steelblue\">roc_curve()</code> function that we imported earlier."
   ]
  },
  {
   "cell_type": "code",
   "execution_count": 19,
   "metadata": {
    "collapsed": true
   },
   "outputs": [],
   "source": [
    "# Calculate ROC curve from y_test and pred\n",
    "fpr, tpr, thresholds = roc_curve(y_test, pred)"
   ]
  },
  {
   "cell_type": "code",
   "execution_count": 21,
   "metadata": {
    "collapsed": true
   },
   "outputs": [
    {
     "data": {
      "text/plain": [
       "array([  9.87255075e-01,   9.25461772e-01,   9.16990115e-01,\n",
       "         9.07892409e-01,   8.98039355e-01,   8.90133395e-01,\n",
       "         8.78780851e-01,   8.75033513e-01,   8.73138820e-01,\n",
       "         8.73104644e-01,   8.71874190e-01,   8.71218106e-01,\n",
       "         8.67729531e-01,   8.65653432e-01,   8.61162059e-01,\n",
       "         8.59717409e-01,   8.58766538e-01,   8.56468396e-01,\n",
       "         8.53363521e-01,   8.49235972e-01,   8.42656838e-01,\n",
       "         8.40178089e-01,   8.30565651e-01,   8.30438921e-01,\n",
       "         8.27400584e-01,   8.26485256e-01,   8.23614003e-01,\n",
       "         8.22233621e-01,   8.21863458e-01,   8.20211664e-01,\n",
       "         8.17006830e-01,   8.16261848e-01,   8.14870341e-01,\n",
       "         8.14619973e-01,   8.10875509e-01,   8.10796327e-01,\n",
       "         8.09190460e-01,   8.08756338e-01,   8.04207022e-01,\n",
       "         7.98204059e-01,   7.95300434e-01,   7.94746120e-01,\n",
       "         7.92265649e-01,   7.91994221e-01,   7.90084453e-01,\n",
       "         7.88939814e-01,   7.79620869e-01,   7.78728385e-01,\n",
       "         7.78727511e-01,   7.76945109e-01,   7.76737915e-01,\n",
       "         7.76346285e-01,   7.75829900e-01,   7.75599717e-01,\n",
       "         7.74068935e-01,   7.73678370e-01,   7.70631600e-01,\n",
       "         7.69843882e-01,   7.59713887e-01,   7.59531562e-01,\n",
       "         7.58810304e-01,   7.56485403e-01,   7.52217481e-01,\n",
       "         7.51685651e-01,   7.50753421e-01,   7.49687091e-01,\n",
       "         7.43547343e-01,   7.43270943e-01,   7.34349259e-01,\n",
       "         7.33392917e-01,   7.24160630e-01,   7.23966848e-01,\n",
       "         7.15303326e-01,   7.14918140e-01,   7.14352313e-01,\n",
       "         7.13901991e-01,   7.13532032e-01,   7.13405409e-01,\n",
       "         7.13373406e-01,   7.13316543e-01,   7.10217328e-01,\n",
       "         7.09615358e-01,   7.08917978e-01,   7.07749397e-01,\n",
       "         7.03636605e-01,   7.03017505e-01,   7.02735353e-01,\n",
       "         7.02532357e-01,   7.00173663e-01,   6.99960195e-01,\n",
       "         6.92495237e-01,   6.91846667e-01,   6.91773894e-01,\n",
       "         6.90513193e-01,   6.87900598e-01,   6.87208426e-01,\n",
       "         6.72141654e-01,   6.71424820e-01,   6.69770025e-01,\n",
       "         6.69135528e-01,   6.68203190e-01,   6.67678016e-01,\n",
       "         6.59211968e-01,   6.58143604e-01,   6.55882912e-01,\n",
       "         6.54276763e-01,   6.54246822e-01,   6.53891616e-01,\n",
       "         6.46903084e-01,   6.46215318e-01,   6.39949900e-01,\n",
       "         6.38342443e-01,   6.33671056e-01,   6.32877777e-01,\n",
       "         6.29335916e-01,   6.29129846e-01,   6.25034283e-01,\n",
       "         6.23196822e-01,   6.22969585e-01,   6.22932757e-01,\n",
       "         6.21950623e-01,   6.21782469e-01,   6.18294614e-01,\n",
       "         6.17125291e-01,   6.16250720e-01,   6.16130583e-01,\n",
       "         6.15947412e-01,   6.15739995e-01,   6.15296958e-01,\n",
       "         6.15249602e-01,   6.14479707e-01,   6.14267195e-01,\n",
       "         6.13689212e-01,   6.11503442e-01,   6.08729583e-01,\n",
       "         6.08482796e-01,   6.07263712e-01,   6.05963996e-01,\n",
       "         6.04128262e-01,   6.02492250e-01,   6.01687543e-01,\n",
       "         6.01646844e-01,   6.01465819e-01,   6.00497692e-01,\n",
       "         6.00223465e-01,   5.99067431e-01,   5.98563601e-01,\n",
       "         5.97872194e-01,   5.94383112e-01,   5.94318739e-01,\n",
       "         5.93429269e-01,   5.92765897e-01,   5.91003072e-01,\n",
       "         5.88052897e-01,   5.87824104e-01,   5.87168484e-01,\n",
       "         5.86915693e-01,   5.85825398e-01,   5.85666361e-01,\n",
       "         5.84618367e-01,   5.79817739e-01,   5.78989165e-01,\n",
       "         5.76862982e-01,   5.76286605e-01,   5.73072031e-01,\n",
       "         5.73032965e-01,   5.72165493e-01,   5.71155443e-01,\n",
       "         5.69909426e-01,   5.69693997e-01,   5.67209146e-01,\n",
       "         5.66904062e-01,   5.65271827e-01,   5.65042213e-01,\n",
       "         5.62158472e-01,   5.61234262e-01,   5.58427634e-01,\n",
       "         5.58398440e-01,   5.58058534e-01,   5.57862668e-01,\n",
       "         5.56431937e-01,   5.56330052e-01,   5.48343749e-01,\n",
       "         5.48211249e-01,   5.46646951e-01,   5.46303431e-01,\n",
       "         5.42967962e-01,   5.42590498e-01,   5.41084740e-01,\n",
       "         5.40684884e-01,   5.39866861e-01,   5.37506946e-01,\n",
       "         5.37438791e-01,   5.36515168e-01,   5.34677682e-01,\n",
       "         5.34327895e-01,   5.33882977e-01,   5.33594073e-01,\n",
       "         5.30772185e-01,   5.30629575e-01,   5.29244505e-01,\n",
       "         5.28936690e-01,   5.25103292e-01,   5.25043376e-01,\n",
       "         5.24883632e-01,   5.23955938e-01,   5.22841914e-01,\n",
       "         5.18801551e-01,   5.18025357e-01,   5.16518962e-01,\n",
       "         5.15203324e-01,   5.14851395e-01,   5.14346084e-01,\n",
       "         5.14112748e-01,   5.11669329e-01,   5.10366368e-01,\n",
       "         5.08996261e-01,   5.08813671e-01,   5.07662451e-01,\n",
       "         5.06743625e-01,   5.05387970e-01,   5.02473028e-01,\n",
       "         4.96813063e-01,   4.96644833e-01,   4.95256521e-01,\n",
       "         4.95195533e-01,   4.94347610e-01,   4.92597787e-01,\n",
       "         4.91730350e-01,   4.90891699e-01,   4.90273508e-01,\n",
       "         4.89219139e-01,   4.85065156e-01,   4.84948463e-01,\n",
       "         4.84841987e-01,   4.84825240e-01,   4.82918646e-01,\n",
       "         4.82154942e-01,   4.81686958e-01,   4.81611988e-01,\n",
       "         4.81158111e-01,   4.80175850e-01,   4.78707436e-01,\n",
       "         4.77625799e-01,   4.75197570e-01,   4.73801251e-01,\n",
       "         4.73647867e-01,   4.72057126e-01,   4.70005991e-01,\n",
       "         4.67323399e-01,   4.66577781e-01,   4.65003618e-01,\n",
       "         4.64840513e-01,   4.63849707e-01,   4.63610151e-01,\n",
       "         4.63068983e-01,   4.62115532e-01,   4.62039683e-01,\n",
       "         4.62031860e-01,   4.61642442e-01,   4.60634559e-01,\n",
       "         4.60347581e-01,   4.60314786e-01,   4.59906466e-01,\n",
       "         4.59853615e-01,   4.59567162e-01,   4.58121673e-01,\n",
       "         4.57664158e-01,   4.57518373e-01,   4.56679128e-01,\n",
       "         4.56213039e-01,   4.56067554e-01,   4.54468339e-01,\n",
       "         4.51894380e-01,   4.51496278e-01,   4.51069124e-01,\n",
       "         4.50068181e-01,   4.50062599e-01,   4.48773754e-01,\n",
       "         4.47907842e-01,   4.47400274e-01,   4.47318390e-01,\n",
       "         4.47159840e-01,   4.46778713e-01,   4.46354201e-01,\n",
       "         4.45275320e-01,   4.44654824e-01,   4.43997342e-01,\n",
       "         4.43148969e-01,   4.42665260e-01,   4.42572763e-01,\n",
       "         4.38519361e-01,   4.36920388e-01,   4.35839386e-01,\n",
       "         4.30863525e-01,   4.30849664e-01,   4.30280448e-01,\n",
       "         4.23849002e-01,   4.23414060e-01,   4.21518201e-01,\n",
       "         4.21125564e-01,   4.19114633e-01,   4.18168456e-01,\n",
       "         4.17515592e-01,   4.15231223e-01,   4.14480921e-01,\n",
       "         4.12025277e-01,   4.09694311e-01,   4.08225498e-01,\n",
       "         4.07835267e-01,   4.07792403e-01,   4.06234225e-01,\n",
       "         4.06119063e-01,   4.05671972e-01,   4.05283876e-01,\n",
       "         4.02909128e-01,   4.01134517e-01,   4.00304285e-01,\n",
       "         3.99347097e-01,   3.98138870e-01,   3.97073641e-01,\n",
       "         3.96665814e-01,   3.95533341e-01,   3.94759908e-01,\n",
       "         3.93172025e-01,   3.92760160e-01,   3.91710475e-01,\n",
       "         3.90509974e-01,   3.90406654e-01,   3.87850926e-01,\n",
       "         3.87717710e-01,   3.87092994e-01,   3.86801806e-01,\n",
       "         3.85582048e-01,   3.82478928e-01,   3.80847317e-01,\n",
       "         3.80709373e-01,   3.79570962e-01,   3.79112159e-01,\n",
       "         3.76567241e-01,   3.75145927e-01,   3.73274417e-01,\n",
       "         3.72252231e-01,   3.70962774e-01,   3.70806190e-01,\n",
       "         3.69230741e-01,   3.69019113e-01,   3.66405039e-01,\n",
       "         3.65834768e-01,   3.65830091e-01,   3.65682648e-01,\n",
       "         3.65602034e-01,   3.65274737e-01,   3.59366571e-01,\n",
       "         3.55573974e-01,   3.52395086e-01,   3.51742667e-01,\n",
       "         3.51593092e-01,   3.49076981e-01,   3.48287866e-01,\n",
       "         3.45761502e-01,   3.41865741e-01,   3.41380638e-01,\n",
       "         3.41150839e-01,   3.40695196e-01,   3.40497369e-01,\n",
       "         3.39705148e-01,   3.39506099e-01,   3.38237676e-01,\n",
       "         3.38046668e-01,   3.36920941e-01,   3.33636231e-01,\n",
       "         3.33489489e-01,   3.33274560e-01,   3.33204021e-01,\n",
       "         3.31168595e-01,   3.29004368e-01,   3.27398557e-01,\n",
       "         3.26379634e-01,   3.24192907e-01,   3.23814070e-01,\n",
       "         3.23397758e-01,   3.22524785e-01,   3.21501528e-01,\n",
       "         3.18084277e-01,   3.03613507e-01,   3.03027269e-01,\n",
       "         2.99447369e-01,   2.98596713e-01,   2.97118284e-01,\n",
       "         2.93734784e-01,   2.89774374e-01,   2.88484884e-01,\n",
       "         2.84428748e-01,   2.82297986e-01,   2.79371060e-01,\n",
       "         2.79001341e-01,   2.70863762e-01,   2.70855368e-01,\n",
       "         2.67471843e-01,   2.66722907e-01,   2.61336446e-01,\n",
       "         2.61177240e-01,   2.59328239e-01,   2.59079871e-01,\n",
       "         2.55148042e-01,   2.54294516e-01,   2.48168119e-01,\n",
       "         2.47044897e-01,   2.43044064e-01,   2.42234193e-01,\n",
       "         2.32656722e-01,   2.31729228e-01,   2.31105600e-01,\n",
       "         2.30382787e-01,   2.22281540e-01,   2.21935880e-01,\n",
       "         2.21918489e-01,   2.21917506e-01,   2.21445503e-01,\n",
       "         2.20867302e-01,   2.18977110e-01,   2.18932292e-01,\n",
       "         2.17187774e-01,   2.16929445e-01,   2.15368794e-01,\n",
       "         2.14036139e-01,   2.06944470e-01,   2.04757558e-01,\n",
       "         2.02867790e-01,   2.02403162e-01,   2.01041145e-01,\n",
       "         2.00860962e-01,   1.92622081e-01,   1.92454904e-01,\n",
       "         1.91910952e-01,   1.91597579e-01,   1.87079653e-01,\n",
       "         1.86556384e-01,   1.84396512e-01,   1.84165420e-01,\n",
       "         1.79064331e-01,   1.78654070e-01,   1.66986610e-01,\n",
       "         1.66975776e-01,   1.64393319e-01,   1.63854473e-01,\n",
       "         1.63160110e-01,   1.62956943e-01,   1.62668694e-01,\n",
       "         1.60913876e-01,   1.56821589e-01,   1.56809893e-01,\n",
       "         1.55281053e-01,   1.55143446e-01,   1.54513115e-01,\n",
       "         1.54158694e-01,   1.52479872e-01,   1.52377126e-01,\n",
       "         1.52124178e-01,   1.52069791e-01,   1.50874242e-01,\n",
       "         1.50819119e-01,   1.41179293e-01,   1.40516075e-01,\n",
       "         1.38885405e-01,   1.38666661e-01,   1.32511582e-01,\n",
       "         1.31891550e-01,   1.30844477e-01,   1.30719853e-01,\n",
       "         1.30132382e-01,   1.29647382e-01,   1.28285380e-01,\n",
       "         1.28004662e-01,   1.27815018e-01,   1.26514583e-01,\n",
       "         1.26097312e-01,   1.26051508e-01,   1.22320434e-01,\n",
       "         1.21419675e-01,   1.13398499e-01,   1.12210851e-01,\n",
       "         1.02327411e-01,   1.02008942e-01,   9.92094727e-02,\n",
       "         9.82994353e-02,   8.64897587e-02,   8.63821397e-02,\n",
       "         8.36792916e-02,   8.31964933e-02,   8.01599513e-02,\n",
       "         7.99167467e-02,   6.03045085e-02,   6.02703369e-02,\n",
       "         5.74638639e-02,   5.73529433e-02,   5.63571005e-02,\n",
       "         5.63498544e-02,   4.43275943e-02,   4.41639825e-02,\n",
       "         4.07973383e-02,   4.07845733e-02,   3.91808093e-02,\n",
       "         3.91436254e-02,   3.90381625e-02,   3.87542887e-02,\n",
       "         3.09061976e-02,   3.07739434e-02,   3.05703493e-02,\n",
       "         3.05465382e-02,   2.79522298e-02,   2.78884977e-02,\n",
       "         2.65686050e-02,   2.64431964e-02,   2.34524253e-02,\n",
       "         2.33959642e-02,   1.98778202e-02,   1.98238196e-02,\n",
       "         1.76868115e-02,   1.75945680e-02,   1.61899008e-02,\n",
       "         1.61022712e-02,   1.43694852e-02,   1.43050253e-02,\n",
       "         1.22012759e-02,   1.21551254e-02,   1.18569256e-02,\n",
       "         1.18473276e-02,   9.63529788e-03,   9.62744350e-03,\n",
       "         8.12042263e-03,   8.07670198e-03,   1.96257239e-03,\n",
       "         1.95049031e-03,   1.39348754e-03,   1.38766790e-03,\n",
       "         1.05065982e-03,   1.04000475e-03,   2.67896718e-05])"
      ]
     },
     "execution_count": 21,
     "metadata": {},
     "output_type": "execute_result"
    }
   ],
   "source": [
    "thresholds"
   ]
  },
  {
   "cell_type": "markdown",
   "metadata": {},
   "source": [
    "We can throw these into a DataFrame for convenience and look at the last 10:"
   ]
  },
  {
   "cell_type": "code",
   "execution_count": 20,
   "metadata": {},
   "outputs": [
    {
     "data": {
      "text/html": [
       "<div>\n",
       "<style>\n",
       "    .dataframe thead tr:only-child th {\n",
       "        text-align: right;\n",
       "    }\n",
       "\n",
       "    .dataframe thead th {\n",
       "        text-align: left;\n",
       "    }\n",
       "\n",
       "    .dataframe tbody tr th {\n",
       "        vertical-align: top;\n",
       "    }\n",
       "</style>\n",
       "<table border=\"1\" class=\"dataframe\">\n",
       "  <thead>\n",
       "    <tr style=\"text-align: right;\">\n",
       "      <th></th>\n",
       "      <th>FPR</th>\n",
       "      <th>TPR</th>\n",
       "      <th>Thresholds</th>\n",
       "    </tr>\n",
       "  </thead>\n",
       "  <tbody>\n",
       "    <tr>\n",
       "      <th>532</th>\n",
       "      <td>0.759925</td>\n",
       "      <td>0.994056</td>\n",
       "      <td>0.009627</td>\n",
       "    </tr>\n",
       "    <tr>\n",
       "      <th>533</th>\n",
       "      <td>0.784680</td>\n",
       "      <td>0.994056</td>\n",
       "      <td>0.008120</td>\n",
       "    </tr>\n",
       "    <tr>\n",
       "      <th>534</th>\n",
       "      <td>0.784680</td>\n",
       "      <td>0.995542</td>\n",
       "      <td>0.008076</td>\n",
       "    </tr>\n",
       "    <tr>\n",
       "      <th>535</th>\n",
       "      <td>0.910322</td>\n",
       "      <td>0.995542</td>\n",
       "      <td>0.001962</td>\n",
       "    </tr>\n",
       "    <tr>\n",
       "      <th>536</th>\n",
       "      <td>0.910322</td>\n",
       "      <td>0.997028</td>\n",
       "      <td>0.001950</td>\n",
       "    </tr>\n",
       "    <tr>\n",
       "      <th>537</th>\n",
       "      <td>0.932742</td>\n",
       "      <td>0.997028</td>\n",
       "      <td>0.001393</td>\n",
       "    </tr>\n",
       "    <tr>\n",
       "      <th>538</th>\n",
       "      <td>0.932742</td>\n",
       "      <td>0.998514</td>\n",
       "      <td>0.001388</td>\n",
       "    </tr>\n",
       "    <tr>\n",
       "      <th>539</th>\n",
       "      <td>0.949089</td>\n",
       "      <td>0.998514</td>\n",
       "      <td>0.001051</td>\n",
       "    </tr>\n",
       "    <tr>\n",
       "      <th>540</th>\n",
       "      <td>0.949089</td>\n",
       "      <td>1.000000</td>\n",
       "      <td>0.001040</td>\n",
       "    </tr>\n",
       "    <tr>\n",
       "      <th>541</th>\n",
       "      <td>1.000000</td>\n",
       "      <td>1.000000</td>\n",
       "      <td>0.000027</td>\n",
       "    </tr>\n",
       "  </tbody>\n",
       "</table>\n",
       "</div>"
      ],
      "text/plain": [
       "          FPR       TPR  Thresholds\n",
       "532  0.759925  0.994056    0.009627\n",
       "533  0.784680  0.994056    0.008120\n",
       "534  0.784680  0.995542    0.008076\n",
       "535  0.910322  0.995542    0.001962\n",
       "536  0.910322  0.997028    0.001950\n",
       "537  0.932742  0.997028    0.001393\n",
       "538  0.932742  0.998514    0.001388\n",
       "539  0.949089  0.998514    0.001051\n",
       "540  0.949089  1.000000    0.001040\n",
       "541  1.000000  1.000000    0.000027"
      ]
     },
     "execution_count": 20,
     "metadata": {},
     "output_type": "execute_result"
    }
   ],
   "source": [
    "# Store fpr, tpr, thresholds in DataFrame and display last 10\n",
    "pd.DataFrame({'FPR': fpr, 'TPR': tpr, 'Thresholds': thresholds}).tail(10)"
   ]
  },
  {
   "cell_type": "markdown",
   "metadata": {},
   "source": [
    "As you can see, as you decrease the threshold, both the false positive rate **and** the true positive rate increase.\n",
    "\n",
    "We can plot the entire curve."
   ]
  },
  {
   "cell_type": "code",
   "execution_count": 21,
   "metadata": {},
   "outputs": [
    {
     "data": {
      "image/png": "[encoded data removed]",
      "text/plain": [
       "<matplotlib.figure.Figure at 0x10d2fb080>"
      ]
     },
     "metadata": {},
     "output_type": "display_data"
    }
   ],
   "source": [
    "# Initialize figure\n",
    "fig = plt.figure(figsize=(8,8))\n",
    "plt.title('Receiver Operating Characteristic')\n",
    "\n",
    "# Plot ROC curve\n",
    "plt.plot(fpr, tpr, label='l1')\n",
    "plt.legend(loc='lower right')\n",
    "\n",
    "# Diagonal 45 degree line\n",
    "plt.plot([0,1],[0,1], 'k--')\n",
    "\n",
    "# Axes limits and labels\n",
    "plt.xlim([-0.1, 1.1])\n",
    "plt.ylim([-0.1, 1.1])\n",
    "plt.ylabel('True Position Rate')\n",
    "plt.xlabel('False Positive Rate')\n",
    "plt.show()\n"
   ]
  },
  {
   "cell_type": "markdown",
   "metadata": {},
   "source": [
    "To calculate AUROC, use the <code style=\"color:steelblue\">auc()</code> function we imported earlier in conjunction with the <code style=\"color:steelblue\">roc_curve()</code> function."
   ]
  },
  {
   "cell_type": "code",
   "execution_count": 26,
   "metadata": {},
   "outputs": [
    {
     "name": "stdout",
     "output_type": "stream",
     "text": [
      "0.901539531388\n"
     ]
    }
   ],
   "source": [
    "# Calculate ROC curve\n",
    "fpr, tpr, thresholds = roc_curve(y_test, pred)\n",
    "# Calculate AUROC\n",
    "print(auc(fpr, tpr))"
   ]
  },
  {
   "cell_type": "markdown",
   "metadata": {},
   "source": [
    "Now that we've taken a detour to dive into some of the intuition behind AUROC, let's calculate it for each of our fitted models on the test set.\n",
    "\n",
    "<br>\n",
    "**Using a <code style=\"color:SteelBlue\">for</code> loop, print the performance of each model in <code style=\"color:SteelBlue\">fitted_models</code> on the test set.**\n",
    "* Print the <code style=\"color:SteelBlue\">auc</code> of the <code style=\"color:SteelBlue\">roc_curve</code>.\n",
    "* Label the output with the name of the algorithm. For example:\n",
    "\n",
    "<pre style=\"color:crimson\">\n",
    "rf 0.991520189216\n",
    "</pre>"
   ]
  },
  {
   "cell_type": "code",
   "execution_count": 27,
   "metadata": {},
   "outputs": [
    {
     "name": "stdout",
     "output_type": "stream",
     "text": [
      "l1 0.901539531388\n",
      "l2 0.901538837374\n",
      "rf 0.991190185531\n",
      "gb 0.989336473978\n"
     ]
    }
   ],
   "source": [
    "# Code here\n",
    "for name, model in fitted_models.items():\n",
    "    pred = model.predict_proba(X_test)\n",
    "    pred = [p[1] for p in pred]\n",
    "    \n",
    "    fpr, tpr, thresholds = roc_curve(y_test, pred)\n",
    "    print(name, auc(fpr, tpr))\n"
   ]
  },
  {
   "cell_type": "markdown",
   "metadata": {},
   "source": [
    "**Finally, save the winning <code style=\"color:steelblue\">Pipeline</code> object into a pickle file.**\n",
    "* Just save the <code style=\"color:steelblue\">Pipeline</code>, not the <code style=\"color:steelblue\">GridSearchCV</code> object.\n",
    "* **Hint:** Remember the <code style=\"color:steelblue\">.best\\_estimator_</code> attribute?"
   ]
  },
  {
   "cell_type": "code",
   "execution_count": 22,
   "metadata": {
    "collapsed": true
   },
   "outputs": [],
   "source": [
    "# Save winning model as final_model.pkl\n",
    "with open('final_model1.pkl', 'wb') as f:\n",
    "    pickle.dump(fitted_models['rf'].best_estimator_, f)"
   ]
  },
  {
   "cell_type": "markdown",
   "metadata": {},
   "source": [
    "<p style=\"text-align:center; margin: 40px 0 40px 0; font-weight:bold\">\n",
    "<a href=\"#toc\">Back to Contents</a>\n",
    "</p>"
   ]
  },
  {
   "cell_type": "markdown",
   "metadata": {},
   "source": [
    "<br>\n",
    "## Next Steps\n",
    "\n",
    "Congratulations for making through Project 3's Model Training module!\n",
    "\n",
    "As a reminder, here are a few things you did in this module:\n",
    "* You split your dataset into training and test sets.\n",
    "* You set up model pipelines and hyperparameter grids.\n",
    "* You tuned your models using cross-validation.\n",
    "* You learned about how AUROC is a more effective metric for classification than simple accuracy.\n",
    "* And finally, you saved the winning model.\n",
    "\n",
    "In the next module, <span style=\"color:royalblue\">Module 5: Project Delivery</span>, we'll see how you can go the extra mile in terms of project delivery. That includes preparing to apply your model to raw data and packaging it up into an executable script.\n",
    "\n",
    "<p style=\"text-align:center; margin: 40px 0 40px 0; font-weight:bold\">\n",
    "<a href=\"#toc\">Back to Contents</a>\n",
    "</p>"
   ]
  }
 ],
 "metadata": {
  "anaconda-cloud": {},
  "kernelspec": {
   "display_name": "Python 3",
   "language": "python",
   "name": "python3"
  },
  "language_info": {
   "codemirror_mode": {
    "name": "ipython",
    "version": 3
   },
   "file_extension": ".py",
   "mimetype": "text/x-python",
   "name": "python",
   "nbconvert_exporter": "python",
   "pygments_lexer": "ipython3",
   "version": "3.6.1"
  }
 },
 "nbformat": 4,
 "nbformat_minor": 1
}
